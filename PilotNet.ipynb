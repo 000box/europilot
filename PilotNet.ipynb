{
 "cells": [
  {
   "cell_type": "markdown",
   "metadata": {},
   "source": [
    "## Implementation of PilotNet, with variation\n",
    "\n",
    "Implement [PilotNet](https://arxiv.org/pdf/1604.07316.pdf) using Keras (with theano backend), with various differences"
   ]
  },
  {
   "cell_type": "code",
   "execution_count": 1,
   "metadata": {
    "scrolled": true
   },
   "outputs": [
    {
     "name": "stderr",
     "output_type": "stream",
     "text": [
      "WARNING (theano.sandbox.cuda): The cuda backend is deprecated and will be removed in the next release (v0.10).  Please switch to the gpuarray backend. You can get more information about how to switch at this URL:\n",
      " https://github.com/Theano/Theano/wiki/Converting-to-the-new-gpu-back-end%28gpuarray%29\n",
      "\n",
      "Using gpu device 0: GeForce GTX 1080 (CNMeM is enabled with initial size: 90.0% of memory, cuDNN 5110)\n",
      "WARNING (theano.sandbox.cuda): The cuda backend is deprecated and will be removed in the next release (v0.10).  Please switch to the gpuarray backend. You can get more information about how to switch at this URL:\n",
      " https://github.com/Theano/Theano/wiki/Converting-to-the-new-gpu-back-end%28gpuarray%29\n",
      "\n"
     ]
    }
   ],
   "source": [
    "from theano.sandbox import cuda\n",
    "cuda.use('gpu0')"
   ]
  },
  {
   "cell_type": "code",
   "execution_count": 2,
   "metadata": {},
   "outputs": [
    {
     "name": "stderr",
     "output_type": "stream",
     "text": [
      "Using Theano backend.\n"
     ]
    }
   ],
   "source": [
    "%matplotlib inline\n",
    "import utils; reload(utils)\n",
    "from utils import *"
   ]
  },
  {
   "cell_type": "markdown",
   "metadata": {},
   "source": [
    "### Check data format\n",
    "\n",
    "train using udacity data"
   ]
  },
  {
   "cell_type": "markdown",
   "metadata": {},
   "source": [
    "check the csv output"
   ]
  },
  {
   "cell_type": "code",
   "execution_count": 3,
   "metadata": {
    "scrolled": false
   },
   "outputs": [
    {
     "data": {
      "text/html": [
       "<div>\n",
       "<style>\n",
       "    .dataframe thead tr:only-child th {\n",
       "        text-align: right;\n",
       "    }\n",
       "\n",
       "    .dataframe thead th {\n",
       "        text-align: left;\n",
       "    }\n",
       "\n",
       "    .dataframe tbody tr th {\n",
       "        vertical-align: top;\n",
       "    }\n",
       "</style>\n",
       "<table border=\"1\" class=\"dataframe\">\n",
       "  <thead>\n",
       "    <tr style=\"text-align: right;\">\n",
       "      <th></th>\n",
       "      <th>Center</th>\n",
       "      <th>Left</th>\n",
       "      <th>Right</th>\n",
       "      <th>Steering Angle</th>\n",
       "      <th>Throttle</th>\n",
       "      <th>Break</th>\n",
       "      <th>Speed</th>\n",
       "    </tr>\n",
       "  </thead>\n",
       "  <tbody>\n",
       "    <tr>\n",
       "      <th>0</th>\n",
       "      <td>data/IMG/center_2017_04_06_17_06_56_921.jpg</td>\n",
       "      <td>data/IMG/left_2017_04_06_17_06_56_921.jpg</td>\n",
       "      <td>data/IMG/right_2017_04_06_17_06_56_921.jpg</td>\n",
       "      <td>0.0</td>\n",
       "      <td>0.0</td>\n",
       "      <td>0.0</td>\n",
       "      <td>0.000002</td>\n",
       "    </tr>\n",
       "    <tr>\n",
       "      <th>1</th>\n",
       "      <td>data/IMG/center_2017_04_06_17_06_57_009.jpg</td>\n",
       "      <td>data/IMG/left_2017_04_06_17_06_57_009.jpg</td>\n",
       "      <td>data/IMG/right_2017_04_06_17_06_57_009.jpg</td>\n",
       "      <td>0.0</td>\n",
       "      <td>0.0</td>\n",
       "      <td>0.0</td>\n",
       "      <td>0.000007</td>\n",
       "    </tr>\n",
       "    <tr>\n",
       "      <th>2</th>\n",
       "      <td>data/IMG/center_2017_04_06_17_06_57_085.jpg</td>\n",
       "      <td>data/IMG/left_2017_04_06_17_06_57_085.jpg</td>\n",
       "      <td>data/IMG/right_2017_04_06_17_06_57_085.jpg</td>\n",
       "      <td>0.0</td>\n",
       "      <td>0.0</td>\n",
       "      <td>0.0</td>\n",
       "      <td>0.000002</td>\n",
       "    </tr>\n",
       "  </tbody>\n",
       "</table>\n",
       "</div>"
      ],
      "text/plain": [
       "                                        Center  \\\n",
       "0  data/IMG/center_2017_04_06_17_06_56_921.jpg   \n",
       "1  data/IMG/center_2017_04_06_17_06_57_009.jpg   \n",
       "2  data/IMG/center_2017_04_06_17_06_57_085.jpg   \n",
       "\n",
       "                                        Left  \\\n",
       "0  data/IMG/left_2017_04_06_17_06_56_921.jpg   \n",
       "1  data/IMG/left_2017_04_06_17_06_57_009.jpg   \n",
       "2  data/IMG/left_2017_04_06_17_06_57_085.jpg   \n",
       "\n",
       "                                        Right  Steering Angle  Throttle  \\\n",
       "0  data/IMG/right_2017_04_06_17_06_56_921.jpg             0.0       0.0   \n",
       "1  data/IMG/right_2017_04_06_17_06_57_009.jpg             0.0       0.0   \n",
       "2  data/IMG/right_2017_04_06_17_06_57_085.jpg             0.0       0.0   \n",
       "\n",
       "   Break     Speed  \n",
       "0    0.0  0.000002  \n",
       "1    0.0  0.000007  \n",
       "2    0.0  0.000002  "
      ]
     },
     "execution_count": 3,
     "metadata": {},
     "output_type": "execute_result"
    }
   ],
   "source": [
    "df = pd.read_csv(\"data/driving_log.csv\", names=['Center', 'Left', 'Right', 'Steering Angle', 'Throttle', 'Break', 'Speed'])\n",
    "df.head(3)"
   ]
  },
  {
   "cell_type": "markdown",
   "metadata": {},
   "source": [
    "###  First, only predict steering angle"
   ]
  },
  {
   "cell_type": "markdown",
   "metadata": {},
   "source": [
    "define input and output, and load to memory."
   ]
  },
  {
   "cell_type": "code",
   "execution_count": 4,
   "metadata": {
    "collapsed": true
   },
   "outputs": [],
   "source": [
    "X_train = np.array([img_path_to_arr(p) for p in df['Center']])\n",
    "y_train = df['Steering Angle'].values\n",
    "\n",
    "input_shape = X_train.shape[1:]"
   ]
  },
  {
   "cell_type": "code",
   "execution_count": 5,
   "metadata": {
    "collapsed": true
   },
   "outputs": [],
   "source": [
    "def get_model_original():\n",
    "    model = Sequential()\n",
    "\n",
    "    model.add(Lambda(lambda x: x / 255.0 - 0.5, input_shape=input_shape, output_shape=input_shape))\n",
    "#     model.add(Cropping2D(cropping=((50,20), (0,0)), input_shape=input_shape))\n",
    "    \n",
    "    model.add(Conv2D(24, kernel_size=(5,5), strides=(2,2), activation='relu'))\n",
    "    \n",
    "    model.add(Conv2D(36, kernel_size=(5,5), strides=(2,2), activation='relu'))\n",
    "    \n",
    "    model.add(Conv2D(48, kernel_size=(5,5), strides=(2,2), activation='relu'))\n",
    "\n",
    "    model.add(Conv2D(64, kernel_size=(3,3), strides=(1,1), activation='relu'))\n",
    "\n",
    "    model.add(Conv2D(64, kernel_size=(3,3), strides=(1,1), activation='relu'))\n",
    "\n",
    "    model.add(Flatten())    \n",
    "\n",
    "    model.add(Dense(100, activation='relu'))\n",
    "    \n",
    "    model.add(Dense(50, activation='relu'))\n",
    "    \n",
    "    model.add(Dense(10, activation='relu'))\n",
    "\n",
    "    model.add(Dense(1))\n",
    "\n",
    "    model.compile(optimizer=\"adam\", loss=\"mse\") \n",
    "    model.summary()\n",
    "    return model"
   ]
  },
  {
   "cell_type": "code",
   "execution_count": 6,
   "metadata": {},
   "outputs": [
    {
     "name": "stdout",
     "output_type": "stream",
     "text": [
      "_________________________________________________________________\n",
      "Layer (type)                 Output Shape              Param #   \n",
      "=================================================================\n",
      "lambda_1 (Lambda)            (None, 3, 160, 320)       0         \n",
      "_________________________________________________________________\n",
      "conv2d_1 (Conv2D)            (None, 24, 78, 158)       1824      \n",
      "_________________________________________________________________\n",
      "conv2d_2 (Conv2D)            (None, 36, 37, 77)        21636     \n",
      "_________________________________________________________________\n",
      "conv2d_3 (Conv2D)            (None, 48, 17, 37)        43248     \n",
      "_________________________________________________________________\n",
      "conv2d_4 (Conv2D)            (None, 64, 15, 35)        27712     \n",
      "_________________________________________________________________\n",
      "conv2d_5 (Conv2D)            (None, 64, 13, 33)        36928     \n",
      "_________________________________________________________________\n",
      "flatten_1 (Flatten)          (None, 27456)             0         \n",
      "_________________________________________________________________\n",
      "dense_1 (Dense)              (None, 100)               2745700   \n",
      "_________________________________________________________________\n",
      "dense_2 (Dense)              (None, 50)                5050      \n",
      "_________________________________________________________________\n",
      "dense_3 (Dense)              (None, 10)                510       \n",
      "_________________________________________________________________\n",
      "dense_4 (Dense)              (None, 1)                 11        \n",
      "=================================================================\n",
      "Total params: 2,882,619\n",
      "Trainable params: 2,882,619\n",
      "Non-trainable params: 0\n",
      "_________________________________________________________________\n"
     ]
    }
   ],
   "source": [
    "model_original = get_model_original()"
   ]
  },
  {
   "cell_type": "code",
   "execution_count": 7,
   "metadata": {
    "scrolled": false
   },
   "outputs": [
    {
     "name": "stdout",
     "output_type": "stream",
     "text": [
      "Train on 9742 samples, validate on 2436 samples\n",
      "Epoch 1/5\n",
      "9742/9742 [==============================] - 8s - loss: 0.0228 - val_loss: 0.0111\n",
      "Epoch 2/5\n",
      "9742/9742 [==============================] - 8s - loss: 0.0179 - val_loss: 0.0090\n",
      "Epoch 3/5\n",
      "9742/9742 [==============================] - 8s - loss: 0.0162 - val_loss: 0.0082\n",
      "Epoch 4/5\n",
      "9742/9742 [==============================] - 8s - loss: 0.0152 - val_loss: 0.0112\n",
      "Epoch 5/5\n",
      "9742/9742 [==============================] - 8s - loss: 0.0139 - val_loss: 0.0118\n"
     ]
    },
    {
     "data": {
      "text/plain": [
       "<keras.callbacks.History at 0x7fe95eee9a90>"
      ]
     },
     "execution_count": 7,
     "metadata": {},
     "output_type": "execute_result"
    }
   ],
   "source": [
    "model_original.fit(X_train, y_train, validation_split = 0.2, shuffle = True, epochs = 5)"
   ]
  },
  {
   "cell_type": "code",
   "execution_count": null,
   "metadata": {
    "collapsed": true
   },
   "outputs": [],
   "source": []
  },
  {
   "cell_type": "code",
   "execution_count": null,
   "metadata": {
    "collapsed": true
   },
   "outputs": [],
   "source": []
  },
  {
   "cell_type": "code",
   "execution_count": null,
   "metadata": {
    "collapsed": true
   },
   "outputs": [],
   "source": []
  },
  {
   "cell_type": "code",
   "execution_count": null,
   "metadata": {
    "collapsed": true
   },
   "outputs": [],
   "source": []
  },
  {
   "cell_type": "code",
   "execution_count": null,
   "metadata": {
    "collapsed": true
   },
   "outputs": [],
   "source": []
  },
  {
   "cell_type": "code",
   "execution_count": null,
   "metadata": {
    "collapsed": true
   },
   "outputs": [],
   "source": []
  },
  {
   "cell_type": "code",
   "execution_count": null,
   "metadata": {
    "collapsed": true
   },
   "outputs": [],
   "source": []
  },
  {
   "cell_type": "code",
   "execution_count": null,
   "metadata": {
    "collapsed": true
   },
   "outputs": [],
   "source": []
  },
  {
   "cell_type": "code",
   "execution_count": null,
   "metadata": {
    "collapsed": true
   },
   "outputs": [],
   "source": []
  }
 ],
 "metadata": {
  "kernelspec": {
   "display_name": "Python [conda root]",
   "language": "python",
   "name": "conda-root-py"
  },
  "language_info": {
   "codemirror_mode": {
    "name": "ipython",
    "version": 2
   },
   "file_extension": ".py",
   "mimetype": "text/x-python",
   "name": "python",
   "nbconvert_exporter": "python",
   "pygments_lexer": "ipython2",
   "version": "2.7.13"
  }
 },
 "nbformat": 4,
 "nbformat_minor": 2
}

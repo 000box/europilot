{
 "cells": [
  {
   "cell_type": "markdown",
   "metadata": {},
   "source": [
    "## Get mean and std values from the dataset"
   ]
  },
  {
   "cell_type": "code",
   "execution_count": 1,
   "metadata": {
    "collapsed": true,
    "scrolled": true
   },
   "outputs": [],
   "source": [
    "import os\n",
    "import pandas as pd\n",
    "import numpy as np\n",
    "from sklearn.utils import shuffle"
   ]
  },
  {
   "cell_type": "code",
   "execution_count": 2,
   "metadata": {
    "scrolled": true
   },
   "outputs": [
    {
     "name": "stderr",
     "output_type": "stream",
     "text": [
      "Using TensorFlow backend.\n"
     ]
    }
   ],
   "source": [
    "import keras\n",
    "from keras.preprocessing import image\n",
    "from keras.preprocessing.image import ImageDataGenerator"
   ]
  },
  {
   "cell_type": "markdown",
   "metadata": {},
   "source": [
    "### Check data format"
   ]
  },
  {
   "cell_type": "code",
   "execution_count": 3,
   "metadata": {
    "scrolled": true
   },
   "outputs": [
    {
     "name": "stdout",
     "output_type": "stream",
     "text": [
      "v1.csv  v2.csv  v3.csv  v4.csv  v5.csv  v5_train.csv  v5_valid.csv\r\n"
     ]
    }
   ],
   "source": [
    "%ls ../data/csv/final"
   ]
  },
  {
   "cell_type": "code",
   "execution_count": 4,
   "metadata": {
    "collapsed": true
   },
   "outputs": [],
   "source": [
    "# define path variables\n",
    "cur_file = 'v5'\n",
    "parent_path = os.path.dirname(os.getcwd())\n",
    "\n",
    "data_path = os.path.join(parent_path, 'data')\n",
    "img_front_dir_path = os.path.join(data_path, 'img', 'front')\n",
    "model_path = os.path.join(parent_path, 'model')\n",
    "log_path = os.path.join(model_path, 'log')\n",
    "\n",
    "\n",
    "csv_dir_path = os.path.join(data_path, 'csv', 'final')\n",
    "train_file = os.path.join(csv_dir_path, cur_file + '_train.csv')\n",
    "valid_file = os.path.join(csv_dir_path, cur_file + '_valid.csv')\n",
    "\n",
    "# divide by a constant to bound input and output to [0,1]\n",
    "INPUT_NORMALIZATION = 255\n",
    "OUTPUT_NORMALIZATION = 65535"
   ]
  },
  {
   "cell_type": "code",
   "execution_count": 5,
   "metadata": {
    "scrolled": false
   },
   "outputs": [
    {
     "name": "stdout",
     "output_type": "stream",
     "text": [
      "208454 rows\n"
     ]
    },
    {
     "data": {
      "text/html": [
       "<div>\n",
       "<style>\n",
       "    .dataframe thead tr:only-child th {\n",
       "        text-align: right;\n",
       "    }\n",
       "\n",
       "    .dataframe thead th {\n",
       "        text-align: left;\n",
       "    }\n",
       "\n",
       "    .dataframe tbody tr th {\n",
       "        vertical-align: top;\n",
       "    }\n",
       "</style>\n",
       "<table border=\"1\" class=\"dataframe\">\n",
       "  <thead>\n",
       "    <tr style=\"text-align: right;\">\n",
       "      <th></th>\n",
       "      <th>img</th>\n",
       "      <th>wheel-axis</th>\n",
       "      <th>clutch</th>\n",
       "      <th>brake</th>\n",
       "      <th>gas</th>\n",
       "      <th>paddle-left</th>\n",
       "      <th>paddle-right</th>\n",
       "      <th>wheel-button-left-1</th>\n",
       "      <th>wheel-button-left-2</th>\n",
       "      <th>wheel-button-left-3</th>\n",
       "      <th>...</th>\n",
       "      <th>gear-1</th>\n",
       "      <th>gear-2</th>\n",
       "      <th>gear-3</th>\n",
       "      <th>gear-4</th>\n",
       "      <th>gear-5</th>\n",
       "      <th>gear-6</th>\n",
       "      <th>gear-R</th>\n",
       "      <th>front</th>\n",
       "      <th>side_left</th>\n",
       "      <th>side_right</th>\n",
       "    </tr>\n",
       "  </thead>\n",
       "  <tbody>\n",
       "    <tr>\n",
       "      <th>0</th>\n",
       "      <td>97802012_2017_08_08_20_47_09_88.jpg</td>\n",
       "      <td>1328</td>\n",
       "      <td>23221</td>\n",
       "      <td>0</td>\n",
       "      <td>34833</td>\n",
       "      <td>0</td>\n",
       "      <td>0</td>\n",
       "      <td>0</td>\n",
       "      <td>0</td>\n",
       "      <td>0</td>\n",
       "      <td>...</td>\n",
       "      <td>0.0</td>\n",
       "      <td>0.0</td>\n",
       "      <td>1.0</td>\n",
       "      <td>0.0</td>\n",
       "      <td>0.0</td>\n",
       "      <td>0.0</td>\n",
       "      <td>0.0</td>\n",
       "      <td>97802012_2017_08_08_20_47_09_88_front.jpg</td>\n",
       "      <td>97802012_2017_08_08_20_47_09_88_left.jpg</td>\n",
       "      <td>97802012_2017_08_08_20_47_09_88_right.jpg</td>\n",
       "    </tr>\n",
       "    <tr>\n",
       "      <th>1</th>\n",
       "      <td>7a13935b_2017_07_30_15_35_17_02.jpg</td>\n",
       "      <td>288</td>\n",
       "      <td>0</td>\n",
       "      <td>0</td>\n",
       "      <td>65535</td>\n",
       "      <td>0</td>\n",
       "      <td>0</td>\n",
       "      <td>0</td>\n",
       "      <td>0</td>\n",
       "      <td>0</td>\n",
       "      <td>...</td>\n",
       "      <td>0.0</td>\n",
       "      <td>0.0</td>\n",
       "      <td>0.0</td>\n",
       "      <td>0.0</td>\n",
       "      <td>0.0</td>\n",
       "      <td>0.0</td>\n",
       "      <td>0.0</td>\n",
       "      <td>7a13935b_2017_07_30_15_35_17_02_front.jpg</td>\n",
       "      <td>7a13935b_2017_07_30_15_35_17_02_left.jpg</td>\n",
       "      <td>7a13935b_2017_07_30_15_35_17_02_right.jpg</td>\n",
       "    </tr>\n",
       "    <tr>\n",
       "      <th>2</th>\n",
       "      <td>3f80cca8_2017_08_08_14_14_12_98.jpg</td>\n",
       "      <td>36</td>\n",
       "      <td>15222</td>\n",
       "      <td>0</td>\n",
       "      <td>38703</td>\n",
       "      <td>0</td>\n",
       "      <td>0</td>\n",
       "      <td>0</td>\n",
       "      <td>0</td>\n",
       "      <td>0</td>\n",
       "      <td>...</td>\n",
       "      <td>0.0</td>\n",
       "      <td>0.0</td>\n",
       "      <td>1.0</td>\n",
       "      <td>0.0</td>\n",
       "      <td>0.0</td>\n",
       "      <td>0.0</td>\n",
       "      <td>0.0</td>\n",
       "      <td>3f80cca8_2017_08_08_14_14_12_98_front.jpg</td>\n",
       "      <td>3f80cca8_2017_08_08_14_14_12_98_left.jpg</td>\n",
       "      <td>3f80cca8_2017_08_08_14_14_12_98_right.jpg</td>\n",
       "    </tr>\n",
       "  </tbody>\n",
       "</table>\n",
       "<p>3 rows × 33 columns</p>\n",
       "</div>"
      ],
      "text/plain": [
       "                                   img  wheel-axis  clutch  brake    gas  \\\n",
       "0  97802012_2017_08_08_20_47_09_88.jpg        1328   23221      0  34833   \n",
       "1  7a13935b_2017_07_30_15_35_17_02.jpg         288       0      0  65535   \n",
       "2  3f80cca8_2017_08_08_14_14_12_98.jpg          36   15222      0  38703   \n",
       "\n",
       "   paddle-left  paddle-right  wheel-button-left-1  wheel-button-left-2  \\\n",
       "0            0             0                    0                    0   \n",
       "1            0             0                    0                    0   \n",
       "2            0             0                    0                    0   \n",
       "\n",
       "   wheel-button-left-3                    ...                      gear-1  \\\n",
       "0                    0                    ...                         0.0   \n",
       "1                    0                    ...                         0.0   \n",
       "2                    0                    ...                         0.0   \n",
       "\n",
       "   gear-2  gear-3  gear-4  gear-5  gear-6  gear-R  \\\n",
       "0     0.0     1.0     0.0     0.0     0.0     0.0   \n",
       "1     0.0     0.0     0.0     0.0     0.0     0.0   \n",
       "2     0.0     1.0     0.0     0.0     0.0     0.0   \n",
       "\n",
       "                                       front  \\\n",
       "0  97802012_2017_08_08_20_47_09_88_front.jpg   \n",
       "1  7a13935b_2017_07_30_15_35_17_02_front.jpg   \n",
       "2  3f80cca8_2017_08_08_14_14_12_98_front.jpg   \n",
       "\n",
       "                                  side_left  \\\n",
       "0  97802012_2017_08_08_20_47_09_88_left.jpg   \n",
       "1  7a13935b_2017_07_30_15_35_17_02_left.jpg   \n",
       "2  3f80cca8_2017_08_08_14_14_12_98_left.jpg   \n",
       "\n",
       "                                  side_right  \n",
       "0  97802012_2017_08_08_20_47_09_88_right.jpg  \n",
       "1  7a13935b_2017_07_30_15_35_17_02_right.jpg  \n",
       "2  3f80cca8_2017_08_08_14_14_12_98_right.jpg  \n",
       "\n",
       "[3 rows x 33 columns]"
      ]
     },
     "execution_count": 5,
     "metadata": {},
     "output_type": "execute_result"
    }
   ],
   "source": [
    "df_train = pd.read_csv(os.path.join(data_path, train_file))\n",
    "print(\"%d rows\" % df_train.shape[0])\n",
    "df_train.head(3)"
   ]
  },
  {
   "cell_type": "code",
   "execution_count": 6,
   "metadata": {
    "scrolled": true
   },
   "outputs": [
    {
     "name": "stdout",
     "output_type": "stream",
     "text": [
      "52114 rows\n"
     ]
    },
    {
     "data": {
      "text/html": [
       "<div>\n",
       "<style>\n",
       "    .dataframe thead tr:only-child th {\n",
       "        text-align: right;\n",
       "    }\n",
       "\n",
       "    .dataframe thead th {\n",
       "        text-align: left;\n",
       "    }\n",
       "\n",
       "    .dataframe tbody tr th {\n",
       "        vertical-align: top;\n",
       "    }\n",
       "</style>\n",
       "<table border=\"1\" class=\"dataframe\">\n",
       "  <thead>\n",
       "    <tr style=\"text-align: right;\">\n",
       "      <th></th>\n",
       "      <th>img</th>\n",
       "      <th>wheel-axis</th>\n",
       "      <th>clutch</th>\n",
       "      <th>brake</th>\n",
       "      <th>gas</th>\n",
       "      <th>paddle-left</th>\n",
       "      <th>paddle-right</th>\n",
       "      <th>wheel-button-left-1</th>\n",
       "      <th>wheel-button-left-2</th>\n",
       "      <th>wheel-button-left-3</th>\n",
       "      <th>...</th>\n",
       "      <th>gear-1</th>\n",
       "      <th>gear-2</th>\n",
       "      <th>gear-3</th>\n",
       "      <th>gear-4</th>\n",
       "      <th>gear-5</th>\n",
       "      <th>gear-6</th>\n",
       "      <th>gear-R</th>\n",
       "      <th>front</th>\n",
       "      <th>side_left</th>\n",
       "      <th>side_right</th>\n",
       "    </tr>\n",
       "  </thead>\n",
       "  <tbody>\n",
       "    <tr>\n",
       "      <th>0</th>\n",
       "      <td>3f80cca8_2017_08_08_14_52_41_43.jpg</td>\n",
       "      <td>140</td>\n",
       "      <td>17287</td>\n",
       "      <td>0</td>\n",
       "      <td>35349</td>\n",
       "      <td>0</td>\n",
       "      <td>0</td>\n",
       "      <td>0</td>\n",
       "      <td>0</td>\n",
       "      <td>0</td>\n",
       "      <td>...</td>\n",
       "      <td>0.0</td>\n",
       "      <td>0.0</td>\n",
       "      <td>1.0</td>\n",
       "      <td>0.0</td>\n",
       "      <td>0.0</td>\n",
       "      <td>0.0</td>\n",
       "      <td>0.0</td>\n",
       "      <td>3f80cca8_2017_08_08_14_52_41_43_front.jpg</td>\n",
       "      <td>3f80cca8_2017_08_08_14_52_41_43_left.jpg</td>\n",
       "      <td>3f80cca8_2017_08_08_14_52_41_43_right.jpg</td>\n",
       "    </tr>\n",
       "    <tr>\n",
       "      <th>1</th>\n",
       "      <td>7d590ce8_2017_08_07_13_54_16_42.jpg</td>\n",
       "      <td>-2209</td>\n",
       "      <td>27091</td>\n",
       "      <td>0</td>\n",
       "      <td>53410</td>\n",
       "      <td>0</td>\n",
       "      <td>0</td>\n",
       "      <td>0</td>\n",
       "      <td>0</td>\n",
       "      <td>0</td>\n",
       "      <td>...</td>\n",
       "      <td>0.0</td>\n",
       "      <td>0.0</td>\n",
       "      <td>1.0</td>\n",
       "      <td>0.0</td>\n",
       "      <td>0.0</td>\n",
       "      <td>0.0</td>\n",
       "      <td>0.0</td>\n",
       "      <td>7d590ce8_2017_08_07_13_54_16_42_front.jpg</td>\n",
       "      <td>7d590ce8_2017_08_07_13_54_16_42_left.jpg</td>\n",
       "      <td>7d590ce8_2017_08_07_13_54_16_42_right.jpg</td>\n",
       "    </tr>\n",
       "    <tr>\n",
       "      <th>2</th>\n",
       "      <td>15be80cb_2017_07_28_23_24_53_41.jpg</td>\n",
       "      <td>-2625</td>\n",
       "      <td>0</td>\n",
       "      <td>0</td>\n",
       "      <td>0</td>\n",
       "      <td>0</td>\n",
       "      <td>0</td>\n",
       "      <td>0</td>\n",
       "      <td>0</td>\n",
       "      <td>0</td>\n",
       "      <td>...</td>\n",
       "      <td>0.0</td>\n",
       "      <td>0.0</td>\n",
       "      <td>1.0</td>\n",
       "      <td>0.0</td>\n",
       "      <td>0.0</td>\n",
       "      <td>0.0</td>\n",
       "      <td>0.0</td>\n",
       "      <td>15be80cb_2017_07_28_23_24_53_41_front.jpg</td>\n",
       "      <td>15be80cb_2017_07_28_23_24_53_41_left.jpg</td>\n",
       "      <td>15be80cb_2017_07_28_23_24_53_41_right.jpg</td>\n",
       "    </tr>\n",
       "  </tbody>\n",
       "</table>\n",
       "<p>3 rows × 33 columns</p>\n",
       "</div>"
      ],
      "text/plain": [
       "                                   img  wheel-axis  clutch  brake    gas  \\\n",
       "0  3f80cca8_2017_08_08_14_52_41_43.jpg         140   17287      0  35349   \n",
       "1  7d590ce8_2017_08_07_13_54_16_42.jpg       -2209   27091      0  53410   \n",
       "2  15be80cb_2017_07_28_23_24_53_41.jpg       -2625       0      0      0   \n",
       "\n",
       "   paddle-left  paddle-right  wheel-button-left-1  wheel-button-left-2  \\\n",
       "0            0             0                    0                    0   \n",
       "1            0             0                    0                    0   \n",
       "2            0             0                    0                    0   \n",
       "\n",
       "   wheel-button-left-3                    ...                      gear-1  \\\n",
       "0                    0                    ...                         0.0   \n",
       "1                    0                    ...                         0.0   \n",
       "2                    0                    ...                         0.0   \n",
       "\n",
       "   gear-2  gear-3  gear-4  gear-5  gear-6  gear-R  \\\n",
       "0     0.0     1.0     0.0     0.0     0.0     0.0   \n",
       "1     0.0     1.0     0.0     0.0     0.0     0.0   \n",
       "2     0.0     1.0     0.0     0.0     0.0     0.0   \n",
       "\n",
       "                                       front  \\\n",
       "0  3f80cca8_2017_08_08_14_52_41_43_front.jpg   \n",
       "1  7d590ce8_2017_08_07_13_54_16_42_front.jpg   \n",
       "2  15be80cb_2017_07_28_23_24_53_41_front.jpg   \n",
       "\n",
       "                                  side_left  \\\n",
       "0  3f80cca8_2017_08_08_14_52_41_43_left.jpg   \n",
       "1  7d590ce8_2017_08_07_13_54_16_42_left.jpg   \n",
       "2  15be80cb_2017_07_28_23_24_53_41_left.jpg   \n",
       "\n",
       "                                  side_right  \n",
       "0  3f80cca8_2017_08_08_14_52_41_43_right.jpg  \n",
       "1  7d590ce8_2017_08_07_13_54_16_42_right.jpg  \n",
       "2  15be80cb_2017_07_28_23_24_53_41_right.jpg  \n",
       "\n",
       "[3 rows x 33 columns]"
      ]
     },
     "execution_count": 6,
     "metadata": {},
     "output_type": "execute_result"
    }
   ],
   "source": [
    "df_val = pd.read_csv(os.path.join(data_path, valid_file))\n",
    "print(\"%d rows\" % df_val.shape[0])\n",
    "df_val.head(3)"
   ]
  },
  {
   "cell_type": "markdown",
   "metadata": {},
   "source": [
    "###  Compute mean and std of the dataset"
   ]
  },
  {
   "cell_type": "code",
   "execution_count": 7,
   "metadata": {
    "collapsed": true
   },
   "outputs": [],
   "source": [
    "def img_to_arr(p):\n",
    "    with image.load_img(p) as img:\n",
    "        img = image.img_to_array(img)\n",
    "    return img"
   ]
  },
  {
   "cell_type": "code",
   "execution_count": 8,
   "metadata": {
    "collapsed": true
   },
   "outputs": [],
   "source": [
    "datagen = ImageDataGenerator(featurewise_center=True, featurewise_std_normalization=True)"
   ]
  },
  {
   "cell_type": "code",
   "execution_count": 9,
   "metadata": {
    "collapsed": true
   },
   "outputs": [],
   "source": [
    "df = shuffle(df_train)\n",
    "X_train_sample = np.array([img_to_arr(os.path.join(img_front_dir_path, p)) for p in df['front'][:2500]])"
   ]
  },
  {
   "cell_type": "code",
   "execution_count": 10,
   "metadata": {},
   "outputs": [
    {
     "name": "stdout",
     "output_type": "stream",
     "text": [
      "89.5761 58.4214\n",
      "97.5966 61.7917\n",
      "88.3135 68.2043\n"
     ]
    }
   ],
   "source": [
    "for i in range(0,3):\n",
    "    print X_train_sample[:,:,:,i].mean(), X_train_sample[:,:,:,i].std()"
   ]
  },
  {
   "cell_type": "code",
   "execution_count": null,
   "metadata": {
    "collapsed": true
   },
   "outputs": [],
   "source": []
  },
  {
   "cell_type": "markdown",
   "metadata": {},
   "source": [
    "Test what the values will look like after subtracting the mean and dividing by the std."
   ]
  },
  {
   "cell_type": "code",
   "execution_count": 15,
   "metadata": {
    "collapsed": true
   },
   "outputs": [],
   "source": [
    "sample_img = img_to_arr(os.path.join(img_front_dir_path, df['front'][1]))"
   ]
  },
  {
   "cell_type": "code",
   "execution_count": 16,
   "metadata": {},
   "outputs": [
    {
     "data": {
      "text/plain": [
       "(118.70493, 63.322655)"
      ]
     },
     "execution_count": 16,
     "metadata": {},
     "output_type": "execute_result"
    }
   ],
   "source": [
    "sample_img.mean(), sample_img.std()"
   ]
  },
  {
   "cell_type": "code",
   "execution_count": 17,
   "metadata": {
    "scrolled": true
   },
   "outputs": [
    {
     "data": {
      "text/plain": [
       "(0.4223775, 0.98472536)"
      ]
     },
     "execution_count": 17,
     "metadata": {},
     "output_type": "execute_result"
    }
   ],
   "source": [
    "sample_img[:,:,0] -= 89.5761\n",
    "sample_img[:,:,0] /= 58.4214\n",
    "\n",
    "sample_img[:,:,1] -= 97.5966\n",
    "sample_img[:,:,1] /= 61.7917\n",
    "\n",
    "sample_img[:,:,2] -= 88.3135\n",
    "sample_img[:,:,2] /= 68.2043\n",
    "\n",
    "sample_img.mean(), sample_img.std()"
   ]
  },
  {
   "cell_type": "code",
   "execution_count": null,
   "metadata": {
    "collapsed": true
   },
   "outputs": [],
   "source": []
  }
 ],
 "metadata": {
  "kernelspec": {
   "display_name": "Python [conda root]",
   "language": "python",
   "name": "conda-root-py"
  },
  "language_info": {
   "codemirror_mode": {
    "name": "ipython",
    "version": 2
   },
   "file_extension": ".py",
   "mimetype": "text/x-python",
   "name": "python",
   "nbconvert_exporter": "python",
   "pygments_lexer": "ipython2",
   "version": "2.7.13"
  }
 },
 "nbformat": 4,
 "nbformat_minor": 1
}

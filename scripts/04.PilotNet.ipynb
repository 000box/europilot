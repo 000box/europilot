{
 "cells": [
  {
   "cell_type": "markdown",
   "metadata": {},
   "source": [
    "## Implementation of PilotNet\n",
    "\n",
    "Implement [PilotNet](https://arxiv.org/pdf/1604.07316.pdf) using Keras (with tensorflow backend), with some modifications"
   ]
  },
  {
   "cell_type": "code",
   "execution_count": 1,
   "metadata": {
    "collapsed": true,
    "scrolled": true
   },
   "outputs": [],
   "source": [
    "import os\n",
    "import pandas as pd\n",
    "import numpy as np\n",
    "from sklearn.utils import shuffle"
   ]
  },
  {
   "cell_type": "code",
   "execution_count": 2,
   "metadata": {
    "collapsed": false,
    "scrolled": true
   },
   "outputs": [
    {
     "name": "stderr",
     "output_type": "stream",
     "text": [
      "Using TensorFlow backend.\n"
     ]
    }
   ],
   "source": [
    "import keras\n",
    "\n",
    "from keras.models import Sequential\n",
    "from keras.models import load_model\n",
    "\n",
    "from keras.layers import Flatten, Dense\n",
    "from keras.layers import BatchNormalization\n",
    "from keras.layers import Conv2D\n",
    "\n",
    "from keras.optimizers import SGD\n",
    "from keras.preprocessing import image\n",
    "from keras.preprocessing.image import ImageDataGenerator\n",
    "from keras.callbacks import CSVLogger, ModelCheckpoint"
   ]
  },
  {
   "cell_type": "code",
   "execution_count": 3,
   "metadata": {
    "collapsed": true
   },
   "outputs": [],
   "source": [
    "# limit GPU memory usage\n",
    "import tensorflow as tf\n",
    "from keras.backend.tensorflow_backend import set_session\n",
    "config = tf.ConfigProto()\n",
    "config.gpu_options.per_process_gpu_memory_fraction = 0.75\n",
    "set_session(tf.Session(config=config))"
   ]
  },
  {
   "cell_type": "markdown",
   "metadata": {},
   "source": [
    "### Check data format"
   ]
  },
  {
   "cell_type": "code",
   "execution_count": 4,
   "metadata": {
    "collapsed": false,
    "scrolled": true
   },
   "outputs": [
    {
     "name": "stdout",
     "output_type": "stream",
     "text": [
      "v1.csv  v2.csv  v3.csv  v3_train.csv  v3_valid.csv\r\n"
     ]
    }
   ],
   "source": [
    "%ls ../data/csv/final"
   ]
  },
  {
   "cell_type": "code",
   "execution_count": 5,
   "metadata": {
    "collapsed": true
   },
   "outputs": [],
   "source": [
    "# define path variables\n",
    "parent_path = os.path.dirname(os.getcwd())\n",
    "\n",
    "data_path = os.path.join(parent_path, 'data')\n",
    "img_front_dir_path = os.path.join(data_path, 'img', 'front')\n",
    "model_path = os.path.join(parent_path, 'model')\n",
    "log_path = os.path.join(model_path, 'log')\n",
    "\n",
    "\n",
    "csv_dir_path = os.path.join(data_path, 'csv', 'final')\n",
    "cur_file = 'v3'\n",
    "train_file = os.path.join(csv_dir_path, cur_file + '_train.csv')\n",
    "valid_file = os.path.join(csv_dir_path, cur_file + '_valid.csv')\n",
    "\n",
    "# divide by a constant to bound output to [0,100]\n",
    "OUTPUT_NORMALIZATION = 655.35"
   ]
  },
  {
   "cell_type": "code",
   "execution_count": 6,
   "metadata": {
    "collapsed": false,
    "scrolled": false
   },
   "outputs": [
    {
     "name": "stdout",
     "output_type": "stream",
     "text": [
      "129996 rows\n"
     ]
    },
    {
     "data": {
      "text/html": [
       "<div>\n",
       "<style>\n",
       "    .dataframe thead tr:only-child th {\n",
       "        text-align: right;\n",
       "    }\n",
       "\n",
       "    .dataframe thead th {\n",
       "        text-align: left;\n",
       "    }\n",
       "\n",
       "    .dataframe tbody tr th {\n",
       "        vertical-align: top;\n",
       "    }\n",
       "</style>\n",
       "<table border=\"1\" class=\"dataframe\">\n",
       "  <thead>\n",
       "    <tr style=\"text-align: right;\">\n",
       "      <th></th>\n",
       "      <th>img</th>\n",
       "      <th>wheel-axis</th>\n",
       "      <th>clutch</th>\n",
       "      <th>brake</th>\n",
       "      <th>gas</th>\n",
       "      <th>paddle-left</th>\n",
       "      <th>paddle-right</th>\n",
       "      <th>wheel-button-left-1</th>\n",
       "      <th>wheel-button-left-2</th>\n",
       "      <th>wheel-button-left-3</th>\n",
       "      <th>...</th>\n",
       "      <th>gear-1</th>\n",
       "      <th>gear-2</th>\n",
       "      <th>gear-3</th>\n",
       "      <th>gear-4</th>\n",
       "      <th>gear-5</th>\n",
       "      <th>gear-6</th>\n",
       "      <th>gear-R</th>\n",
       "      <th>front</th>\n",
       "      <th>side_left</th>\n",
       "      <th>side_right</th>\n",
       "    </tr>\n",
       "  </thead>\n",
       "  <tbody>\n",
       "    <tr>\n",
       "      <th>0</th>\n",
       "      <td>9d0c3c2b_2017_07_27_14_56_31_97.jpg</td>\n",
       "      <td>-321</td>\n",
       "      <td>0</td>\n",
       "      <td>0</td>\n",
       "      <td>65535</td>\n",
       "      <td>0</td>\n",
       "      <td>0</td>\n",
       "      <td>0</td>\n",
       "      <td>0</td>\n",
       "      <td>0</td>\n",
       "      <td>...</td>\n",
       "      <td>0.0</td>\n",
       "      <td>0.0</td>\n",
       "      <td>0.0</td>\n",
       "      <td>0.0</td>\n",
       "      <td>0.0</td>\n",
       "      <td>0.0</td>\n",
       "      <td>0.0</td>\n",
       "      <td>9d0c3c2b_2017_07_27_14_56_31_97_front.jpg</td>\n",
       "      <td>9d0c3c2b_2017_07_27_14_56_31_97_left.jpg</td>\n",
       "      <td>9d0c3c2b_2017_07_27_14_56_31_97_right.jpg</td>\n",
       "    </tr>\n",
       "    <tr>\n",
       "      <th>1</th>\n",
       "      <td>7d590ce8_2017_08_07_14_49_16_12.jpg</td>\n",
       "      <td>-741</td>\n",
       "      <td>27091</td>\n",
       "      <td>0</td>\n",
       "      <td>65535</td>\n",
       "      <td>0</td>\n",
       "      <td>0</td>\n",
       "      <td>0</td>\n",
       "      <td>0</td>\n",
       "      <td>0</td>\n",
       "      <td>...</td>\n",
       "      <td>0.0</td>\n",
       "      <td>0.0</td>\n",
       "      <td>1.0</td>\n",
       "      <td>0.0</td>\n",
       "      <td>0.0</td>\n",
       "      <td>0.0</td>\n",
       "      <td>0.0</td>\n",
       "      <td>7d590ce8_2017_08_07_14_49_16_12_front.jpg</td>\n",
       "      <td>7d590ce8_2017_08_07_14_49_16_12_left.jpg</td>\n",
       "      <td>7d590ce8_2017_08_07_14_49_16_12_right.jpg</td>\n",
       "    </tr>\n",
       "    <tr>\n",
       "      <th>2</th>\n",
       "      <td>3f80cca8_2017_08_08_14_39_00_36.jpg</td>\n",
       "      <td>152</td>\n",
       "      <td>15222</td>\n",
       "      <td>0</td>\n",
       "      <td>65535</td>\n",
       "      <td>0</td>\n",
       "      <td>0</td>\n",
       "      <td>0</td>\n",
       "      <td>0</td>\n",
       "      <td>0</td>\n",
       "      <td>...</td>\n",
       "      <td>0.0</td>\n",
       "      <td>0.0</td>\n",
       "      <td>1.0</td>\n",
       "      <td>0.0</td>\n",
       "      <td>0.0</td>\n",
       "      <td>0.0</td>\n",
       "      <td>0.0</td>\n",
       "      <td>3f80cca8_2017_08_08_14_39_00_36_front.jpg</td>\n",
       "      <td>3f80cca8_2017_08_08_14_39_00_36_left.jpg</td>\n",
       "      <td>3f80cca8_2017_08_08_14_39_00_36_right.jpg</td>\n",
       "    </tr>\n",
       "  </tbody>\n",
       "</table>\n",
       "<p>3 rows × 33 columns</p>\n",
       "</div>"
      ],
      "text/plain": [
       "                                   img  wheel-axis  clutch  brake    gas  \\\n",
       "0  9d0c3c2b_2017_07_27_14_56_31_97.jpg        -321       0      0  65535   \n",
       "1  7d590ce8_2017_08_07_14_49_16_12.jpg        -741   27091      0  65535   \n",
       "2  3f80cca8_2017_08_08_14_39_00_36.jpg         152   15222      0  65535   \n",
       "\n",
       "   paddle-left  paddle-right  wheel-button-left-1  wheel-button-left-2  \\\n",
       "0            0             0                    0                    0   \n",
       "1            0             0                    0                    0   \n",
       "2            0             0                    0                    0   \n",
       "\n",
       "   wheel-button-left-3                    ...                      gear-1  \\\n",
       "0                    0                    ...                         0.0   \n",
       "1                    0                    ...                         0.0   \n",
       "2                    0                    ...                         0.0   \n",
       "\n",
       "   gear-2  gear-3  gear-4  gear-5  gear-6  gear-R  \\\n",
       "0     0.0     0.0     0.0     0.0     0.0     0.0   \n",
       "1     0.0     1.0     0.0     0.0     0.0     0.0   \n",
       "2     0.0     1.0     0.0     0.0     0.0     0.0   \n",
       "\n",
       "                                       front  \\\n",
       "0  9d0c3c2b_2017_07_27_14_56_31_97_front.jpg   \n",
       "1  7d590ce8_2017_08_07_14_49_16_12_front.jpg   \n",
       "2  3f80cca8_2017_08_08_14_39_00_36_front.jpg   \n",
       "\n",
       "                                  side_left  \\\n",
       "0  9d0c3c2b_2017_07_27_14_56_31_97_left.jpg   \n",
       "1  7d590ce8_2017_08_07_14_49_16_12_left.jpg   \n",
       "2  3f80cca8_2017_08_08_14_39_00_36_left.jpg   \n",
       "\n",
       "                                  side_right  \n",
       "0  9d0c3c2b_2017_07_27_14_56_31_97_right.jpg  \n",
       "1  7d590ce8_2017_08_07_14_49_16_12_right.jpg  \n",
       "2  3f80cca8_2017_08_08_14_39_00_36_right.jpg  \n",
       "\n",
       "[3 rows x 33 columns]"
      ]
     },
     "execution_count": 6,
     "metadata": {},
     "output_type": "execute_result"
    }
   ],
   "source": [
    "df_train = pd.read_csv(os.path.join(data_path, train_file))\n",
    "print(\"%d rows\" % df_train.shape[0])\n",
    "df_train.head(3)"
   ]
  },
  {
   "cell_type": "code",
   "execution_count": 7,
   "metadata": {
    "collapsed": false,
    "scrolled": true
   },
   "outputs": [
    {
     "name": "stdout",
     "output_type": "stream",
     "text": [
      "32499 rows\n"
     ]
    },
    {
     "data": {
      "text/html": [
       "<div>\n",
       "<style>\n",
       "    .dataframe thead tr:only-child th {\n",
       "        text-align: right;\n",
       "    }\n",
       "\n",
       "    .dataframe thead th {\n",
       "        text-align: left;\n",
       "    }\n",
       "\n",
       "    .dataframe tbody tr th {\n",
       "        vertical-align: top;\n",
       "    }\n",
       "</style>\n",
       "<table border=\"1\" class=\"dataframe\">\n",
       "  <thead>\n",
       "    <tr style=\"text-align: right;\">\n",
       "      <th></th>\n",
       "      <th>img</th>\n",
       "      <th>wheel-axis</th>\n",
       "      <th>clutch</th>\n",
       "      <th>brake</th>\n",
       "      <th>gas</th>\n",
       "      <th>paddle-left</th>\n",
       "      <th>paddle-right</th>\n",
       "      <th>wheel-button-left-1</th>\n",
       "      <th>wheel-button-left-2</th>\n",
       "      <th>wheel-button-left-3</th>\n",
       "      <th>...</th>\n",
       "      <th>gear-1</th>\n",
       "      <th>gear-2</th>\n",
       "      <th>gear-3</th>\n",
       "      <th>gear-4</th>\n",
       "      <th>gear-5</th>\n",
       "      <th>gear-6</th>\n",
       "      <th>gear-R</th>\n",
       "      <th>front</th>\n",
       "      <th>side_left</th>\n",
       "      <th>side_right</th>\n",
       "    </tr>\n",
       "  </thead>\n",
       "  <tbody>\n",
       "    <tr>\n",
       "      <th>0</th>\n",
       "      <td>7a13935b_2017_07_30_15_38_28_68.jpg</td>\n",
       "      <td>-41</td>\n",
       "      <td>0</td>\n",
       "      <td>0</td>\n",
       "      <td>45153</td>\n",
       "      <td>0</td>\n",
       "      <td>0</td>\n",
       "      <td>0</td>\n",
       "      <td>0</td>\n",
       "      <td>0</td>\n",
       "      <td>...</td>\n",
       "      <td>0.0</td>\n",
       "      <td>0.0</td>\n",
       "      <td>0.0</td>\n",
       "      <td>0.0</td>\n",
       "      <td>0.0</td>\n",
       "      <td>0.0</td>\n",
       "      <td>0.0</td>\n",
       "      <td>7a13935b_2017_07_30_15_38_28_68_front.jpg</td>\n",
       "      <td>7a13935b_2017_07_30_15_38_28_68_left.jpg</td>\n",
       "      <td>7a13935b_2017_07_30_15_38_28_68_right.jpg</td>\n",
       "    </tr>\n",
       "    <tr>\n",
       "      <th>1</th>\n",
       "      <td>9d0c3c2b_2017_07_28_18_09_10_29.jpg</td>\n",
       "      <td>2000</td>\n",
       "      <td>0</td>\n",
       "      <td>0</td>\n",
       "      <td>65535</td>\n",
       "      <td>0</td>\n",
       "      <td>0</td>\n",
       "      <td>0</td>\n",
       "      <td>0</td>\n",
       "      <td>0</td>\n",
       "      <td>...</td>\n",
       "      <td>0.0</td>\n",
       "      <td>0.0</td>\n",
       "      <td>0.0</td>\n",
       "      <td>0.0</td>\n",
       "      <td>0.0</td>\n",
       "      <td>0.0</td>\n",
       "      <td>0.0</td>\n",
       "      <td>9d0c3c2b_2017_07_28_18_09_10_29_front.jpg</td>\n",
       "      <td>9d0c3c2b_2017_07_28_18_09_10_29_left.jpg</td>\n",
       "      <td>9d0c3c2b_2017_07_28_18_09_10_29_right.jpg</td>\n",
       "    </tr>\n",
       "    <tr>\n",
       "      <th>2</th>\n",
       "      <td>15be80cb_2017_07_28_22_48_24_52.jpg</td>\n",
       "      <td>-1593</td>\n",
       "      <td>0</td>\n",
       "      <td>0</td>\n",
       "      <td>63730</td>\n",
       "      <td>0</td>\n",
       "      <td>0</td>\n",
       "      <td>0</td>\n",
       "      <td>0</td>\n",
       "      <td>0</td>\n",
       "      <td>...</td>\n",
       "      <td>0.0</td>\n",
       "      <td>0.0</td>\n",
       "      <td>0.0</td>\n",
       "      <td>0.0</td>\n",
       "      <td>0.0</td>\n",
       "      <td>0.0</td>\n",
       "      <td>0.0</td>\n",
       "      <td>15be80cb_2017_07_28_22_48_24_52_front.jpg</td>\n",
       "      <td>15be80cb_2017_07_28_22_48_24_52_left.jpg</td>\n",
       "      <td>15be80cb_2017_07_28_22_48_24_52_right.jpg</td>\n",
       "    </tr>\n",
       "  </tbody>\n",
       "</table>\n",
       "<p>3 rows × 33 columns</p>\n",
       "</div>"
      ],
      "text/plain": [
       "                                   img  wheel-axis  clutch  brake    gas  \\\n",
       "0  7a13935b_2017_07_30_15_38_28_68.jpg         -41       0      0  45153   \n",
       "1  9d0c3c2b_2017_07_28_18_09_10_29.jpg        2000       0      0  65535   \n",
       "2  15be80cb_2017_07_28_22_48_24_52.jpg       -1593       0      0  63730   \n",
       "\n",
       "   paddle-left  paddle-right  wheel-button-left-1  wheel-button-left-2  \\\n",
       "0            0             0                    0                    0   \n",
       "1            0             0                    0                    0   \n",
       "2            0             0                    0                    0   \n",
       "\n",
       "   wheel-button-left-3                    ...                      gear-1  \\\n",
       "0                    0                    ...                         0.0   \n",
       "1                    0                    ...                         0.0   \n",
       "2                    0                    ...                         0.0   \n",
       "\n",
       "   gear-2  gear-3  gear-4  gear-5  gear-6  gear-R  \\\n",
       "0     0.0     0.0     0.0     0.0     0.0     0.0   \n",
       "1     0.0     0.0     0.0     0.0     0.0     0.0   \n",
       "2     0.0     0.0     0.0     0.0     0.0     0.0   \n",
       "\n",
       "                                       front  \\\n",
       "0  7a13935b_2017_07_30_15_38_28_68_front.jpg   \n",
       "1  9d0c3c2b_2017_07_28_18_09_10_29_front.jpg   \n",
       "2  15be80cb_2017_07_28_22_48_24_52_front.jpg   \n",
       "\n",
       "                                  side_left  \\\n",
       "0  7a13935b_2017_07_30_15_38_28_68_left.jpg   \n",
       "1  9d0c3c2b_2017_07_28_18_09_10_29_left.jpg   \n",
       "2  15be80cb_2017_07_28_22_48_24_52_left.jpg   \n",
       "\n",
       "                                  side_right  \n",
       "0  7a13935b_2017_07_30_15_38_28_68_right.jpg  \n",
       "1  9d0c3c2b_2017_07_28_18_09_10_29_right.jpg  \n",
       "2  15be80cb_2017_07_28_22_48_24_52_right.jpg  \n",
       "\n",
       "[3 rows x 33 columns]"
      ]
     },
     "execution_count": 7,
     "metadata": {},
     "output_type": "execute_result"
    }
   ],
   "source": [
    "df_val = pd.read_csv(os.path.join(data_path, valid_file))\n",
    "print(\"%d rows\" % df_val.shape[0])\n",
    "df_val.head(3)"
   ]
  },
  {
   "cell_type": "markdown",
   "metadata": {},
   "source": [
    "###  Predict steering angle using only the front image"
   ]
  },
  {
   "cell_type": "code",
   "execution_count": 8,
   "metadata": {
    "collapsed": true
   },
   "outputs": [],
   "source": [
    "def img_to_arr(p):\n",
    "    with image.load_img(p) as img:\n",
    "        img = image.img_to_array(img)\n",
    "    return img\n",
    "\n",
    "# values computed from dataset sample.\n",
    "def normalize(img):\n",
    "    img[:,:,0] -= 94.9449\n",
    "    img[:,:,0] /= 58.6121\n",
    "\n",
    "    img[:,:,1] -= 103.599\n",
    "    img[:,:,1] /= 61.6239\n",
    "\n",
    "    img[:,:,2] -= 92.9077\n",
    "    img[:,:,2] /= 68.66\n",
    "    \n",
    "    return img"
   ]
  },
  {
   "cell_type": "code",
   "execution_count": 9,
   "metadata": {
    "collapsed": true
   },
   "outputs": [],
   "source": [
    "# define generator that loops through the data\n",
    "def generator(df, batch_size, img_shape, should_shuffle):\n",
    "    # shuffle dataframe for each epoch\n",
    "    if should_shuffle:\n",
    "        df = shuffle(df)\n",
    "        \n",
    "    img_list = df['front']\n",
    "    wheel_axis = df['wheel-axis']\n",
    "    \n",
    "    # create empty batch\n",
    "    batch_img = np.zeros((batch_size,) + img_shape)\n",
    "    batch_label = np.zeros((batch_size, 1))\n",
    "    \n",
    "    index = 0\n",
    "    while True:\n",
    "        for i in range(batch_size):\n",
    "            img_name = img_list[index]\n",
    "            arr = img_to_arr(os.path.join(img_front_dir_path, img_name))\n",
    "            \n",
    "            batch_img[i] = normalize(arr)\n",
    "            batch_label[i] = wheel_axis[index] / OUTPUT_NORMALIZATION\n",
    "            \n",
    "            index += 1\n",
    "            if index == len(img_list):\n",
    "                index = 0\n",
    "            \n",
    "        yield batch_img, batch_label\n",
    "    "
   ]
  },
  {
   "cell_type": "code",
   "execution_count": 10,
   "metadata": {
    "collapsed": false
   },
   "outputs": [
    {
     "name": "stdout",
     "output_type": "stream",
     "text": [
      "input_shape: (341, 562, 3), batch_size: 160, train_steps: 813, val_steps: 204\n"
     ]
    }
   ],
   "source": [
    "input_shape = img_to_arr(os.path.join(img_front_dir_path, df_train['front'][0])).shape\n",
    "batch_size = 160\n",
    "train_steps = (df_train.shape[0] / batch_size) + 1\n",
    "val_steps = (df_val.shape[0] / batch_size) + 1\n",
    "\n",
    "print(\"input_shape: %s, batch_size: %d, train_steps: %d, val_steps: %d\" % \n",
    "      (input_shape, batch_size, train_steps, val_steps))"
   ]
  },
  {
   "cell_type": "code",
   "execution_count": 11,
   "metadata": {
    "collapsed": true
   },
   "outputs": [],
   "source": [
    "train_batch = generator(df_train, batch_size, input_shape, True)\n",
    "val_batch = generator(df_val, batch_size, input_shape, False)"
   ]
  },
  {
   "cell_type": "markdown",
   "metadata": {},
   "source": [
    "### Define model"
   ]
  },
  {
   "cell_type": "code",
   "execution_count": 12,
   "metadata": {
    "collapsed": false,
    "scrolled": true
   },
   "outputs": [
    {
     "name": "stdout",
     "output_type": "stream",
     "text": [
      "_________________________________________________________________\n",
      "Layer (type)                 Output Shape              Param #   \n",
      "=================================================================\n",
      "conv2d_1 (Conv2D)            (None, 169, 279, 24)      1824      \n",
      "_________________________________________________________________\n",
      "batch_normalization_1 (Batch (None, 169, 279, 24)      676       \n",
      "_________________________________________________________________\n",
      "conv2d_2 (Conv2D)            (None, 83, 138, 36)       21636     \n",
      "_________________________________________________________________\n",
      "batch_normalization_2 (Batch (None, 83, 138, 36)       332       \n",
      "_________________________________________________________________\n",
      "conv2d_3 (Conv2D)            (None, 40, 67, 48)        43248     \n",
      "_________________________________________________________________\n",
      "batch_normalization_3 (Batch (None, 40, 67, 48)        160       \n",
      "_________________________________________________________________\n",
      "conv2d_4 (Conv2D)            (None, 38, 65, 64)        27712     \n",
      "_________________________________________________________________\n",
      "batch_normalization_4 (Batch (None, 38, 65, 64)        152       \n",
      "_________________________________________________________________\n",
      "conv2d_5 (Conv2D)            (None, 36, 63, 64)        36928     \n",
      "_________________________________________________________________\n",
      "batch_normalization_5 (Batch (None, 36, 63, 64)        144       \n",
      "_________________________________________________________________\n",
      "flatten_1 (Flatten)          (None, 145152)            0         \n",
      "_________________________________________________________________\n",
      "dense_1 (Dense)              (None, 100)               14515300  \n",
      "_________________________________________________________________\n",
      "batch_normalization_6 (Batch (None, 100)               400       \n",
      "_________________________________________________________________\n",
      "dense_2 (Dense)              (None, 50)                5050      \n",
      "_________________________________________________________________\n",
      "batch_normalization_7 (Batch (None, 50)                200       \n",
      "_________________________________________________________________\n",
      "dense_3 (Dense)              (None, 10)                510       \n",
      "_________________________________________________________________\n",
      "batch_normalization_8 (Batch (None, 10)                40        \n",
      "_________________________________________________________________\n",
      "dense_4 (Dense)              (None, 1)                 11        \n",
      "=================================================================\n",
      "Total params: 14,654,323\n",
      "Trainable params: 14,653,271\n",
      "Non-trainable params: 1,052\n",
      "_________________________________________________________________\n"
     ]
    }
   ],
   "source": [
    "# define PilotNet model, with batch normalization included.\n",
    "def get_model(input_shape):\n",
    "    model = Sequential([\n",
    "        Conv2D(24, kernel_size=(5,5), strides=(2,2), activation='relu', input_shape=input_shape),\n",
    "        BatchNormalization(axis=1),\n",
    "        Conv2D(36, kernel_size=(5,5), strides=(2,2), activation='relu'),\n",
    "        BatchNormalization(axis=1),\n",
    "        Conv2D(48, kernel_size=(5,5), strides=(2,2), activation='relu'),\n",
    "        BatchNormalization(axis=1),\n",
    "        Conv2D(64, kernel_size=(3,3), strides=(1,1), activation='relu'),\n",
    "        BatchNormalization(axis=1),\n",
    "        Conv2D(64, kernel_size=(3,3), strides=(1,1), activation='relu'),\n",
    "        BatchNormalization(axis=1),\n",
    "        Flatten(),\n",
    "        Dense(100, activation='relu'),\n",
    "        BatchNormalization(),\n",
    "        Dense(50, activation='relu'),\n",
    "        BatchNormalization(),\n",
    "        Dense(10, activation='relu'),\n",
    "        BatchNormalization(),\n",
    "        Dense(1)\n",
    "    ])\n",
    "    \n",
    "    return model\n",
    "\n",
    "model = get_model(input_shape)\n",
    "sgd = SGD(lr=1e-3, decay=1e-4, momentum=0.9, nesterov=True)\n",
    "model.compile(optimizer=sgd, loss=\"mse\") \n",
    "model.summary()"
   ]
  },
  {
   "cell_type": "code",
   "execution_count": 13,
   "metadata": {
    "collapsed": true
   },
   "outputs": [],
   "source": [
    "# or load from saved model\n",
    "# model = load_model(os.path.join(model_path, 'v3-PilotNet_v1-029-0.0783.h5'))"
   ]
  },
  {
   "cell_type": "markdown",
   "metadata": {},
   "source": [
    "### Define callback for training"
   ]
  },
  {
   "cell_type": "code",
   "execution_count": 14,
   "metadata": {
    "collapsed": true,
    "scrolled": true
   },
   "outputs": [],
   "source": [
    "# define callbacks\n",
    "cur_model = cur_file + '-PilotNet_v2'\n",
    "csv_logger = CSVLogger(os.path.join(log_path, cur_model + '.log'))\n",
    "\n",
    "model_file_name= os.path.join(model_path, cur_model + '-{epoch:03d}-{val_loss:.5f}.h5')\n",
    "checkpoint = ModelCheckpoint(model_file_name, verbose=0, save_best_only=True)"
   ]
  },
  {
   "cell_type": "markdown",
   "metadata": {},
   "source": [
    "### Train"
   ]
  },
  {
   "cell_type": "code",
   "execution_count": 15,
   "metadata": {
    "collapsed": false,
    "scrolled": true
   },
   "outputs": [
    {
     "name": "stdout",
     "output_type": "stream",
     "text": [
      "Epoch 1/20\n",
      "813/813 [==============================] - 2063s - loss: 0.8427 - val_loss: 0.6818\n",
      "Epoch 2/20\n",
      "813/813 [==============================] - 2053s - loss: 0.5841 - val_loss: 0.5631\n",
      "Epoch 3/20\n",
      "813/813 [==============================] - 2052s - loss: 0.5171 - val_loss: 0.5847\n",
      "Epoch 4/20\n",
      "813/813 [==============================] - 2053s - loss: 0.4730 - val_loss: 0.5128\n",
      "Epoch 5/20\n",
      "813/813 [==============================] - 2053s - loss: 0.4532 - val_loss: 0.5554\n",
      "Epoch 6/20\n",
      "813/813 [==============================] - 2054s - loss: 0.4362 - val_loss: 0.5531\n",
      "Epoch 7/20\n",
      "813/813 [==============================] - 2054s - loss: 0.4387 - val_loss: 0.5861\n",
      "Epoch 8/20\n",
      "813/813 [==============================] - 2053s - loss: 0.4186 - val_loss: 0.5477\n",
      "Epoch 9/20\n",
      "813/813 [==============================] - 2054s - loss: 0.4254 - val_loss: 0.5060\n",
      "Epoch 10/20\n",
      "813/813 [==============================] - 2055s - loss: 0.4135 - val_loss: 0.5132\n",
      "Epoch 11/20\n",
      "813/813 [==============================] - 2054s - loss: 0.4235 - val_loss: 0.5307\n",
      "Epoch 12/20\n",
      "813/813 [==============================] - 2053s - loss: 0.4162 - val_loss: 0.5250\n",
      "Epoch 13/20\n",
      "813/813 [==============================] - 2054s - loss: 0.4003 - val_loss: 0.4799\n",
      "Epoch 14/20\n",
      "813/813 [==============================] - 2053s - loss: 0.4108 - val_loss: 0.5082\n",
      "Epoch 15/20\n",
      "813/813 [==============================] - 2054s - loss: 0.3992 - val_loss: 0.4705\n",
      "Epoch 16/20\n",
      "813/813 [==============================] - 2053s - loss: 0.4046 - val_loss: 0.5610\n",
      "Epoch 17/20\n",
      "813/813 [==============================] - 2054s - loss: 0.3826 - val_loss: 0.4966\n",
      "Epoch 18/20\n",
      "813/813 [==============================] - 2054s - loss: 0.4230 - val_loss: 0.4479\n",
      "Epoch 19/20\n",
      "813/813 [==============================] - 2054s - loss: 0.3928 - val_loss: 0.4900\n",
      "Epoch 20/20\n",
      "813/813 [==============================] - 2054s - loss: 0.4042 - val_loss: 0.4522\n"
     ]
    },
    {
     "data": {
      "text/plain": [
       "<keras.callbacks.History at 0x7f50dfde0f90>"
      ]
     },
     "execution_count": 15,
     "metadata": {},
     "output_type": "execute_result"
    }
   ],
   "source": [
    "model.fit_generator(train_batch, \n",
    "                    train_steps, \n",
    "                    epochs=20, \n",
    "                    verbose=1, \n",
    "                    callbacks=[csv_logger, checkpoint], \n",
    "                    validation_data=val_batch, \n",
    "                    validation_steps=val_steps, \n",
    "                    initial_epoch=0)"
   ]
  },
  {
   "cell_type": "code",
   "execution_count": null,
   "metadata": {
    "collapsed": true
   },
   "outputs": [],
   "source": []
  }
 ],
 "metadata": {
  "anaconda-cloud": {},
  "kernelspec": {
   "display_name": "Python [conda root]",
   "language": "python",
   "name": "conda-root-py"
  },
  "language_info": {
   "codemirror_mode": {
    "name": "ipython",
    "version": 2
   },
   "file_extension": ".py",
   "mimetype": "text/x-python",
   "name": "python",
   "nbconvert_exporter": "python",
   "pygments_lexer": "ipython2",
   "version": "2.7.12"
  }
 },
 "nbformat": 4,
 "nbformat_minor": 1
}

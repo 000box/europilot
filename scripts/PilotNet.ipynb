{
 "cells": [
  {
   "cell_type": "markdown",
   "metadata": {},
   "source": [
    "## Implementation of PilotNet, with variation\n",
    "\n",
    "Implement [PilotNet](https://arxiv.org/pdf/1604.07316.pdf) using Keras (with theano backend), with various differences"
   ]
  },
  {
   "cell_type": "code",
   "execution_count": 1,
   "metadata": {
    "scrolled": true
   },
   "outputs": [
    {
     "name": "stderr",
     "output_type": "stream",
     "text": [
      "WARNING (theano.sandbox.cuda): The cuda backend is deprecated and will be removed in the next release (v0.10).  Please switch to the gpuarray backend. You can get more information about how to switch at this URL:\n",
      " https://github.com/Theano/Theano/wiki/Converting-to-the-new-gpu-back-end%28gpuarray%29\n",
      "\n",
      "Using gpu device 0: GeForce GTX 1080 (CNMeM is disabled, cuDNN 5110)\n",
      "Using Theano backend.\n"
     ]
    }
   ],
   "source": [
    "%matplotlib inline\n",
    "import utils; reload(utils)\n",
    "from utils import *"
   ]
  },
  {
   "cell_type": "markdown",
   "metadata": {},
   "source": [
    "### Check data format\n",
    "\n",
    "train using udacity data"
   ]
  },
  {
   "cell_type": "markdown",
   "metadata": {},
   "source": [
    "check the csv output, and shuffle"
   ]
  },
  {
   "cell_type": "code",
   "execution_count": 2,
   "metadata": {
    "scrolled": false
   },
   "outputs": [
    {
     "data": {
      "text/html": [
       "<div>\n",
       "<style>\n",
       "    .dataframe thead tr:only-child th {\n",
       "        text-align: right;\n",
       "    }\n",
       "\n",
       "    .dataframe thead th {\n",
       "        text-align: left;\n",
       "    }\n",
       "\n",
       "    .dataframe tbody tr th {\n",
       "        vertical-align: top;\n",
       "    }\n",
       "</style>\n",
       "<table border=\"1\" class=\"dataframe\">\n",
       "  <thead>\n",
       "    <tr style=\"text-align: right;\">\n",
       "      <th></th>\n",
       "      <th>Center</th>\n",
       "      <th>Left</th>\n",
       "      <th>Right</th>\n",
       "      <th>Steering Angle</th>\n",
       "      <th>Throttle</th>\n",
       "      <th>Break</th>\n",
       "      <th>Speed</th>\n",
       "    </tr>\n",
       "  </thead>\n",
       "  <tbody>\n",
       "    <tr>\n",
       "      <th>3873</th>\n",
       "      <td>data/IMG/center_2017_04_06_17_12_33_822.jpg</td>\n",
       "      <td>data/IMG/left_2017_04_06_17_12_33_822.jpg</td>\n",
       "      <td>data/IMG/right_2017_04_06_17_12_33_822.jpg</td>\n",
       "      <td>0.074324</td>\n",
       "      <td>0.268057</td>\n",
       "      <td>0.0</td>\n",
       "      <td>23.36063</td>\n",
       "    </tr>\n",
       "    <tr>\n",
       "      <th>7671</th>\n",
       "      <td>data/IMG/center_2017_04_06_17_43_28_190.jpg</td>\n",
       "      <td>data/IMG/left_2017_04_06_17_43_28_190.jpg</td>\n",
       "      <td>data/IMG/right_2017_04_06_17_43_28_190.jpg</td>\n",
       "      <td>0.000000</td>\n",
       "      <td>0.247335</td>\n",
       "      <td>0.0</td>\n",
       "      <td>29.99862</td>\n",
       "    </tr>\n",
       "    <tr>\n",
       "      <th>698</th>\n",
       "      <td>data/IMG/center_2017_04_06_17_07_57_505.jpg</td>\n",
       "      <td>data/IMG/left_2017_04_06_17_07_57_505.jpg</td>\n",
       "      <td>data/IMG/right_2017_04_06_17_07_57_505.jpg</td>\n",
       "      <td>-0.090186</td>\n",
       "      <td>0.198581</td>\n",
       "      <td>0.0</td>\n",
       "      <td>20.05411</td>\n",
       "    </tr>\n",
       "  </tbody>\n",
       "</table>\n",
       "</div>"
      ],
      "text/plain": [
       "                                           Center  \\\n",
       "3873  data/IMG/center_2017_04_06_17_12_33_822.jpg   \n",
       "7671  data/IMG/center_2017_04_06_17_43_28_190.jpg   \n",
       "698   data/IMG/center_2017_04_06_17_07_57_505.jpg   \n",
       "\n",
       "                                           Left  \\\n",
       "3873  data/IMG/left_2017_04_06_17_12_33_822.jpg   \n",
       "7671  data/IMG/left_2017_04_06_17_43_28_190.jpg   \n",
       "698   data/IMG/left_2017_04_06_17_07_57_505.jpg   \n",
       "\n",
       "                                           Right  Steering Angle  Throttle  \\\n",
       "3873  data/IMG/right_2017_04_06_17_12_33_822.jpg        0.074324  0.268057   \n",
       "7671  data/IMG/right_2017_04_06_17_43_28_190.jpg        0.000000  0.247335   \n",
       "698   data/IMG/right_2017_04_06_17_07_57_505.jpg       -0.090186  0.198581   \n",
       "\n",
       "      Break     Speed  \n",
       "3873    0.0  23.36063  \n",
       "7671    0.0  29.99862  \n",
       "698     0.0  20.05411  "
      ]
     },
     "execution_count": 2,
     "metadata": {},
     "output_type": "execute_result"
    }
   ],
   "source": [
    "df = pd.read_csv(\"data/driving_log.csv\", names=['Center', 'Left', 'Right', 'Steering Angle', 'Throttle', 'Break', 'Speed'])\n",
    "df = shuffle(df)\n",
    "df.head(3)"
   ]
  },
  {
   "cell_type": "markdown",
   "metadata": {},
   "source": [
    "###  First, only predict steering angle, using only center image"
   ]
  },
  {
   "cell_type": "markdown",
   "metadata": {},
   "source": [
    "define input and output, and load to memory. (this may take awhile)"
   ]
  },
  {
   "cell_type": "code",
   "execution_count": 3,
   "metadata": {
    "collapsed": true
   },
   "outputs": [],
   "source": [
    "X_train = np.array([img_path_to_arr(p) for p in df['Center']])\n",
    "y_train = df['Steering Angle'].values\n",
    "\n",
    "input_shape = X_train.shape[1:]"
   ]
  },
  {
   "cell_type": "code",
   "execution_count": 8,
   "metadata": {
    "collapsed": true
   },
   "outputs": [],
   "source": [
    "reduce_lr = ReduceLROnPlateau(patience=4, verbose=1)"
   ]
  },
  {
   "cell_type": "code",
   "execution_count": 5,
   "metadata": {
    "collapsed": true
   },
   "outputs": [],
   "source": [
    "def get_model_original():\n",
    "    model = Sequential([\n",
    "        Lambda(lambda x: x / 255.0 - 0.5, input_shape=input_shape, output_shape=input_shape),\n",
    "        Conv2D(24, kernel_size=(5,5), strides=(2,2), activation='relu'),\n",
    "        Conv2D(36, kernel_size=(5,5), strides=(2,2), activation='relu'),\n",
    "        Conv2D(48, kernel_size=(5,5), strides=(2,2), activation='relu'),\n",
    "        Conv2D(64, kernel_size=(3,3), strides=(1,1), activation='relu'),\n",
    "        Conv2D(64, kernel_size=(3,3), strides=(1,1), activation='relu'),\n",
    "        Flatten(),\n",
    "        Dense(100, activation='relu'),\n",
    "        Dense(50, activation='relu'),\n",
    "        Dense(10, activation='relu'),\n",
    "        Dense(1)\n",
    "    ])\n",
    "    \n",
    "    model.compile(optimizer=\"adam\", loss=\"mse\") \n",
    "    model.summary()\n",
    "    return model"
   ]
  },
  {
   "cell_type": "code",
   "execution_count": 6,
   "metadata": {},
   "outputs": [
    {
     "name": "stdout",
     "output_type": "stream",
     "text": [
      "_________________________________________________________________\n",
      "Layer (type)                 Output Shape              Param #   \n",
      "=================================================================\n",
      "lambda_1 (Lambda)            (None, 3, 160, 320)       0         \n",
      "_________________________________________________________________\n",
      "conv2d_1 (Conv2D)            (None, 24, 78, 158)       1824      \n",
      "_________________________________________________________________\n",
      "conv2d_2 (Conv2D)            (None, 36, 37, 77)        21636     \n",
      "_________________________________________________________________\n",
      "conv2d_3 (Conv2D)            (None, 48, 17, 37)        43248     \n",
      "_________________________________________________________________\n",
      "conv2d_4 (Conv2D)            (None, 64, 15, 35)        27712     \n",
      "_________________________________________________________________\n",
      "conv2d_5 (Conv2D)            (None, 64, 13, 33)        36928     \n",
      "_________________________________________________________________\n",
      "flatten_1 (Flatten)          (None, 27456)             0         \n",
      "_________________________________________________________________\n",
      "dense_1 (Dense)              (None, 100)               2745700   \n",
      "_________________________________________________________________\n",
      "dense_2 (Dense)              (None, 50)                5050      \n",
      "_________________________________________________________________\n",
      "dense_3 (Dense)              (None, 10)                510       \n",
      "_________________________________________________________________\n",
      "dense_4 (Dense)              (None, 1)                 11        \n",
      "=================================================================\n",
      "Total params: 2,882,619\n",
      "Trainable params: 2,882,619\n",
      "Non-trainable params: 0\n",
      "_________________________________________________________________\n"
     ]
    }
   ],
   "source": [
    "model_original = get_model_original()"
   ]
  },
  {
   "cell_type": "code",
   "execution_count": 7,
   "metadata": {
    "scrolled": true
   },
   "outputs": [
    {
     "name": "stdout",
     "output_type": "stream",
     "text": [
      "Train on 9742 samples, validate on 2436 samples\n",
      "Epoch 1/20\n",
      "9742/9742 [==============================] - 10s - loss: 0.0187 - val_loss: 0.0186\n",
      "Epoch 2/20\n",
      "9742/9742 [==============================] - 10s - loss: 0.0155 - val_loss: 0.0176\n",
      "Epoch 3/20\n",
      "9742/9742 [==============================] - 10s - loss: 0.0146 - val_loss: 0.0149\n",
      "Epoch 4/20\n",
      "9742/9742 [==============================] - 10s - loss: 0.0138 - val_loss: 0.0148\n",
      "Epoch 5/20\n",
      "9742/9742 [==============================] - 10s - loss: 0.0127 - val_loss: 0.0143\n",
      "Epoch 6/20\n",
      "9742/9742 [==============================] - 10s - loss: 0.0117 - val_loss: 0.0148\n",
      "Epoch 7/20\n",
      "9742/9742 [==============================] - 10s - loss: 0.0100 - val_loss: 0.0137\n",
      "Epoch 8/20\n",
      "9742/9742 [==============================] - 10s - loss: 0.0087 - val_loss: 0.0151\n",
      "Epoch 9/20\n",
      "9742/9742 [==============================] - 10s - loss: 0.0072 - val_loss: 0.0145\n",
      "Epoch 10/20\n",
      "9742/9742 [==============================] - 10s - loss: 0.0054 - val_loss: 0.0136\n",
      "Epoch 11/20\n",
      "9696/9742 [============================>.] - ETA: 0s - loss: 0.0044\n",
      "Epoch 00010: reducing learning rate to 0.00010000000475.\n",
      "9742/9742 [==============================] - 10s - loss: 0.0044 - val_loss: 0.0137\n",
      "Epoch 12/20\n",
      "9742/9742 [==============================] - 10s - loss: 0.0032 - val_loss: 0.0134\n",
      "Epoch 13/20\n",
      "9742/9742 [==============================] - 10s - loss: 0.0027 - val_loss: 0.0133\n",
      "Epoch 14/20\n",
      "9742/9742 [==============================] - 10s - loss: 0.0024 - val_loss: 0.0134\n",
      "Epoch 15/20\n",
      "9742/9742 [==============================] - 10s - loss: 0.0022 - val_loss: 0.0135\n",
      "Epoch 16/20\n",
      "9696/9742 [============================>.] - ETA: 0s - loss: 0.0021\n",
      "Epoch 00015: reducing learning rate to 1.0000000475e-05.\n",
      "9742/9742 [==============================] - 10s - loss: 0.0021 - val_loss: 0.0136\n",
      "Epoch 17/20\n",
      "9742/9742 [==============================] - 10s - loss: 0.0019 - val_loss: 0.0136\n",
      "Epoch 18/20\n",
      "9742/9742 [==============================] - 10s - loss: 0.0019 - val_loss: 0.0135\n",
      "Epoch 19/20\n",
      "9696/9742 [============================>.] - ETA: 0s - loss: 0.0019\n",
      "Epoch 00018: reducing learning rate to 1.00000006569e-06.\n",
      "9742/9742 [==============================] - 10s - loss: 0.0019 - val_loss: 0.0135\n",
      "Epoch 20/20\n",
      "9742/9742 [==============================] - 10s - loss: 0.0018 - val_loss: 0.0135\n"
     ]
    },
    {
     "data": {
      "text/plain": [
       "<keras.callbacks.History at 0x7f1dc8e8de10>"
      ]
     },
     "execution_count": 7,
     "metadata": {},
     "output_type": "execute_result"
    }
   ],
   "source": [
    "model_original.fit(X_train, y_train, validation_split = 0.2, shuffle = True, epochs = 20, callbacks = [reduce_lr])"
   ]
  },
  {
   "cell_type": "markdown",
   "metadata": {},
   "source": [
    "As we can see above, we're starting to overfit around epoch 10."
   ]
  },
  {
   "cell_type": "code",
   "execution_count": null,
   "metadata": {
    "collapsed": true
   },
   "outputs": [],
   "source": [
    ""
   ]
  },
  {
   "cell_type": "markdown",
   "metadata": {},
   "source": [
    "### Use batch normalization\n",
    "\n",
    "Instead of normalizing the input ourselves, let's add a batch normalization layer as the first layer.\n",
    "\n",
    "While we're at it, let's add bactch norm after each layer."
   ]
  },
  {
   "cell_type": "code",
   "execution_count": 9,
   "metadata": {
    "collapsed": true
   },
   "outputs": [],
   "source": [
    "def get_model_batch_norm():\n",
    "    model = Sequential([\n",
    "        BatchNormalization(axis=1, input_shape=input_shape),\n",
    "        Conv2D(24, kernel_size=(5,5), strides=(2,2), activation='relu'),\n",
    "        BatchNormalization(axis=1),\n",
    "        Conv2D(36, kernel_size=(5,5), strides=(2,2), activation='relu'),\n",
    "        BatchNormalization(axis=1),\n",
    "        Conv2D(48, kernel_size=(5,5), strides=(2,2), activation='relu'),\n",
    "        BatchNormalization(axis=1),\n",
    "        Conv2D(64, kernel_size=(3,3), strides=(1,1), activation='relu'),\n",
    "        BatchNormalization(axis=1),\n",
    "        Conv2D(64, kernel_size=(3,3), strides=(1,1), activation='relu'),\n",
    "        BatchNormalization(axis=1),\n",
    "        Flatten(),\n",
    "        Dense(100, activation='relu'),\n",
    "        BatchNormalization(),\n",
    "        Dense(50, activation='relu'),\n",
    "        BatchNormalization(),\n",
    "        Dense(10, activation='relu'),\n",
    "        BatchNormalization(),\n",
    "        Dense(1)\n",
    "    ])\n",
    "    \n",
    "    model.compile(optimizer=\"adam\", loss=\"mse\") \n",
    "    model.summary()\n",
    "    return model"
   ]
  },
  {
   "cell_type": "code",
   "execution_count": 10,
   "metadata": {
    "scrolled": true
   },
   "outputs": [
    {
     "name": "stdout",
     "output_type": "stream",
     "text": [
      "_________________________________________________________________\n",
      "Layer (type)                 Output Shape              Param #   \n",
      "=================================================================\n",
      "batch_normalization_1 (Batch (None, 3, 160, 320)       12        \n",
      "_________________________________________________________________\n",
      "conv2d_6 (Conv2D)            (None, 24, 78, 158)       1824      \n",
      "_________________________________________________________________\n",
      "batch_normalization_2 (Batch (None, 24, 78, 158)       96        \n",
      "_________________________________________________________________\n",
      "conv2d_7 (Conv2D)            (None, 36, 37, 77)        21636     \n",
      "_________________________________________________________________\n",
      "batch_normalization_3 (Batch (None, 36, 37, 77)        144       \n",
      "_________________________________________________________________\n",
      "conv2d_8 (Conv2D)            (None, 48, 17, 37)        43248     \n",
      "_________________________________________________________________\n",
      "batch_normalization_4 (Batch (None, 48, 17, 37)        192       \n",
      "_________________________________________________________________\n",
      "conv2d_9 (Conv2D)            (None, 64, 15, 35)        27712     \n",
      "_________________________________________________________________\n",
      "batch_normalization_5 (Batch (None, 64, 15, 35)        256       \n",
      "_________________________________________________________________\n",
      "conv2d_10 (Conv2D)           (None, 64, 13, 33)        36928     \n",
      "_________________________________________________________________\n",
      "batch_normalization_6 (Batch (None, 64, 13, 33)        256       \n",
      "_________________________________________________________________\n",
      "flatten_2 (Flatten)          (None, 27456)             0         \n",
      "_________________________________________________________________\n",
      "dense_5 (Dense)              (None, 100)               2745700   \n",
      "_________________________________________________________________\n",
      "batch_normalization_7 (Batch (None, 100)               400       \n",
      "_________________________________________________________________\n",
      "dense_6 (Dense)              (None, 50)                5050      \n",
      "_________________________________________________________________\n",
      "batch_normalization_8 (Batch (None, 50)                200       \n",
      "_________________________________________________________________\n",
      "dense_7 (Dense)              (None, 10)                510       \n",
      "_________________________________________________________________\n",
      "batch_normalization_9 (Batch (None, 10)                40        \n",
      "_________________________________________________________________\n",
      "dense_8 (Dense)              (None, 1)                 11        \n",
      "=================================================================\n",
      "Total params: 2,884,215\n",
      "Trainable params: 2,883,417\n",
      "Non-trainable params: 798\n",
      "_________________________________________________________________\n"
     ]
    }
   ],
   "source": [
    "model_batch_norm = get_model_batch_norm()"
   ]
  },
  {
   "cell_type": "code",
   "execution_count": 12,
   "metadata": {
    "scrolled": true
   },
   "outputs": [
    {
     "name": "stdout",
     "output_type": "stream",
     "text": [
      "Train on 9742 samples, validate on 2436 samples\n",
      "Epoch 1/20\n",
      "9742/9742 [==============================] - 21s - loss: 0.0624 - val_loss: 0.0286\n",
      "Epoch 2/20\n",
      "9742/9742 [==============================] - 21s - loss: 0.0183 - val_loss: 0.0167\n",
      "Epoch 3/20\n",
      "9742/9742 [==============================] - 21s - loss: 0.0146 - val_loss: 0.0162\n",
      "Epoch 4/20\n",
      "9742/9742 [==============================] - 21s - loss: 0.0127 - val_loss: 0.0157\n",
      "Epoch 5/20\n",
      "9742/9742 [==============================] - 21s - loss: 0.0102 - val_loss: 0.0155\n",
      "Epoch 6/20\n",
      "9742/9742 [==============================] - 21s - loss: 0.0081 - val_loss: 0.0165\n",
      "Epoch 7/20\n",
      "9742/9742 [==============================] - 21s - loss: 0.0068 - val_loss: 0.0159\n",
      "Epoch 8/20\n",
      "9742/9742 [==============================] - 21s - loss: 0.0058 - val_loss: 0.0147\n",
      "Epoch 9/20\n",
      "9742/9742 [==============================] - 21s - loss: 0.0051 - val_loss: 0.0154\n",
      "Epoch 10/20\n",
      "9742/9742 [==============================] - 21s - loss: 0.0048 - val_loss: 0.0150\n",
      "Epoch 11/20\n",
      "9742/9742 [==============================] - 21s - loss: 0.0044 - val_loss: 0.0156\n",
      "Epoch 12/20\n",
      "9742/9742 [==============================] - 21s - loss: 0.0046 - val_loss: 0.0160\n",
      "Epoch 13/20\n",
      "9742/9742 [==============================] - 21s - loss: 0.0041 - val_loss: 0.0146\n",
      "Epoch 14/20\n",
      "9742/9742 [==============================] - 21s - loss: 0.0039 - val_loss: 0.0145\n",
      "Epoch 15/20\n",
      "9742/9742 [==============================] - 21s - loss: 0.0038 - val_loss: 0.0144\n",
      "Epoch 16/20\n",
      "9742/9742 [==============================] - 21s - loss: 0.0038 - val_loss: 0.0154\n",
      "Epoch 17/20\n",
      "9742/9742 [==============================] - 21s - loss: 0.0034 - val_loss: 0.0157\n",
      "Epoch 18/20\n",
      "9742/9742 [==============================] - 21s - loss: 0.0063 - val_loss: 0.0176\n",
      "Epoch 19/20\n",
      "9742/9742 [==============================] - 21s - loss: 0.0084 - val_loss: 0.0178\n",
      "Epoch 20/20\n",
      "9728/9742 [============================>.] - ETA: 0s - loss: 0.0051\n",
      "Epoch 00019: reducing learning rate to 0.00010000000475.\n",
      "9742/9742 [==============================] - 21s - loss: 0.0051 - val_loss: 0.0155\n"
     ]
    },
    {
     "data": {
      "text/plain": [
       "<keras.callbacks.History at 0x7f1dbe214a10>"
      ]
     },
     "execution_count": 12,
     "metadata": {},
     "output_type": "execute_result"
    }
   ],
   "source": [
    "model_batch_norm.fit(X_train, y_train, validation_split = 0.2, shuffle = True, epochs = 20, callbacks = [reduce_lr])"
   ]
  },
  {
   "cell_type": "code",
   "execution_count": 13,
   "metadata": {
    "scrolled": true
   },
   "outputs": [
    {
     "name": "stdout",
     "output_type": "stream",
     "text": [
      "Train on 9742 samples, validate on 2436 samples\n",
      "Epoch 1/20\n",
      "9742/9742 [==============================] - 21s - loss: 0.0036 - val_loss: 0.0143\n",
      "Epoch 2/20\n",
      "9742/9742 [==============================] - 21s - loss: 0.0028 - val_loss: 0.0143\n",
      "Epoch 3/20\n",
      "9742/9742 [==============================] - 21s - loss: 0.0026 - val_loss: 0.0141\n",
      "Epoch 4/20\n",
      "9742/9742 [==============================] - 21s - loss: 0.0023 - val_loss: 0.0139\n",
      "Epoch 5/20\n",
      "9742/9742 [==============================] - 21s - loss: 0.0021 - val_loss: 0.0139\n",
      "Epoch 6/20\n",
      "9742/9742 [==============================] - 21s - loss: 0.0019 - val_loss: 0.0141\n",
      "Epoch 7/20\n",
      "9742/9742 [==============================] - 21s - loss: 0.0019 - val_loss: 0.0139\n",
      "Epoch 8/20\n",
      "9742/9742 [==============================] - 21s - loss: 0.0018 - val_loss: 0.0139\n",
      "Epoch 9/20\n",
      "9728/9742 [============================>.] - ETA: 0s - loss: 0.0017\n",
      "Epoch 00008: reducing learning rate to 1.0000000475e-05.\n",
      "9742/9742 [==============================] - 21s - loss: 0.0017 - val_loss: 0.0138\n",
      "Epoch 10/20\n",
      "9742/9742 [==============================] - 21s - loss: 0.0016 - val_loss: 0.0138\n",
      "Epoch 11/20\n",
      "9742/9742 [==============================] - 21s - loss: 0.0016 - val_loss: 0.0138\n",
      "Epoch 12/20\n",
      "9742/9742 [==============================] - 21s - loss: 0.0016 - val_loss: 0.0139\n",
      "Epoch 13/20\n",
      "9742/9742 [==============================] - 21s - loss: 0.0016 - val_loss: 0.0138\n",
      "Epoch 14/20\n",
      "9742/9742 [==============================] - 21s - loss: 0.0016 - val_loss: 0.0137\n",
      "Epoch 15/20\n",
      "9742/9742 [==============================] - 21s - loss: 0.0015 - val_loss: 0.0139\n",
      "Epoch 16/20\n",
      "9742/9742 [==============================] - 21s - loss: 0.0016 - val_loss: 0.0138\n",
      "Epoch 17/20\n",
      "9742/9742 [==============================] - 21s - loss: 0.0015 - val_loss: 0.0138\n",
      "Epoch 18/20\n",
      "9728/9742 [============================>.] - ETA: 0s - loss: 0.0015\n",
      "Epoch 00017: reducing learning rate to 1.00000006569e-06.\n",
      "9742/9742 [==============================] - 21s - loss: 0.0015 - val_loss: 0.0137\n",
      "Epoch 19/20\n",
      "9742/9742 [==============================] - 21s - loss: 0.0015 - val_loss: 0.0137\n",
      "Epoch 20/20\n",
      "9742/9742 [==============================] - 21s - loss: 0.0015 - val_loss: 0.0137\n"
     ]
    },
    {
     "data": {
      "text/plain": [
       "<keras.callbacks.History at 0x7f1dc0f14fd0>"
      ]
     },
     "execution_count": 13,
     "metadata": {},
     "output_type": "execute_result"
    }
   ],
   "source": [
    "model_batch_norm.fit(X_train, y_train, validation_split = 0.2, shuffle = True, epochs = 20, callbacks = [reduce_lr])"
   ]
  },
  {
   "cell_type": "markdown",
   "metadata": {},
   "source": [
    "As we can see, batch norm didn't help."
   ]
  },
  {
   "cell_type": "code",
   "execution_count": null,
   "metadata": {
    "collapsed": true
   },
   "outputs": [],
   "source": [
    ""
   ]
  },
  {
   "cell_type": "code",
   "execution_count": null,
   "metadata": {
    "collapsed": true
   },
   "outputs": [],
   "source": [
    ""
   ]
  },
  {
   "cell_type": "code",
   "execution_count": null,
   "metadata": {
    "collapsed": true
   },
   "outputs": [],
   "source": [
    ""
   ]
  },
  {
   "cell_type": "code",
   "execution_count": null,
   "metadata": {
    "collapsed": true
   },
   "outputs": [],
   "source": [
    ""
   ]
  },
  {
   "cell_type": "code",
   "execution_count": null,
   "metadata": {
    "collapsed": true
   },
   "outputs": [],
   "source": [
    ""
   ]
  }
 ],
 "metadata": {
  "kernelspec": {
   "display_name": "Python [conda root]",
   "language": "python",
   "name": "conda-root-py"
  },
  "language_info": {
   "codemirror_mode": {
    "name": "ipython",
    "version": 2.0
   },
   "file_extension": ".py",
   "mimetype": "text/x-python",
   "name": "python",
   "nbconvert_exporter": "python",
   "pygments_lexer": "ipython2",
   "version": "2.7.13"
  }
 },
 "nbformat": 4,
 "nbformat_minor": 0
}
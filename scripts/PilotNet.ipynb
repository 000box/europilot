{
 "cells": [
  {
   "cell_type": "markdown",
   "metadata": {},
   "source": [
    "## Implementation of PilotNet, with variation\n",
    "\n",
    "Implement [PilotNet](https://arxiv.org/pdf/1604.07316.pdf) using Keras (with theano backend), while also trying different variations"
   ]
  },
  {
   "cell_type": "code",
   "execution_count": 19,
   "metadata": {
    "scrolled": true
   },
   "outputs": [],
   "source": [
    "import os\n",
    "import pandas as pd\n",
    "import numpy as np\n",
    "\n",
    "from sklearn.utils import shuffle"
   ]
  },
  {
   "cell_type": "code",
   "execution_count": 20,
   "metadata": {
    "collapsed": true
   },
   "outputs": [],
   "source": [
    "import keras\n",
    "from keras import backend as K\n",
    "from keras.utils.data_utils import get_file\n",
    "from keras.utils import np_utils\n",
    "from keras.utils.np_utils import to_categorical\n",
    "from keras.models import Sequential, Model\n",
    "from keras.layers import Input, Embedding, Reshape, merge, LSTM, Bidirectional\n",
    "from keras.layers import SpatialDropout1D, Concatenate  # Keras2\n",
    "\n",
    "from keras.layers import TimeDistributed, Activation, SimpleRNN, GRU\n",
    "from keras.layers.core import Flatten, Dense, Dropout, Lambda\n",
    "\n",
    "from keras.regularizers import l2, l1\n",
    "\n",
    "from keras.layers.normalization import BatchNormalization\n",
    "from keras.optimizers import SGD, RMSprop, Adam\n",
    "\n",
    "from keras.layers import deserialize\n",
    "from keras.layers.merge import dot, add, concatenate\n",
    "from keras.metrics import categorical_crossentropy, categorical_accuracy\n",
    "from keras.layers.convolutional import *\n",
    "from keras.preprocessing import image, sequence\n",
    "from keras.preprocessing.text import Tokenizer\n",
    "\n",
    "from keras.callbacks import ReduceLROnPlateau"
   ]
  },
  {
   "cell_type": "markdown",
   "metadata": {},
   "source": [
    "### Check data format"
   ]
  },
  {
   "cell_type": "markdown",
   "metadata": {},
   "source": [
    "check the csv output, and shuffle"
   ]
  },
  {
   "cell_type": "code",
   "execution_count": 2,
   "metadata": {},
   "outputs": [
    {
     "name": "stdout",
     "output_type": "stream",
     "text": [
      "9d0c3c2b.csv  \u001b[0m\u001b[01;34mimg\u001b[0m/\r\n"
     ]
    }
   ],
   "source": [
    "%ls ../data/"
   ]
  },
  {
   "cell_type": "code",
   "execution_count": 29,
   "metadata": {
    "collapsed": true
   },
   "outputs": [],
   "source": [
    "data_path = '../data/'\n",
    "img_front_dir_path = '../data/img/front/'\n",
    "model_path = '../model/'\n",
    "cur_file = '9d0c3c2b'"
   ]
  },
  {
   "cell_type": "code",
   "execution_count": 5,
   "metadata": {
    "scrolled": false
   },
   "outputs": [
    {
     "data": {
      "text/html": [
       "<div>\n",
       "<style>\n",
       "    .dataframe thead tr:only-child th {\n",
       "        text-align: right;\n",
       "    }\n",
       "\n",
       "    .dataframe thead th {\n",
       "        text-align: left;\n",
       "    }\n",
       "\n",
       "    .dataframe tbody tr th {\n",
       "        vertical-align: top;\n",
       "    }\n",
       "</style>\n",
       "<table border=\"1\" class=\"dataframe\">\n",
       "  <thead>\n",
       "    <tr style=\"text-align: right;\">\n",
       "      <th></th>\n",
       "      <th>id</th>\n",
       "      <th>img</th>\n",
       "      <th>wheel-axis</th>\n",
       "      <th>clutch</th>\n",
       "      <th>brake</th>\n",
       "      <th>gas</th>\n",
       "      <th>paddle-left</th>\n",
       "      <th>paddle-right</th>\n",
       "      <th>wheel-button-left-1</th>\n",
       "      <th>wheel-button-left-2</th>\n",
       "      <th>...</th>\n",
       "      <th>gear-1</th>\n",
       "      <th>gear-2</th>\n",
       "      <th>gear-3</th>\n",
       "      <th>gear-4</th>\n",
       "      <th>gear-5</th>\n",
       "      <th>gear-6</th>\n",
       "      <th>gear-R</th>\n",
       "      <th>front</th>\n",
       "      <th>side_left</th>\n",
       "      <th>side_right</th>\n",
       "    </tr>\n",
       "  </thead>\n",
       "  <tbody>\n",
       "    <tr>\n",
       "      <th>1267</th>\n",
       "      <td>1267</td>\n",
       "      <td>9d0c3c2b_2017_07_27_14_57_29_96.jpg</td>\n",
       "      <td>24</td>\n",
       "      <td>0</td>\n",
       "      <td>0</td>\n",
       "      <td>0</td>\n",
       "      <td>0</td>\n",
       "      <td>0</td>\n",
       "      <td>0</td>\n",
       "      <td>0</td>\n",
       "      <td>...</td>\n",
       "      <td>0</td>\n",
       "      <td>0</td>\n",
       "      <td>0</td>\n",
       "      <td>0</td>\n",
       "      <td>0</td>\n",
       "      <td>0</td>\n",
       "      <td>0</td>\n",
       "      <td>9d0c3c2b_2017_07_27_14_57_29_96_front.jpg</td>\n",
       "      <td>9d0c3c2b_2017_07_27_14_57_29_96_left.jpg</td>\n",
       "      <td>9d0c3c2b_2017_07_27_14_57_29_96_right.jpg</td>\n",
       "    </tr>\n",
       "    <tr>\n",
       "      <th>335</th>\n",
       "      <td>335</td>\n",
       "      <td>9d0c3c2b_2017_07_27_14_55_56_62.jpg</td>\n",
       "      <td>-813</td>\n",
       "      <td>0</td>\n",
       "      <td>0</td>\n",
       "      <td>65535</td>\n",
       "      <td>0</td>\n",
       "      <td>0</td>\n",
       "      <td>0</td>\n",
       "      <td>0</td>\n",
       "      <td>...</td>\n",
       "      <td>0</td>\n",
       "      <td>0</td>\n",
       "      <td>0</td>\n",
       "      <td>0</td>\n",
       "      <td>0</td>\n",
       "      <td>0</td>\n",
       "      <td>0</td>\n",
       "      <td>9d0c3c2b_2017_07_27_14_55_56_62_front.jpg</td>\n",
       "      <td>9d0c3c2b_2017_07_27_14_55_56_62_left.jpg</td>\n",
       "      <td>9d0c3c2b_2017_07_27_14_55_56_62_right.jpg</td>\n",
       "    </tr>\n",
       "    <tr>\n",
       "      <th>1248</th>\n",
       "      <td>1248</td>\n",
       "      <td>9d0c3c2b_2017_07_27_14_57_28_05.jpg</td>\n",
       "      <td>-409</td>\n",
       "      <td>0</td>\n",
       "      <td>0</td>\n",
       "      <td>0</td>\n",
       "      <td>0</td>\n",
       "      <td>0</td>\n",
       "      <td>0</td>\n",
       "      <td>0</td>\n",
       "      <td>...</td>\n",
       "      <td>0</td>\n",
       "      <td>0</td>\n",
       "      <td>0</td>\n",
       "      <td>0</td>\n",
       "      <td>0</td>\n",
       "      <td>0</td>\n",
       "      <td>0</td>\n",
       "      <td>9d0c3c2b_2017_07_27_14_57_28_05_front.jpg</td>\n",
       "      <td>9d0c3c2b_2017_07_27_14_57_28_05_left.jpg</td>\n",
       "      <td>9d0c3c2b_2017_07_27_14_57_28_05_right.jpg</td>\n",
       "    </tr>\n",
       "  </tbody>\n",
       "</table>\n",
       "<p>3 rows × 34 columns</p>\n",
       "</div>"
      ],
      "text/plain": [
       "        id                                  img  wheel-axis  clutch  brake  \\\n",
       "1267  1267  9d0c3c2b_2017_07_27_14_57_29_96.jpg          24       0      0   \n",
       "335    335  9d0c3c2b_2017_07_27_14_55_56_62.jpg        -813       0      0   \n",
       "1248  1248  9d0c3c2b_2017_07_27_14_57_28_05.jpg        -409       0      0   \n",
       "\n",
       "        gas  paddle-left  paddle-right  wheel-button-left-1  \\\n",
       "1267      0            0             0                    0   \n",
       "335   65535            0             0                    0   \n",
       "1248      0            0             0                    0   \n",
       "\n",
       "      wheel-button-left-2                    ...                      gear-1  \\\n",
       "1267                    0                    ...                           0   \n",
       "335                     0                    ...                           0   \n",
       "1248                    0                    ...                           0   \n",
       "\n",
       "      gear-2  gear-3  gear-4  gear-5  gear-6  gear-R  \\\n",
       "1267       0       0       0       0       0       0   \n",
       "335        0       0       0       0       0       0   \n",
       "1248       0       0       0       0       0       0   \n",
       "\n",
       "                                          front  \\\n",
       "1267  9d0c3c2b_2017_07_27_14_57_29_96_front.jpg   \n",
       "335   9d0c3c2b_2017_07_27_14_55_56_62_front.jpg   \n",
       "1248  9d0c3c2b_2017_07_27_14_57_28_05_front.jpg   \n",
       "\n",
       "                                     side_left  \\\n",
       "1267  9d0c3c2b_2017_07_27_14_57_29_96_left.jpg   \n",
       "335   9d0c3c2b_2017_07_27_14_55_56_62_left.jpg   \n",
       "1248  9d0c3c2b_2017_07_27_14_57_28_05_left.jpg   \n",
       "\n",
       "                                     side_right  \n",
       "1267  9d0c3c2b_2017_07_27_14_57_29_96_right.jpg  \n",
       "335   9d0c3c2b_2017_07_27_14_55_56_62_right.jpg  \n",
       "1248  9d0c3c2b_2017_07_27_14_57_28_05_right.jpg  \n",
       "\n",
       "[3 rows x 34 columns]"
      ]
     },
     "execution_count": 5,
     "metadata": {},
     "output_type": "execute_result"
    }
   ],
   "source": [
    "df = pd.read_csv(os.path.join(data_path, cur_file+'.csv'))\n",
    "df = shuffle(df)\n",
    "df.head(3)"
   ]
  },
  {
   "cell_type": "markdown",
   "metadata": {},
   "source": [
    "###  First, let's try to predict steering angle, using front image"
   ]
  },
  {
   "cell_type": "markdown",
   "metadata": {},
   "source": [
    "define input and output, and load to memory. (should change to batch style code)"
   ]
  },
  {
   "cell_type": "code",
   "execution_count": 10,
   "metadata": {
    "collapsed": true
   },
   "outputs": [],
   "source": [
    "def img_to_arr(p):\n",
    "    with image.load_img(p) as img:\n",
    "        img = image.img_to_array(img)\n",
    "    return img"
   ]
  },
  {
   "cell_type": "code",
   "execution_count": 11,
   "metadata": {},
   "outputs": [],
   "source": [
    "X_train = np.array([img_to_arr(os.path.join(img_front_dir_path, p)) for p in df['front']])\n",
    "y_train = df['wheel-axis'].values\n",
    "\n",
    "input_shape = X_train.shape[1:]"
   ]
  },
  {
   "cell_type": "code",
   "execution_count": 31,
   "metadata": {},
   "outputs": [
    {
     "data": {
      "text/plain": [
       "(1357, 3, 341, 562)"
      ]
     },
     "execution_count": 31,
     "metadata": {},
     "output_type": "execute_result"
    }
   ],
   "source": [
    "X_train.shape"
   ]
  },
  {
   "cell_type": "code",
   "execution_count": 24,
   "metadata": {
    "scrolled": true
   },
   "outputs": [],
   "source": [
    "reduce_lr = ReduceLROnPlateau(patience=5, verbose=1, min_lr=1e-07)"
   ]
  },
  {
   "cell_type": "code",
   "execution_count": 25,
   "metadata": {
    "collapsed": true
   },
   "outputs": [],
   "source": [
    "def get_model_original():\n",
    "    model = Sequential([\n",
    "        Lambda(lambda x: x / 255.0 - 0.5, input_shape=input_shape, output_shape=input_shape),\n",
    "        Conv2D(24, kernel_size=(5,5), strides=(2,2), activation='relu'),\n",
    "        Conv2D(36, kernel_size=(5,5), strides=(2,2), activation='relu'),\n",
    "        Conv2D(48, kernel_size=(5,5), strides=(2,2), activation='relu'),\n",
    "        Conv2D(64, kernel_size=(3,3), strides=(1,1), activation='relu'),\n",
    "        Conv2D(64, kernel_size=(3,3), strides=(1,1), activation='relu'),\n",
    "        Flatten(),\n",
    "        Dense(100, activation='relu'),\n",
    "        Dense(50, activation='relu'),\n",
    "        Dense(10, activation='relu'),\n",
    "        Dense(1)\n",
    "    ])\n",
    "    \n",
    "    model.compile(optimizer=\"adam\", loss=\"mse\") \n",
    "    model.summary()\n",
    "    return model"
   ]
  },
  {
   "cell_type": "code",
   "execution_count": 26,
   "metadata": {
    "scrolled": true
   },
   "outputs": [
    {
     "name": "stdout",
     "output_type": "stream",
     "text": [
      "_________________________________________________________________\n",
      "Layer (type)                 Output Shape              Param #   \n",
      "=================================================================\n",
      "lambda_3 (Lambda)            (None, 3, 341, 562)       0         \n",
      "_________________________________________________________________\n",
      "conv2d_6 (Conv2D)            (None, 24, 169, 279)      1824      \n",
      "_________________________________________________________________\n",
      "conv2d_7 (Conv2D)            (None, 36, 83, 138)       21636     \n",
      "_________________________________________________________________\n",
      "conv2d_8 (Conv2D)            (None, 48, 40, 67)        43248     \n",
      "_________________________________________________________________\n",
      "conv2d_9 (Conv2D)            (None, 64, 38, 65)        27712     \n",
      "_________________________________________________________________\n",
      "conv2d_10 (Conv2D)           (None, 64, 36, 63)        36928     \n",
      "_________________________________________________________________\n",
      "flatten_2 (Flatten)          (None, 145152)            0         \n",
      "_________________________________________________________________\n",
      "dense_5 (Dense)              (None, 100)               14515300  \n",
      "_________________________________________________________________\n",
      "dense_6 (Dense)              (None, 50)                5050      \n",
      "_________________________________________________________________\n",
      "dense_7 (Dense)              (None, 10)                510       \n",
      "_________________________________________________________________\n",
      "dense_8 (Dense)              (None, 1)                 11        \n",
      "=================================================================\n",
      "Total params: 14,652,219\n",
      "Trainable params: 14,652,219\n",
      "Non-trainable params: 0\n",
      "_________________________________________________________________\n"
     ]
    }
   ],
   "source": [
    "model_original = get_model_original()"
   ]
  },
  {
   "cell_type": "code",
   "execution_count": 27,
   "metadata": {
    "scrolled": true
   },
   "outputs": [
    {
     "name": "stdout",
     "output_type": "stream",
     "text": [
      "Train on 1085 samples, validate on 272 samples\n",
      "Epoch 1/200\n",
      "1085/1085 [==============================] - 4s - loss: 322856.8368 - val_loss: 178344.3093\n",
      "Epoch 2/200\n",
      "1085/1085 [==============================] - 4s - loss: 89878.9937 - val_loss: 53685.7809\n",
      "Epoch 3/200\n",
      "1085/1085 [==============================] - 4s - loss: 35448.5003 - val_loss: 33843.5757\n",
      "Epoch 4/200\n",
      "1085/1085 [==============================] - 4s - loss: 23121.1149 - val_loss: 16078.1961\n",
      "Epoch 5/200\n",
      "1085/1085 [==============================] - 4s - loss: 14546.1680 - val_loss: 10657.0036\n",
      "Epoch 6/200\n",
      "1085/1085 [==============================] - 4s - loss: 9217.5359 - val_loss: 8173.0681\n",
      "Epoch 7/200\n",
      "1085/1085 [==============================] - 4s - loss: 6850.3887 - val_loss: 7804.9262\n",
      "Epoch 8/200\n",
      "1085/1085 [==============================] - 4s - loss: 5530.7192 - val_loss: 4830.2567\n",
      "Epoch 9/200\n",
      "1085/1085 [==============================] - 4s - loss: 4611.8835 - val_loss: 5014.8635\n",
      "Epoch 10/200\n",
      "1085/1085 [==============================] - 4s - loss: 3351.9061 - val_loss: 6830.5378\n",
      "Epoch 11/200\n",
      "1085/1085 [==============================] - 4s - loss: 3616.0461 - val_loss: 3095.8623\n",
      "Epoch 12/200\n",
      "1085/1085 [==============================] - 4s - loss: 2215.0897 - val_loss: 2962.7117\n",
      "Epoch 13/200\n",
      "1085/1085 [==============================] - 4s - loss: 1864.1639 - val_loss: 2237.8628\n",
      "Epoch 14/200\n",
      "1085/1085 [==============================] - 4s - loss: 1246.6397 - val_loss: 2088.3973\n",
      "Epoch 15/200\n",
      "1085/1085 [==============================] - 4s - loss: 1170.8527 - val_loss: 2326.5249\n",
      "Epoch 16/200\n",
      "1085/1085 [==============================] - 4s - loss: 1810.3080 - val_loss: 2442.6905\n",
      "Epoch 17/200\n",
      "1085/1085 [==============================] - 4s - loss: 1562.6405 - val_loss: 1572.2390\n",
      "Epoch 18/200\n",
      "1085/1085 [==============================] - 4s - loss: 2389.5509 - val_loss: 4409.4549\n",
      "Epoch 19/200\n",
      "1085/1085 [==============================] - 4s - loss: 2126.5558 - val_loss: 3551.1868\n",
      "Epoch 20/200\n",
      "1085/1085 [==============================] - 4s - loss: 1328.3708 - val_loss: 1777.1424\n",
      "Epoch 21/200\n",
      "1085/1085 [==============================] - 4s - loss: 878.5244 - val_loss: 1646.6493\n",
      "Epoch 22/200\n",
      "1085/1085 [==============================] - 4s - loss: 878.7745 - val_loss: 1856.7408\n",
      "Epoch 23/200\n",
      "1056/1085 [============================>.] - ETA: 0s - loss: 855.6219\n",
      "Epoch 00022: reducing learning rate to 0.00010000000475.\n",
      "1085/1085 [==============================] - 4s - loss: 847.4143 - val_loss: 1660.9333\n",
      "Epoch 24/200\n",
      "1085/1085 [==============================] - 4s - loss: 482.3626 - val_loss: 1316.4988\n",
      "Epoch 25/200\n",
      "1085/1085 [==============================] - 4s - loss: 335.8012 - val_loss: 1280.9782\n",
      "Epoch 26/200\n",
      "1085/1085 [==============================] - 4s - loss: 305.8904 - val_loss: 1251.1924\n",
      "Epoch 27/200\n",
      "1085/1085 [==============================] - 4s - loss: 293.1636 - val_loss: 1225.5667\n",
      "Epoch 28/200\n",
      "1085/1085 [==============================] - 4s - loss: 294.2783 - val_loss: 1214.4485\n",
      "Epoch 29/200\n",
      "1085/1085 [==============================] - 4s - loss: 282.0577 - val_loss: 1216.1056\n",
      "Epoch 30/200\n",
      "1085/1085 [==============================] - 4s - loss: 275.1683 - val_loss: 1200.3231\n",
      "Epoch 31/200\n",
      "1085/1085 [==============================] - 4s - loss: 270.0382 - val_loss: 1222.9099\n",
      "Epoch 32/200\n",
      "1085/1085 [==============================] - 4s - loss: 268.1781 - val_loss: 1229.1519\n",
      "Epoch 33/200\n",
      "1085/1085 [==============================] - 4s - loss: 261.0454 - val_loss: 1222.6175\n",
      "Epoch 34/200\n",
      "1085/1085 [==============================] - 4s - loss: 262.7605 - val_loss: 1189.6864\n",
      "Epoch 35/200\n",
      "1085/1085 [==============================] - 4s - loss: 250.6653 - val_loss: 1165.1051\n",
      "Epoch 36/200\n",
      "1085/1085 [==============================] - 4s - loss: 254.3490 - val_loss: 1163.9487\n",
      "Epoch 37/200\n",
      "1085/1085 [==============================] - 4s - loss: 247.4072 - val_loss: 1176.9859\n",
      "Epoch 38/200\n",
      "1085/1085 [==============================] - 4s - loss: 239.9282 - val_loss: 1152.2616\n",
      "Epoch 39/200\n",
      "1085/1085 [==============================] - 4s - loss: 237.9999 - val_loss: 1129.4349\n",
      "Epoch 40/200\n",
      "1085/1085 [==============================] - 4s - loss: 239.6750 - val_loss: 1181.3837\n",
      "Epoch 41/200\n",
      "1085/1085 [==============================] - 4s - loss: 229.3281 - val_loss: 1112.0777\n",
      "Epoch 42/200\n",
      "1085/1085 [==============================] - 4s - loss: 225.5397 - val_loss: 1149.9446\n",
      "Epoch 43/200\n",
      "1085/1085 [==============================] - 4s - loss: 222.8600 - val_loss: 1128.3564\n",
      "Epoch 44/200\n",
      "1085/1085 [==============================] - 4s - loss: 234.6479 - val_loss: 1084.7921\n",
      "Epoch 45/200\n",
      "1085/1085 [==============================] - 4s - loss: 215.3683 - val_loss: 1077.3328\n",
      "Epoch 46/200\n",
      "1085/1085 [==============================] - 4s - loss: 217.4662 - val_loss: 1062.9665\n",
      "Epoch 47/200\n",
      "1085/1085 [==============================] - 4s - loss: 220.3630 - val_loss: 1150.6387\n",
      "Epoch 48/200\n",
      "1085/1085 [==============================] - 4s - loss: 228.1010 - val_loss: 1080.1180\n",
      "Epoch 49/200\n",
      "1085/1085 [==============================] - 4s - loss: 208.7895 - val_loss: 1077.5962\n",
      "Epoch 50/200\n",
      "1085/1085 [==============================] - 4s - loss: 203.8684 - val_loss: 1127.3006\n",
      "Epoch 51/200\n",
      "1085/1085 [==============================] - 4s - loss: 203.9320 - val_loss: 1099.4306\n",
      "Epoch 52/200\n",
      "1085/1085 [==============================] - 4s - loss: 198.6400 - val_loss: 1048.6353\n",
      "Epoch 53/200\n",
      "1085/1085 [==============================] - 4s - loss: 205.6600 - val_loss: 1048.6717\n",
      "Epoch 54/200\n",
      "1085/1085 [==============================] - 4s - loss: 204.7326 - val_loss: 1077.8615\n",
      "Epoch 55/200\n",
      "1085/1085 [==============================] - 4s - loss: 189.0581 - val_loss: 1022.9191\n",
      "Epoch 56/200\n",
      "1085/1085 [==============================] - 4s - loss: 192.1122 - val_loss: 1050.4513\n",
      "Epoch 57/200\n",
      "1085/1085 [==============================] - 4s - loss: 188.5323 - val_loss: 1011.8859\n",
      "Epoch 58/200\n",
      "1085/1085 [==============================] - 4s - loss: 189.2325 - val_loss: 1011.0917\n",
      "Epoch 59/200\n",
      "1085/1085 [==============================] - 4s - loss: 178.5220 - val_loss: 1071.6483\n",
      "Epoch 60/200\n",
      "1085/1085 [==============================] - 4s - loss: 188.6101 - val_loss: 1012.6163\n",
      "Epoch 61/200\n",
      "1085/1085 [==============================] - 4s - loss: 191.8516 - val_loss: 995.5466\n",
      "Epoch 62/200\n",
      "1085/1085 [==============================] - 4s - loss: 174.4383 - val_loss: 1011.2819\n",
      "Epoch 63/200\n",
      "1085/1085 [==============================] - 4s - loss: 181.1553 - val_loss: 1127.2342\n",
      "Epoch 64/200\n",
      "1085/1085 [==============================] - 4s - loss: 172.3922 - val_loss: 969.9962\n",
      "Epoch 65/200\n",
      "1085/1085 [==============================] - 4s - loss: 164.0006 - val_loss: 999.5432\n",
      "Epoch 66/200\n",
      "1085/1085 [==============================] - 4s - loss: 161.3376 - val_loss: 1002.6769\n",
      "Epoch 67/200\n",
      "1085/1085 [==============================] - 4s - loss: 170.7074 - val_loss: 990.8355\n",
      "Epoch 68/200\n",
      "1085/1085 [==============================] - 4s - loss: 161.4503 - val_loss: 1005.5447\n",
      "Epoch 69/200\n",
      "1085/1085 [==============================] - 4s - loss: 166.9003 - val_loss: 1011.3502\n",
      "Epoch 70/200\n",
      "1056/1085 [============================>.] - ETA: 0s - loss: 160.7988\n",
      "Epoch 00069: reducing learning rate to 1.0000000475e-05.\n",
      "1085/1085 [==============================] - 4s - loss: 160.7026 - val_loss: 995.2645\n",
      "Epoch 71/200\n",
      "1085/1085 [==============================] - 4s - loss: 145.1593 - val_loss: 950.2352\n",
      "Epoch 72/200\n",
      "1085/1085 [==============================] - 4s - loss: 139.5011 - val_loss: 952.9099\n",
      "Epoch 73/200\n",
      "1085/1085 [==============================] - 4s - loss: 138.1118 - val_loss: 953.8225\n",
      "Epoch 74/200\n",
      "1085/1085 [==============================] - 4s - loss: 138.1276 - val_loss: 958.0749\n",
      "Epoch 75/200\n",
      "1085/1085 [==============================] - 4s - loss: 138.1118 - val_loss: 955.6419\n",
      "Epoch 76/200\n",
      "1085/1085 [==============================] - 4s - loss: 137.6624 - val_loss: 947.9151\n",
      "Epoch 77/200\n",
      "1085/1085 [==============================] - 4s - loss: 137.2270 - val_loss: 952.0174\n",
      "Epoch 78/200\n",
      "1085/1085 [==============================] - 4s - loss: 136.3807 - val_loss: 945.0627\n",
      "Epoch 79/200\n"
     ]
    },
    {
     "name": "stdout",
     "output_type": "stream",
     "text": [
      "1085/1085 [==============================] - 4s - loss: 136.2487 - val_loss: 954.0954\n",
      "Epoch 80/200\n",
      "1085/1085 [==============================] - 6s - loss: 137.5724 - val_loss: 954.2149\n",
      "Epoch 81/200\n",
      "1085/1085 [==============================] - 6s - loss: 136.1583 - val_loss: 951.5834\n",
      "Epoch 82/200\n",
      "1085/1085 [==============================] - 6s - loss: 135.4220 - val_loss: 950.7741\n",
      "Epoch 83/200\n",
      "1085/1085 [==============================] - 6s - loss: 135.7186 - val_loss: 954.2925\n",
      "Epoch 84/200\n",
      "1056/1085 [============================>.] - ETA: 0s - loss: 134.3506\n",
      "Epoch 00083: reducing learning rate to 1.00000006569e-06.\n",
      "1085/1085 [==============================] - 6s - loss: 135.4220 - val_loss: 958.0565\n",
      "Epoch 85/200\n",
      "1085/1085 [==============================] - 6s - loss: 133.3969 - val_loss: 952.7108\n",
      "Epoch 86/200\n",
      "1085/1085 [==============================] - 6s - loss: 132.9185 - val_loss: 951.1785\n",
      "Epoch 87/200\n",
      "1085/1085 [==============================] - 6s - loss: 132.8839 - val_loss: 950.0476\n",
      "Epoch 88/200\n",
      "1085/1085 [==============================] - 6s - loss: 132.7945 - val_loss: 950.9172\n",
      "Epoch 89/200\n",
      "1056/1085 [============================>.] - ETA: 0s - loss: 131.7904\n",
      "Epoch 00088: reducing learning rate to 1.00000011116e-07.\n",
      "1085/1085 [==============================] - 4s - loss: 132.7677 - val_loss: 949.1140\n",
      "Epoch 90/200\n",
      "1085/1085 [==============================] - 4s - loss: 132.4756 - val_loss: 949.2012\n",
      "Epoch 91/200\n",
      "1085/1085 [==============================] - 6s - loss: 132.4787 - val_loss: 949.2694\n",
      "Epoch 92/200\n",
      "1085/1085 [==============================] - 4s - loss: 132.4727 - val_loss: 949.3373\n",
      "Epoch 93/200\n",
      "1085/1085 [==============================] - 4s - loss: 132.4711 - val_loss: 949.3099\n",
      "Epoch 94/200\n",
      "1056/1085 [============================>.] - ETA: 0s - loss: 133.4428\n",
      "Epoch 00093: reducing learning rate to 1.00000008274e-08.\n",
      "1085/1085 [==============================] - 5s - loss: 132.4577 - val_loss: 949.2939\n",
      "Epoch 95/200\n",
      "1085/1085 [==============================] - 5s - loss: 132.4386 - val_loss: 949.3005\n",
      "Epoch 96/200\n",
      "1085/1085 [==============================] - 5s - loss: 132.4391 - val_loss: 949.3043\n",
      "Epoch 97/200\n",
      "1085/1085 [==============================] - 6s - loss: 132.4391 - val_loss: 949.2990\n",
      "Epoch 98/200\n",
      "1085/1085 [==============================] - 6s - loss: 132.4381 - val_loss: 949.3107\n",
      "Epoch 99/200\n",
      "1056/1085 [============================>.] - ETA: 0s - loss: 132.7074\n",
      "Epoch 00098: reducing learning rate to 1.00000008274e-09.\n",
      "1085/1085 [==============================] - 7s - loss: 132.4373 - val_loss: 949.3061\n",
      "Epoch 100/200\n",
      "1085/1085 [==============================] - 7s - loss: 132.4355 - val_loss: 949.3069\n",
      "Epoch 101/200\n",
      "1085/1085 [==============================] - 7s - loss: 132.4354 - val_loss: 949.3065\n",
      "Epoch 102/200\n",
      "1085/1085 [==============================] - 6s - loss: 132.4355 - val_loss: 949.3067\n",
      "Epoch 103/200\n",
      "1085/1085 [==============================] - 6s - loss: 132.4353 - val_loss: 949.3074\n",
      "Epoch 104/200\n",
      "1056/1085 [============================>.] - ETA: 0s - loss: 132.9186\n",
      "Epoch 00103: reducing learning rate to 1.00000008274e-10.\n",
      "1085/1085 [==============================] - 6s - loss: 132.4355 - val_loss: 949.3069\n",
      "Epoch 105/200\n",
      "1085/1085 [==============================] - 6s - loss: 132.4355 - val_loss: 949.3070\n",
      "Epoch 106/200\n",
      "1085/1085 [==============================] - 6s - loss: 132.4355 - val_loss: 949.3071\n",
      "Epoch 107/200\n",
      "1085/1085 [==============================] - 6s - loss: 132.4355 - val_loss: 949.3072\n",
      "Epoch 108/200\n",
      "1085/1085 [==============================] - 6s - loss: 132.4355 - val_loss: 949.3072\n",
      "Epoch 109/200\n",
      "1056/1085 [============================>.] - ETA: 0s - loss: 134.4421\n",
      "Epoch 00108: reducing learning rate to 1.00000008274e-11.\n",
      "1085/1085 [==============================] - 6s - loss: 132.4355 - val_loss: 949.3068\n",
      "Epoch 110/200\n",
      "1085/1085 [==============================] - 6s - loss: 132.4355 - val_loss: 949.3068\n",
      "Epoch 111/200\n",
      "1085/1085 [==============================] - 6s - loss: 132.4355 - val_loss: 949.3068\n",
      "Epoch 112/200\n",
      "1085/1085 [==============================] - 6s - loss: 132.4355 - val_loss: 949.3068\n",
      "Epoch 113/200\n",
      "1085/1085 [==============================] - 6s - loss: 132.4355 - val_loss: 949.3068\n",
      "Epoch 114/200\n",
      "1056/1085 [============================>.] - ETA: 0s - loss: 133.9009\n",
      "Epoch 00113: reducing learning rate to 1.00000008274e-12.\n",
      "1085/1085 [==============================] - 6s - loss: 132.4355 - val_loss: 949.3068\n",
      "Epoch 115/200\n",
      "1085/1085 [==============================] - 6s - loss: 132.4355 - val_loss: 949.3068\n",
      "Epoch 116/200\n",
      "1085/1085 [==============================] - 6s - loss: 132.4355 - val_loss: 949.3068\n",
      "Epoch 117/200\n",
      "1085/1085 [==============================] - 6s - loss: 132.4355 - val_loss: 949.3068\n",
      "Epoch 118/200\n",
      "1085/1085 [==============================] - 6s - loss: 132.4355 - val_loss: 949.3068\n",
      "Epoch 119/200\n",
      "1056/1085 [============================>.] - ETA: 0s - loss: 132.0680\n",
      "Epoch 00118: reducing learning rate to 1.00000010442e-13.\n",
      "1085/1085 [==============================] - 6s - loss: 132.4355 - val_loss: 949.3068\n",
      "Epoch 120/200\n",
      "1085/1085 [==============================] - 6s - loss: 132.4355 - val_loss: 949.3068\n",
      "Epoch 121/200\n",
      "1085/1085 [==============================] - 6s - loss: 132.4355 - val_loss: 949.3068\n",
      "Epoch 122/200\n",
      "1085/1085 [==============================] - 6s - loss: 132.4355 - val_loss: 949.3068\n",
      "Epoch 123/200\n",
      "1085/1085 [==============================] - 6s - loss: 132.4355 - val_loss: 949.3068\n",
      "Epoch 124/200\n",
      "1056/1085 [============================>.] - ETA: 0s - loss: 130.8985\n",
      "Epoch 00123: reducing learning rate to 1.00000011798e-14.\n",
      "1085/1085 [==============================] - 6s - loss: 132.4355 - val_loss: 949.3068\n",
      "Epoch 125/200\n",
      "1085/1085 [==============================] - 6s - loss: 132.4355 - val_loss: 949.3068\n",
      "Epoch 126/200\n",
      "1085/1085 [==============================] - 4s - loss: 132.4355 - val_loss: 949.3068\n",
      "Epoch 127/200\n",
      "1085/1085 [==============================] - 4s - loss: 132.4355 - val_loss: 949.3068\n",
      "Epoch 128/200\n",
      "1085/1085 [==============================] - 4s - loss: 132.4355 - val_loss: 949.3068\n",
      "Epoch 129/200\n",
      "1056/1085 [============================>.] - ETA: 0s - loss: 132.7785\n",
      "Epoch 00128: reducing learning rate to 1.00000015186e-15.\n",
      "1085/1085 [==============================] - 4s - loss: 132.4355 - val_loss: 949.3068\n",
      "Epoch 130/200\n",
      " 480/1085 [============>.................] - ETA: 2s - loss: 128.6460"
     ]
    },
    {
     "ename": "KeyboardInterrupt",
     "evalue": "",
     "output_type": "error",
     "traceback": [
      "\u001b[0;31m---------------------------------------------------------------------------\u001b[0m",
      "\u001b[0;31mKeyboardInterrupt\u001b[0m                         Traceback (most recent call last)",
      "\u001b[0;32m<ipython-input-27-5e8a3d502b2d>\u001b[0m in \u001b[0;36m<module>\u001b[0;34m()\u001b[0m\n\u001b[0;32m----> 1\u001b[0;31m \u001b[0mmodel_original\u001b[0m\u001b[0;34m.\u001b[0m\u001b[0mfit\u001b[0m\u001b[0;34m(\u001b[0m\u001b[0mX_train\u001b[0m\u001b[0;34m,\u001b[0m \u001b[0my_train\u001b[0m\u001b[0;34m,\u001b[0m \u001b[0mvalidation_split\u001b[0m \u001b[0;34m=\u001b[0m \u001b[0;36m0.2\u001b[0m\u001b[0;34m,\u001b[0m \u001b[0mshuffle\u001b[0m \u001b[0;34m=\u001b[0m \u001b[0mTrue\u001b[0m\u001b[0;34m,\u001b[0m \u001b[0mepochs\u001b[0m \u001b[0;34m=\u001b[0m \u001b[0;36m200\u001b[0m\u001b[0;34m,\u001b[0m \u001b[0mcallbacks\u001b[0m \u001b[0;34m=\u001b[0m \u001b[0;34m[\u001b[0m\u001b[0mreduce_lr\u001b[0m\u001b[0;34m]\u001b[0m\u001b[0;34m)\u001b[0m\u001b[0;34m\u001b[0m\u001b[0m\n\u001b[0m",
      "\u001b[0;32m/home/im9uri/.local/lib/python2.7/site-packages/keras/models.pyc\u001b[0m in \u001b[0;36mfit\u001b[0;34m(self, x, y, batch_size, epochs, verbose, callbacks, validation_split, validation_data, shuffle, class_weight, sample_weight, initial_epoch, **kwargs)\u001b[0m\n\u001b[1;32m    868\u001b[0m                               \u001b[0mclass_weight\u001b[0m\u001b[0;34m=\u001b[0m\u001b[0mclass_weight\u001b[0m\u001b[0;34m,\u001b[0m\u001b[0;34m\u001b[0m\u001b[0m\n\u001b[1;32m    869\u001b[0m                               \u001b[0msample_weight\u001b[0m\u001b[0;34m=\u001b[0m\u001b[0msample_weight\u001b[0m\u001b[0;34m,\u001b[0m\u001b[0;34m\u001b[0m\u001b[0m\n\u001b[0;32m--> 870\u001b[0;31m                               initial_epoch=initial_epoch)\n\u001b[0m\u001b[1;32m    871\u001b[0m \u001b[0;34m\u001b[0m\u001b[0m\n\u001b[1;32m    872\u001b[0m     def evaluate(self, x, y, batch_size=32, verbose=1,\n",
      "\u001b[0;32m/home/im9uri/.local/lib/python2.7/site-packages/keras/engine/training.pyc\u001b[0m in \u001b[0;36mfit\u001b[0;34m(self, x, y, batch_size, epochs, verbose, callbacks, validation_split, validation_data, shuffle, class_weight, sample_weight, initial_epoch, **kwargs)\u001b[0m\n\u001b[1;32m   1505\u001b[0m                               \u001b[0mval_f\u001b[0m\u001b[0;34m=\u001b[0m\u001b[0mval_f\u001b[0m\u001b[0;34m,\u001b[0m \u001b[0mval_ins\u001b[0m\u001b[0;34m=\u001b[0m\u001b[0mval_ins\u001b[0m\u001b[0;34m,\u001b[0m \u001b[0mshuffle\u001b[0m\u001b[0;34m=\u001b[0m\u001b[0mshuffle\u001b[0m\u001b[0;34m,\u001b[0m\u001b[0;34m\u001b[0m\u001b[0m\n\u001b[1;32m   1506\u001b[0m                               \u001b[0mcallback_metrics\u001b[0m\u001b[0;34m=\u001b[0m\u001b[0mcallback_metrics\u001b[0m\u001b[0;34m,\u001b[0m\u001b[0;34m\u001b[0m\u001b[0m\n\u001b[0;32m-> 1507\u001b[0;31m                               initial_epoch=initial_epoch)\n\u001b[0m\u001b[1;32m   1508\u001b[0m \u001b[0;34m\u001b[0m\u001b[0m\n\u001b[1;32m   1509\u001b[0m     \u001b[0;32mdef\u001b[0m \u001b[0mevaluate\u001b[0m\u001b[0;34m(\u001b[0m\u001b[0mself\u001b[0m\u001b[0;34m,\u001b[0m \u001b[0mx\u001b[0m\u001b[0;34m,\u001b[0m \u001b[0my\u001b[0m\u001b[0;34m,\u001b[0m \u001b[0mbatch_size\u001b[0m\u001b[0;34m=\u001b[0m\u001b[0;36m32\u001b[0m\u001b[0;34m,\u001b[0m \u001b[0mverbose\u001b[0m\u001b[0;34m=\u001b[0m\u001b[0;36m1\u001b[0m\u001b[0;34m,\u001b[0m \u001b[0msample_weight\u001b[0m\u001b[0;34m=\u001b[0m\u001b[0mNone\u001b[0m\u001b[0;34m)\u001b[0m\u001b[0;34m:\u001b[0m\u001b[0;34m\u001b[0m\u001b[0m\n",
      "\u001b[0;32m/home/im9uri/.local/lib/python2.7/site-packages/keras/engine/training.pyc\u001b[0m in \u001b[0;36m_fit_loop\u001b[0;34m(self, f, ins, out_labels, batch_size, epochs, verbose, callbacks, val_f, val_ins, shuffle, callback_metrics, initial_epoch)\u001b[0m\n\u001b[1;32m   1154\u001b[0m                 \u001b[0mbatch_logs\u001b[0m\u001b[0;34m[\u001b[0m\u001b[0;34m'size'\u001b[0m\u001b[0;34m]\u001b[0m \u001b[0;34m=\u001b[0m \u001b[0mlen\u001b[0m\u001b[0;34m(\u001b[0m\u001b[0mbatch_ids\u001b[0m\u001b[0;34m)\u001b[0m\u001b[0;34m\u001b[0m\u001b[0m\n\u001b[1;32m   1155\u001b[0m                 \u001b[0mcallbacks\u001b[0m\u001b[0;34m.\u001b[0m\u001b[0mon_batch_begin\u001b[0m\u001b[0;34m(\u001b[0m\u001b[0mbatch_index\u001b[0m\u001b[0;34m,\u001b[0m \u001b[0mbatch_logs\u001b[0m\u001b[0;34m)\u001b[0m\u001b[0;34m\u001b[0m\u001b[0m\n\u001b[0;32m-> 1156\u001b[0;31m                 \u001b[0mouts\u001b[0m \u001b[0;34m=\u001b[0m \u001b[0mf\u001b[0m\u001b[0;34m(\u001b[0m\u001b[0mins_batch\u001b[0m\u001b[0;34m)\u001b[0m\u001b[0;34m\u001b[0m\u001b[0m\n\u001b[0m\u001b[1;32m   1157\u001b[0m                 \u001b[0;32mif\u001b[0m \u001b[0;32mnot\u001b[0m \u001b[0misinstance\u001b[0m\u001b[0;34m(\u001b[0m\u001b[0mouts\u001b[0m\u001b[0;34m,\u001b[0m \u001b[0mlist\u001b[0m\u001b[0;34m)\u001b[0m\u001b[0;34m:\u001b[0m\u001b[0;34m\u001b[0m\u001b[0m\n\u001b[1;32m   1158\u001b[0m                     \u001b[0mouts\u001b[0m \u001b[0;34m=\u001b[0m \u001b[0;34m[\u001b[0m\u001b[0mouts\u001b[0m\u001b[0;34m]\u001b[0m\u001b[0;34m\u001b[0m\u001b[0m\n",
      "\u001b[0;32m/home/im9uri/.local/lib/python2.7/site-packages/keras/backend/theano_backend.pyc\u001b[0m in \u001b[0;36m__call__\u001b[0;34m(self, inputs)\u001b[0m\n\u001b[1;32m   1194\u001b[0m     \u001b[0;32mdef\u001b[0m \u001b[0m__call__\u001b[0m\u001b[0;34m(\u001b[0m\u001b[0mself\u001b[0m\u001b[0;34m,\u001b[0m \u001b[0minputs\u001b[0m\u001b[0;34m)\u001b[0m\u001b[0;34m:\u001b[0m\u001b[0;34m\u001b[0m\u001b[0m\n\u001b[1;32m   1195\u001b[0m         \u001b[0;32massert\u001b[0m \u001b[0misinstance\u001b[0m\u001b[0;34m(\u001b[0m\u001b[0minputs\u001b[0m\u001b[0;34m,\u001b[0m \u001b[0;34m(\u001b[0m\u001b[0mlist\u001b[0m\u001b[0;34m,\u001b[0m \u001b[0mtuple\u001b[0m\u001b[0;34m)\u001b[0m\u001b[0;34m)\u001b[0m\u001b[0;34m\u001b[0m\u001b[0m\n\u001b[0;32m-> 1196\u001b[0;31m         \u001b[0;32mreturn\u001b[0m \u001b[0mself\u001b[0m\u001b[0;34m.\u001b[0m\u001b[0mfunction\u001b[0m\u001b[0;34m(\u001b[0m\u001b[0;34m*\u001b[0m\u001b[0minputs\u001b[0m\u001b[0;34m)\u001b[0m\u001b[0;34m\u001b[0m\u001b[0m\n\u001b[0m\u001b[1;32m   1197\u001b[0m \u001b[0;34m\u001b[0m\u001b[0m\n\u001b[1;32m   1198\u001b[0m \u001b[0;34m\u001b[0m\u001b[0m\n",
      "\u001b[0;32m/home/im9uri/anaconda2/lib/python2.7/site-packages/theano/compile/function_module.pyc\u001b[0m in \u001b[0;36m__call__\u001b[0;34m(self, *args, **kwargs)\u001b[0m\n\u001b[1;32m    882\u001b[0m         \u001b[0;32mtry\u001b[0m\u001b[0;34m:\u001b[0m\u001b[0;34m\u001b[0m\u001b[0m\n\u001b[1;32m    883\u001b[0m             \u001b[0moutputs\u001b[0m \u001b[0;34m=\u001b[0m\u001b[0;31m\\\u001b[0m\u001b[0;34m\u001b[0m\u001b[0m\n\u001b[0;32m--> 884\u001b[0;31m                 \u001b[0mself\u001b[0m\u001b[0;34m.\u001b[0m\u001b[0mfn\u001b[0m\u001b[0;34m(\u001b[0m\u001b[0;34m)\u001b[0m \u001b[0;32mif\u001b[0m \u001b[0moutput_subset\u001b[0m \u001b[0;32mis\u001b[0m \u001b[0mNone\u001b[0m \u001b[0;32melse\u001b[0m\u001b[0;31m\\\u001b[0m\u001b[0;34m\u001b[0m\u001b[0m\n\u001b[0m\u001b[1;32m    885\u001b[0m                 \u001b[0mself\u001b[0m\u001b[0;34m.\u001b[0m\u001b[0mfn\u001b[0m\u001b[0;34m(\u001b[0m\u001b[0moutput_subset\u001b[0m\u001b[0;34m=\u001b[0m\u001b[0moutput_subset\u001b[0m\u001b[0;34m)\u001b[0m\u001b[0;34m\u001b[0m\u001b[0m\n\u001b[1;32m    886\u001b[0m         \u001b[0;32mexcept\u001b[0m \u001b[0mException\u001b[0m\u001b[0;34m:\u001b[0m\u001b[0;34m\u001b[0m\u001b[0m\n",
      "\u001b[0;31mKeyboardInterrupt\u001b[0m: "
     ]
    }
   ],
   "source": [
    "model_original.fit(X_train, y_train, validation_split = 0.2, shuffle = True, epochs = 200, callbacks = [reduce_lr])"
   ]
  },
  {
   "cell_type": "code",
   "execution_count": null,
   "metadata": {
    "collapsed": true
   },
   "outputs": [],
   "source": []
  },
  {
   "cell_type": "markdown",
   "metadata": {},
   "source": [
    "Save the keras model"
   ]
  },
  {
   "cell_type": "code",
   "execution_count": 30,
   "metadata": {
    "collapsed": true
   },
   "outputs": [],
   "source": [
    "model_original.save(os.path.join(model_path, cur_file+'.h5'))"
   ]
  },
  {
   "cell_type": "code",
   "execution_count": null,
   "metadata": {
    "collapsed": true
   },
   "outputs": [],
   "source": []
  },
  {
   "cell_type": "code",
   "execution_count": null,
   "metadata": {
    "collapsed": true
   },
   "outputs": [],
   "source": []
  },
  {
   "cell_type": "markdown",
   "metadata": {},
   "source": [
    "### Use batch normalization\n",
    "\n",
    "Instead of normalizing the input ourselves, let's add a batch normalization layer as the first layer.\n",
    "\n",
    "While we're at it, let's add bactch norm after each layer."
   ]
  },
  {
   "cell_type": "code",
   "execution_count": 9,
   "metadata": {
    "collapsed": true
   },
   "outputs": [],
   "source": [
    "def get_model_batch_norm():\n",
    "    model = Sequential([\n",
    "        BatchNormalization(axis=1, input_shape=input_shape),\n",
    "        Conv2D(24, kernel_size=(5,5), strides=(2,2), activation='relu'),\n",
    "        BatchNormalization(axis=1),\n",
    "        Conv2D(36, kernel_size=(5,5), strides=(2,2), activation='relu'),\n",
    "        BatchNormalization(axis=1),\n",
    "        Conv2D(48, kernel_size=(5,5), strides=(2,2), activation='relu'),\n",
    "        BatchNormalization(axis=1),\n",
    "        Conv2D(64, kernel_size=(3,3), strides=(1,1), activation='relu'),\n",
    "        BatchNormalization(axis=1),\n",
    "        Conv2D(64, kernel_size=(3,3), strides=(1,1), activation='relu'),\n",
    "        BatchNormalization(axis=1),\n",
    "        Flatten(),\n",
    "        Dense(100, activation='relu'),\n",
    "        BatchNormalization(),\n",
    "        Dense(50, activation='relu'),\n",
    "        BatchNormalization(),\n",
    "        Dense(10, activation='relu'),\n",
    "        BatchNormalization(),\n",
    "        Dense(1)\n",
    "    ])\n",
    "    \n",
    "    model.compile(optimizer=\"adam\", loss=\"mse\") \n",
    "    model.summary()\n",
    "    return model"
   ]
  },
  {
   "cell_type": "code",
   "execution_count": 10,
   "metadata": {
    "scrolled": true
   },
   "outputs": [
    {
     "name": "stdout",
     "output_type": "stream",
     "text": [
      "_________________________________________________________________\n",
      "Layer (type)                 Output Shape              Param #   \n",
      "=================================================================\n",
      "batch_normalization_1 (Batch (None, 3, 160, 320)       12        \n",
      "_________________________________________________________________\n",
      "conv2d_6 (Conv2D)            (None, 24, 78, 158)       1824      \n",
      "_________________________________________________________________\n",
      "batch_normalization_2 (Batch (None, 24, 78, 158)       96        \n",
      "_________________________________________________________________\n",
      "conv2d_7 (Conv2D)            (None, 36, 37, 77)        21636     \n",
      "_________________________________________________________________\n",
      "batch_normalization_3 (Batch (None, 36, 37, 77)        144       \n",
      "_________________________________________________________________\n",
      "conv2d_8 (Conv2D)            (None, 48, 17, 37)        43248     \n",
      "_________________________________________________________________\n",
      "batch_normalization_4 (Batch (None, 48, 17, 37)        192       \n",
      "_________________________________________________________________\n",
      "conv2d_9 (Conv2D)            (None, 64, 15, 35)        27712     \n",
      "_________________________________________________________________\n",
      "batch_normalization_5 (Batch (None, 64, 15, 35)        256       \n",
      "_________________________________________________________________\n",
      "conv2d_10 (Conv2D)           (None, 64, 13, 33)        36928     \n",
      "_________________________________________________________________\n",
      "batch_normalization_6 (Batch (None, 64, 13, 33)        256       \n",
      "_________________________________________________________________\n",
      "flatten_2 (Flatten)          (None, 27456)             0         \n",
      "_________________________________________________________________\n",
      "dense_5 (Dense)              (None, 100)               2745700   \n",
      "_________________________________________________________________\n",
      "batch_normalization_7 (Batch (None, 100)               400       \n",
      "_________________________________________________________________\n",
      "dense_6 (Dense)              (None, 50)                5050      \n",
      "_________________________________________________________________\n",
      "batch_normalization_8 (Batch (None, 50)                200       \n",
      "_________________________________________________________________\n",
      "dense_7 (Dense)              (None, 10)                510       \n",
      "_________________________________________________________________\n",
      "batch_normalization_9 (Batch (None, 10)                40        \n",
      "_________________________________________________________________\n",
      "dense_8 (Dense)              (None, 1)                 11        \n",
      "=================================================================\n",
      "Total params: 2,884,215\n",
      "Trainable params: 2,883,417\n",
      "Non-trainable params: 798\n",
      "_________________________________________________________________\n"
     ]
    }
   ],
   "source": [
    "model_batch_norm = get_model_batch_norm()"
   ]
  },
  {
   "cell_type": "code",
   "execution_count": 12,
   "metadata": {
    "scrolled": true
   },
   "outputs": [
    {
     "name": "stdout",
     "output_type": "stream",
     "text": [
      "Train on 9742 samples, validate on 2436 samples\n",
      "Epoch 1/20\n",
      "9742/9742 [==============================] - 21s - loss: 0.0624 - val_loss: 0.0286\n",
      "Epoch 2/20\n",
      "9742/9742 [==============================] - 21s - loss: 0.0183 - val_loss: 0.0167\n",
      "Epoch 3/20\n",
      "9742/9742 [==============================] - 21s - loss: 0.0146 - val_loss: 0.0162\n",
      "Epoch 4/20\n",
      "9742/9742 [==============================] - 21s - loss: 0.0127 - val_loss: 0.0157\n",
      "Epoch 5/20\n",
      "9742/9742 [==============================] - 21s - loss: 0.0102 - val_loss: 0.0155\n",
      "Epoch 6/20\n",
      "9742/9742 [==============================] - 21s - loss: 0.0081 - val_loss: 0.0165\n",
      "Epoch 7/20\n",
      "9742/9742 [==============================] - 21s - loss: 0.0068 - val_loss: 0.0159\n",
      "Epoch 8/20\n",
      "9742/9742 [==============================] - 21s - loss: 0.0058 - val_loss: 0.0147\n",
      "Epoch 9/20\n",
      "9742/9742 [==============================] - 21s - loss: 0.0051 - val_loss: 0.0154\n",
      "Epoch 10/20\n",
      "9742/9742 [==============================] - 21s - loss: 0.0048 - val_loss: 0.0150\n",
      "Epoch 11/20\n",
      "9742/9742 [==============================] - 21s - loss: 0.0044 - val_loss: 0.0156\n",
      "Epoch 12/20\n",
      "9742/9742 [==============================] - 21s - loss: 0.0046 - val_loss: 0.0160\n",
      "Epoch 13/20\n",
      "9742/9742 [==============================] - 21s - loss: 0.0041 - val_loss: 0.0146\n",
      "Epoch 14/20\n",
      "9742/9742 [==============================] - 21s - loss: 0.0039 - val_loss: 0.0145\n",
      "Epoch 15/20\n",
      "9742/9742 [==============================] - 21s - loss: 0.0038 - val_loss: 0.0144\n",
      "Epoch 16/20\n",
      "9742/9742 [==============================] - 21s - loss: 0.0038 - val_loss: 0.0154\n",
      "Epoch 17/20\n",
      "9742/9742 [==============================] - 21s - loss: 0.0034 - val_loss: 0.0157\n",
      "Epoch 18/20\n",
      "9742/9742 [==============================] - 21s - loss: 0.0063 - val_loss: 0.0176\n",
      "Epoch 19/20\n",
      "9742/9742 [==============================] - 21s - loss: 0.0084 - val_loss: 0.0178\n",
      "Epoch 20/20\n",
      "9728/9742 [============================>.] - ETA: 0s - loss: 0.0051\n",
      "Epoch 00019: reducing learning rate to 0.00010000000475.\n",
      "9742/9742 [==============================] - 21s - loss: 0.0051 - val_loss: 0.0155\n"
     ]
    },
    {
     "data": {
      "text/plain": [
       "<keras.callbacks.History at 0x7f1dbe214a10>"
      ]
     },
     "execution_count": 12,
     "metadata": {},
     "output_type": "execute_result"
    }
   ],
   "source": [
    "model_batch_norm.fit(X_train, y_train, validation_split = 0.2, shuffle = True, epochs = 20, callbacks = [reduce_lr])"
   ]
  },
  {
   "cell_type": "code",
   "execution_count": 13,
   "metadata": {
    "scrolled": true
   },
   "outputs": [
    {
     "name": "stdout",
     "output_type": "stream",
     "text": [
      "Train on 9742 samples, validate on 2436 samples\n",
      "Epoch 1/20\n",
      "9742/9742 [==============================] - 21s - loss: 0.0036 - val_loss: 0.0143\n",
      "Epoch 2/20\n",
      "9742/9742 [==============================] - 21s - loss: 0.0028 - val_loss: 0.0143\n",
      "Epoch 3/20\n",
      "9742/9742 [==============================] - 21s - loss: 0.0026 - val_loss: 0.0141\n",
      "Epoch 4/20\n",
      "9742/9742 [==============================] - 21s - loss: 0.0023 - val_loss: 0.0139\n",
      "Epoch 5/20\n",
      "9742/9742 [==============================] - 21s - loss: 0.0021 - val_loss: 0.0139\n",
      "Epoch 6/20\n",
      "9742/9742 [==============================] - 21s - loss: 0.0019 - val_loss: 0.0141\n",
      "Epoch 7/20\n",
      "9742/9742 [==============================] - 21s - loss: 0.0019 - val_loss: 0.0139\n",
      "Epoch 8/20\n",
      "9742/9742 [==============================] - 21s - loss: 0.0018 - val_loss: 0.0139\n",
      "Epoch 9/20\n",
      "9728/9742 [============================>.] - ETA: 0s - loss: 0.0017\n",
      "Epoch 00008: reducing learning rate to 1.0000000475e-05.\n",
      "9742/9742 [==============================] - 21s - loss: 0.0017 - val_loss: 0.0138\n",
      "Epoch 10/20\n",
      "9742/9742 [==============================] - 21s - loss: 0.0016 - val_loss: 0.0138\n",
      "Epoch 11/20\n",
      "9742/9742 [==============================] - 21s - loss: 0.0016 - val_loss: 0.0138\n",
      "Epoch 12/20\n",
      "9742/9742 [==============================] - 21s - loss: 0.0016 - val_loss: 0.0139\n",
      "Epoch 13/20\n",
      "9742/9742 [==============================] - 21s - loss: 0.0016 - val_loss: 0.0138\n",
      "Epoch 14/20\n",
      "9742/9742 [==============================] - 21s - loss: 0.0016 - val_loss: 0.0137\n",
      "Epoch 15/20\n",
      "9742/9742 [==============================] - 21s - loss: 0.0015 - val_loss: 0.0139\n",
      "Epoch 16/20\n",
      "9742/9742 [==============================] - 21s - loss: 0.0016 - val_loss: 0.0138\n",
      "Epoch 17/20\n",
      "9742/9742 [==============================] - 21s - loss: 0.0015 - val_loss: 0.0138\n",
      "Epoch 18/20\n",
      "9728/9742 [============================>.] - ETA: 0s - loss: 0.0015\n",
      "Epoch 00017: reducing learning rate to 1.00000006569e-06.\n",
      "9742/9742 [==============================] - 21s - loss: 0.0015 - val_loss: 0.0137\n",
      "Epoch 19/20\n",
      "9742/9742 [==============================] - 21s - loss: 0.0015 - val_loss: 0.0137\n",
      "Epoch 20/20\n",
      "9742/9742 [==============================] - 21s - loss: 0.0015 - val_loss: 0.0137\n"
     ]
    },
    {
     "data": {
      "text/plain": [
       "<keras.callbacks.History at 0x7f1dc0f14fd0>"
      ]
     },
     "execution_count": 13,
     "metadata": {},
     "output_type": "execute_result"
    }
   ],
   "source": [
    "model_batch_norm.fit(X_train, y_train, validation_split = 0.2, shuffle = True, epochs = 20, callbacks = [reduce_lr])"
   ]
  },
  {
   "cell_type": "markdown",
   "metadata": {},
   "source": [
    "As we can see, batch norm didn't help."
   ]
  },
  {
   "cell_type": "code",
   "execution_count": null,
   "metadata": {
    "collapsed": true
   },
   "outputs": [],
   "source": []
  },
  {
   "cell_type": "code",
   "execution_count": null,
   "metadata": {
    "collapsed": true
   },
   "outputs": [],
   "source": []
  },
  {
   "cell_type": "code",
   "execution_count": null,
   "metadata": {
    "collapsed": true
   },
   "outputs": [],
   "source": []
  },
  {
   "cell_type": "code",
   "execution_count": null,
   "metadata": {
    "collapsed": true
   },
   "outputs": [],
   "source": []
  },
  {
   "cell_type": "code",
   "execution_count": null,
   "metadata": {
    "collapsed": true
   },
   "outputs": [],
   "source": []
  }
 ],
 "metadata": {
  "kernelspec": {
   "display_name": "Python [conda root]",
   "language": "python",
   "name": "conda-root-py"
  },
  "language_info": {
   "codemirror_mode": {
    "name": "ipython",
    "version": 2
   },
   "file_extension": ".py",
   "mimetype": "text/x-python",
   "name": "python",
   "nbconvert_exporter": "python",
   "pygments_lexer": "ipython2",
   "version": "2.7.13"
  }
 },
 "nbformat": 4,
 "nbformat_minor": 1
}

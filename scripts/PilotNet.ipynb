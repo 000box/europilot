{
 "cells": [
  {
   "cell_type": "markdown",
   "metadata": {},
   "source": [
    "## Implementation of PilotNet, with variation\n",
    "\n",
    "Implement [PilotNet](https://arxiv.org/pdf/1604.07316.pdf) using Keras (with theano backend), while also trying different variations"
   ]
  },
  {
   "cell_type": "code",
   "execution_count": 1,
   "metadata": {
    "collapsed": true,
    "scrolled": true
   },
   "outputs": [],
   "source": [
    "import os\n",
    "import pandas as pd\n",
    "import numpy as np"
   ]
  },
  {
   "cell_type": "code",
   "execution_count": 2,
   "metadata": {
    "scrolled": true
   },
   "outputs": [
    {
     "name": "stderr",
     "output_type": "stream",
     "text": [
      "Using Theano backend.\n",
      "WARNING (theano.sandbox.cuda): The cuda backend is deprecated and will be removed in the next release (v0.10).  Please switch to the gpuarray backend. You can get more information about how to switch at this URL:\n",
      " https://github.com/Theano/Theano/wiki/Converting-to-the-new-gpu-back-end%28gpuarray%29\n",
      "\n",
      "Using gpu device 0: GeForce GTX 1080 (CNMeM is disabled, cuDNN 5110)\n"
     ]
    }
   ],
   "source": [
    "import keras\n",
    "\n",
    "from keras.models import Sequential, Model\n",
    "from keras.layers import Input, SpatialDropout1D, Concatenate\n",
    "from keras.layers import Flatten, Dense, Dropout, Lambda\n",
    "from keras.layers import BatchNormalization\n",
    "from keras.layers import deserialize\n",
    "from keras.layers import dot, add, concatenate\n",
    "from keras.layers.convolutional import *\n",
    "\n",
    "from keras.optimizers import SGD, RMSprop, Adam, Nadam\n",
    "from keras.metrics import categorical_crossentropy, categorical_accuracy\n",
    "from keras.preprocessing import image, sequence\n",
    "from keras.preprocessing.image import ImageDataGenerator\n",
    "\n",
    "from keras.callbacks import ReduceLROnPlateau\n",
    "from keras.callbacks import CSVLogger\n",
    "from keras.callbacks import ModelCheckpoint\n",
    "\n",
    "from keras.models import load_model"
   ]
  },
  {
   "cell_type": "code",
   "execution_count": 3,
   "metadata": {
    "collapsed": true,
    "scrolled": false
   },
   "outputs": [],
   "source": [
    "from resnet import resnet"
   ]
  },
  {
   "cell_type": "markdown",
   "metadata": {},
   "source": [
    "### Check data format"
   ]
  },
  {
   "cell_type": "markdown",
   "metadata": {},
   "source": [
    "check the csv output, and shuffle"
   ]
  },
  {
   "cell_type": "code",
   "execution_count": 4,
   "metadata": {
    "scrolled": true
   },
   "outputs": [
    {
     "name": "stdout",
     "output_type": "stream",
     "text": [
      "v1.csv  v2.csv  v3.csv  v3_train.csv  v3_valid.csv\r\n"
     ]
    }
   ],
   "source": [
    "%ls ../data/csv/final"
   ]
  },
  {
   "cell_type": "code",
   "execution_count": 5,
   "metadata": {},
   "outputs": [
    {
     "data": {
      "text/plain": [
       "'/home/im9uri/PycharmProjects/europilot'"
      ]
     },
     "execution_count": 5,
     "metadata": {},
     "output_type": "execute_result"
    }
   ],
   "source": [
    "os.path.dirname(os.getcwd())"
   ]
  },
  {
   "cell_type": "code",
   "execution_count": 6,
   "metadata": {
    "collapsed": true
   },
   "outputs": [],
   "source": [
    "parent_path = os.path.dirname(os.getcwd())\n",
    "\n",
    "data_path = os.path.join(parent_path, 'data')\n",
    "img_front_dir_path = os.path.join(data_path, 'img', 'front')\n",
    "model_path = os.path.join(parent_path, 'model')\n",
    "log_path = os.path.join(model_path, 'log')\n",
    "\n",
    "\n",
    "csv_dir_path = os.path.join(data_path, 'csv', 'final')\n",
    "cur_file = 'v3'\n",
    "train_file = os.path.join(csv_dir_path, cur_file + '_train.csv')\n",
    "valid_file = os.path.join(csv_dir_path, cur_file + '_valid.csv')"
   ]
  },
  {
   "cell_type": "code",
   "execution_count": 7,
   "metadata": {
    "scrolled": false
   },
   "outputs": [
    {
     "name": "stdout",
     "output_type": "stream",
     "text": [
      "129996 rows\n"
     ]
    },
    {
     "data": {
      "text/html": [
       "<div>\n",
       "<style>\n",
       "    .dataframe thead tr:only-child th {\n",
       "        text-align: right;\n",
       "    }\n",
       "\n",
       "    .dataframe thead th {\n",
       "        text-align: left;\n",
       "    }\n",
       "\n",
       "    .dataframe tbody tr th {\n",
       "        vertical-align: top;\n",
       "    }\n",
       "</style>\n",
       "<table border=\"1\" class=\"dataframe\">\n",
       "  <thead>\n",
       "    <tr style=\"text-align: right;\">\n",
       "      <th></th>\n",
       "      <th>img</th>\n",
       "      <th>wheel-axis</th>\n",
       "      <th>clutch</th>\n",
       "      <th>brake</th>\n",
       "      <th>gas</th>\n",
       "      <th>paddle-left</th>\n",
       "      <th>paddle-right</th>\n",
       "      <th>wheel-button-left-1</th>\n",
       "      <th>wheel-button-left-2</th>\n",
       "      <th>wheel-button-left-3</th>\n",
       "      <th>...</th>\n",
       "      <th>gear-1</th>\n",
       "      <th>gear-2</th>\n",
       "      <th>gear-3</th>\n",
       "      <th>gear-4</th>\n",
       "      <th>gear-5</th>\n",
       "      <th>gear-6</th>\n",
       "      <th>gear-R</th>\n",
       "      <th>front</th>\n",
       "      <th>side_left</th>\n",
       "      <th>side_right</th>\n",
       "    </tr>\n",
       "  </thead>\n",
       "  <tbody>\n",
       "    <tr>\n",
       "      <th>0</th>\n",
       "      <td>9d0c3c2b_2017_07_27_14_56_31_97.jpg</td>\n",
       "      <td>-321</td>\n",
       "      <td>0</td>\n",
       "      <td>0</td>\n",
       "      <td>65535</td>\n",
       "      <td>0</td>\n",
       "      <td>0</td>\n",
       "      <td>0</td>\n",
       "      <td>0</td>\n",
       "      <td>0</td>\n",
       "      <td>...</td>\n",
       "      <td>0.0</td>\n",
       "      <td>0.0</td>\n",
       "      <td>0.0</td>\n",
       "      <td>0.0</td>\n",
       "      <td>0.0</td>\n",
       "      <td>0.0</td>\n",
       "      <td>0.0</td>\n",
       "      <td>9d0c3c2b_2017_07_27_14_56_31_97_front.jpg</td>\n",
       "      <td>9d0c3c2b_2017_07_27_14_56_31_97_left.jpg</td>\n",
       "      <td>9d0c3c2b_2017_07_27_14_56_31_97_right.jpg</td>\n",
       "    </tr>\n",
       "    <tr>\n",
       "      <th>1</th>\n",
       "      <td>7d590ce8_2017_08_07_14_49_16_12.jpg</td>\n",
       "      <td>-741</td>\n",
       "      <td>27091</td>\n",
       "      <td>0</td>\n",
       "      <td>65535</td>\n",
       "      <td>0</td>\n",
       "      <td>0</td>\n",
       "      <td>0</td>\n",
       "      <td>0</td>\n",
       "      <td>0</td>\n",
       "      <td>...</td>\n",
       "      <td>0.0</td>\n",
       "      <td>0.0</td>\n",
       "      <td>1.0</td>\n",
       "      <td>0.0</td>\n",
       "      <td>0.0</td>\n",
       "      <td>0.0</td>\n",
       "      <td>0.0</td>\n",
       "      <td>7d590ce8_2017_08_07_14_49_16_12_front.jpg</td>\n",
       "      <td>7d590ce8_2017_08_07_14_49_16_12_left.jpg</td>\n",
       "      <td>7d590ce8_2017_08_07_14_49_16_12_right.jpg</td>\n",
       "    </tr>\n",
       "    <tr>\n",
       "      <th>2</th>\n",
       "      <td>3f80cca8_2017_08_08_14_39_00_36.jpg</td>\n",
       "      <td>152</td>\n",
       "      <td>15222</td>\n",
       "      <td>0</td>\n",
       "      <td>65535</td>\n",
       "      <td>0</td>\n",
       "      <td>0</td>\n",
       "      <td>0</td>\n",
       "      <td>0</td>\n",
       "      <td>0</td>\n",
       "      <td>...</td>\n",
       "      <td>0.0</td>\n",
       "      <td>0.0</td>\n",
       "      <td>1.0</td>\n",
       "      <td>0.0</td>\n",
       "      <td>0.0</td>\n",
       "      <td>0.0</td>\n",
       "      <td>0.0</td>\n",
       "      <td>3f80cca8_2017_08_08_14_39_00_36_front.jpg</td>\n",
       "      <td>3f80cca8_2017_08_08_14_39_00_36_left.jpg</td>\n",
       "      <td>3f80cca8_2017_08_08_14_39_00_36_right.jpg</td>\n",
       "    </tr>\n",
       "  </tbody>\n",
       "</table>\n",
       "<p>3 rows × 33 columns</p>\n",
       "</div>"
      ],
      "text/plain": [
       "                                   img  wheel-axis  clutch  brake    gas  \\\n",
       "0  9d0c3c2b_2017_07_27_14_56_31_97.jpg        -321       0      0  65535   \n",
       "1  7d590ce8_2017_08_07_14_49_16_12.jpg        -741   27091      0  65535   \n",
       "2  3f80cca8_2017_08_08_14_39_00_36.jpg         152   15222      0  65535   \n",
       "\n",
       "   paddle-left  paddle-right  wheel-button-left-1  wheel-button-left-2  \\\n",
       "0            0             0                    0                    0   \n",
       "1            0             0                    0                    0   \n",
       "2            0             0                    0                    0   \n",
       "\n",
       "   wheel-button-left-3                    ...                      gear-1  \\\n",
       "0                    0                    ...                         0.0   \n",
       "1                    0                    ...                         0.0   \n",
       "2                    0                    ...                         0.0   \n",
       "\n",
       "   gear-2  gear-3  gear-4  gear-5  gear-6  gear-R  \\\n",
       "0     0.0     0.0     0.0     0.0     0.0     0.0   \n",
       "1     0.0     1.0     0.0     0.0     0.0     0.0   \n",
       "2     0.0     1.0     0.0     0.0     0.0     0.0   \n",
       "\n",
       "                                       front  \\\n",
       "0  9d0c3c2b_2017_07_27_14_56_31_97_front.jpg   \n",
       "1  7d590ce8_2017_08_07_14_49_16_12_front.jpg   \n",
       "2  3f80cca8_2017_08_08_14_39_00_36_front.jpg   \n",
       "\n",
       "                                  side_left  \\\n",
       "0  9d0c3c2b_2017_07_27_14_56_31_97_left.jpg   \n",
       "1  7d590ce8_2017_08_07_14_49_16_12_left.jpg   \n",
       "2  3f80cca8_2017_08_08_14_39_00_36_left.jpg   \n",
       "\n",
       "                                  side_right  \n",
       "0  9d0c3c2b_2017_07_27_14_56_31_97_right.jpg  \n",
       "1  7d590ce8_2017_08_07_14_49_16_12_right.jpg  \n",
       "2  3f80cca8_2017_08_08_14_39_00_36_right.jpg  \n",
       "\n",
       "[3 rows x 33 columns]"
      ]
     },
     "execution_count": 7,
     "metadata": {},
     "output_type": "execute_result"
    }
   ],
   "source": [
    "df_train = pd.read_csv(os.path.join(data_path, train_file))\n",
    "print(\"%d rows\" % df_train.shape[0])\n",
    "df_train.head(3)"
   ]
  },
  {
   "cell_type": "code",
   "execution_count": 8,
   "metadata": {
    "scrolled": true
   },
   "outputs": [
    {
     "name": "stdout",
     "output_type": "stream",
     "text": [
      "32499 rows\n"
     ]
    },
    {
     "data": {
      "text/html": [
       "<div>\n",
       "<style>\n",
       "    .dataframe thead tr:only-child th {\n",
       "        text-align: right;\n",
       "    }\n",
       "\n",
       "    .dataframe thead th {\n",
       "        text-align: left;\n",
       "    }\n",
       "\n",
       "    .dataframe tbody tr th {\n",
       "        vertical-align: top;\n",
       "    }\n",
       "</style>\n",
       "<table border=\"1\" class=\"dataframe\">\n",
       "  <thead>\n",
       "    <tr style=\"text-align: right;\">\n",
       "      <th></th>\n",
       "      <th>img</th>\n",
       "      <th>wheel-axis</th>\n",
       "      <th>clutch</th>\n",
       "      <th>brake</th>\n",
       "      <th>gas</th>\n",
       "      <th>paddle-left</th>\n",
       "      <th>paddle-right</th>\n",
       "      <th>wheel-button-left-1</th>\n",
       "      <th>wheel-button-left-2</th>\n",
       "      <th>wheel-button-left-3</th>\n",
       "      <th>...</th>\n",
       "      <th>gear-1</th>\n",
       "      <th>gear-2</th>\n",
       "      <th>gear-3</th>\n",
       "      <th>gear-4</th>\n",
       "      <th>gear-5</th>\n",
       "      <th>gear-6</th>\n",
       "      <th>gear-R</th>\n",
       "      <th>front</th>\n",
       "      <th>side_left</th>\n",
       "      <th>side_right</th>\n",
       "    </tr>\n",
       "  </thead>\n",
       "  <tbody>\n",
       "    <tr>\n",
       "      <th>0</th>\n",
       "      <td>7a13935b_2017_07_30_15_38_28_68.jpg</td>\n",
       "      <td>-41</td>\n",
       "      <td>0</td>\n",
       "      <td>0</td>\n",
       "      <td>45153</td>\n",
       "      <td>0</td>\n",
       "      <td>0</td>\n",
       "      <td>0</td>\n",
       "      <td>0</td>\n",
       "      <td>0</td>\n",
       "      <td>...</td>\n",
       "      <td>0.0</td>\n",
       "      <td>0.0</td>\n",
       "      <td>0.0</td>\n",
       "      <td>0.0</td>\n",
       "      <td>0.0</td>\n",
       "      <td>0.0</td>\n",
       "      <td>0.0</td>\n",
       "      <td>7a13935b_2017_07_30_15_38_28_68_front.jpg</td>\n",
       "      <td>7a13935b_2017_07_30_15_38_28_68_left.jpg</td>\n",
       "      <td>7a13935b_2017_07_30_15_38_28_68_right.jpg</td>\n",
       "    </tr>\n",
       "    <tr>\n",
       "      <th>1</th>\n",
       "      <td>9d0c3c2b_2017_07_28_18_09_10_29.jpg</td>\n",
       "      <td>2000</td>\n",
       "      <td>0</td>\n",
       "      <td>0</td>\n",
       "      <td>65535</td>\n",
       "      <td>0</td>\n",
       "      <td>0</td>\n",
       "      <td>0</td>\n",
       "      <td>0</td>\n",
       "      <td>0</td>\n",
       "      <td>...</td>\n",
       "      <td>0.0</td>\n",
       "      <td>0.0</td>\n",
       "      <td>0.0</td>\n",
       "      <td>0.0</td>\n",
       "      <td>0.0</td>\n",
       "      <td>0.0</td>\n",
       "      <td>0.0</td>\n",
       "      <td>9d0c3c2b_2017_07_28_18_09_10_29_front.jpg</td>\n",
       "      <td>9d0c3c2b_2017_07_28_18_09_10_29_left.jpg</td>\n",
       "      <td>9d0c3c2b_2017_07_28_18_09_10_29_right.jpg</td>\n",
       "    </tr>\n",
       "    <tr>\n",
       "      <th>2</th>\n",
       "      <td>15be80cb_2017_07_28_22_48_24_52.jpg</td>\n",
       "      <td>-1593</td>\n",
       "      <td>0</td>\n",
       "      <td>0</td>\n",
       "      <td>63730</td>\n",
       "      <td>0</td>\n",
       "      <td>0</td>\n",
       "      <td>0</td>\n",
       "      <td>0</td>\n",
       "      <td>0</td>\n",
       "      <td>...</td>\n",
       "      <td>0.0</td>\n",
       "      <td>0.0</td>\n",
       "      <td>0.0</td>\n",
       "      <td>0.0</td>\n",
       "      <td>0.0</td>\n",
       "      <td>0.0</td>\n",
       "      <td>0.0</td>\n",
       "      <td>15be80cb_2017_07_28_22_48_24_52_front.jpg</td>\n",
       "      <td>15be80cb_2017_07_28_22_48_24_52_left.jpg</td>\n",
       "      <td>15be80cb_2017_07_28_22_48_24_52_right.jpg</td>\n",
       "    </tr>\n",
       "  </tbody>\n",
       "</table>\n",
       "<p>3 rows × 33 columns</p>\n",
       "</div>"
      ],
      "text/plain": [
       "                                   img  wheel-axis  clutch  brake    gas  \\\n",
       "0  7a13935b_2017_07_30_15_38_28_68.jpg         -41       0      0  45153   \n",
       "1  9d0c3c2b_2017_07_28_18_09_10_29.jpg        2000       0      0  65535   \n",
       "2  15be80cb_2017_07_28_22_48_24_52.jpg       -1593       0      0  63730   \n",
       "\n",
       "   paddle-left  paddle-right  wheel-button-left-1  wheel-button-left-2  \\\n",
       "0            0             0                    0                    0   \n",
       "1            0             0                    0                    0   \n",
       "2            0             0                    0                    0   \n",
       "\n",
       "   wheel-button-left-3                    ...                      gear-1  \\\n",
       "0                    0                    ...                         0.0   \n",
       "1                    0                    ...                         0.0   \n",
       "2                    0                    ...                         0.0   \n",
       "\n",
       "   gear-2  gear-3  gear-4  gear-5  gear-6  gear-R  \\\n",
       "0     0.0     0.0     0.0     0.0     0.0     0.0   \n",
       "1     0.0     0.0     0.0     0.0     0.0     0.0   \n",
       "2     0.0     0.0     0.0     0.0     0.0     0.0   \n",
       "\n",
       "                                       front  \\\n",
       "0  7a13935b_2017_07_30_15_38_28_68_front.jpg   \n",
       "1  9d0c3c2b_2017_07_28_18_09_10_29_front.jpg   \n",
       "2  15be80cb_2017_07_28_22_48_24_52_front.jpg   \n",
       "\n",
       "                                  side_left  \\\n",
       "0  7a13935b_2017_07_30_15_38_28_68_left.jpg   \n",
       "1  9d0c3c2b_2017_07_28_18_09_10_29_left.jpg   \n",
       "2  15be80cb_2017_07_28_22_48_24_52_left.jpg   \n",
       "\n",
       "                                  side_right  \n",
       "0  7a13935b_2017_07_30_15_38_28_68_right.jpg  \n",
       "1  9d0c3c2b_2017_07_28_18_09_10_29_right.jpg  \n",
       "2  15be80cb_2017_07_28_22_48_24_52_right.jpg  \n",
       "\n",
       "[3 rows x 33 columns]"
      ]
     },
     "execution_count": 8,
     "metadata": {},
     "output_type": "execute_result"
    }
   ],
   "source": [
    "df_val = pd.read_csv(os.path.join(data_path, valid_file))\n",
    "print(\"%d rows\" % df_val.shape[0])\n",
    "df_val.head(3)"
   ]
  },
  {
   "cell_type": "markdown",
   "metadata": {},
   "source": [
    "###  Predict steering angle, using front image"
   ]
  },
  {
   "cell_type": "markdown",
   "metadata": {},
   "source": [
    "define a generator that loops through the data"
   ]
  },
  {
   "cell_type": "code",
   "execution_count": 9,
   "metadata": {
    "collapsed": true
   },
   "outputs": [],
   "source": [
    "def img_to_arr(p):\n",
    "    with image.load_img(p) as img:\n",
    "        img = image.img_to_array(img)\n",
    "    return img\n",
    "\n",
    "def generator(img_list, wheel_axis, batch_size, img_shape):\n",
    "    \n",
    "    batch_img = np.zeros((batch_size,) + img_shape)\n",
    "    batch_label = np.zeros((batch_size, 1))\n",
    "    \n",
    "    index = 0\n",
    "    while True:\n",
    "        for i in range(batch_size):\n",
    "            img_name = img_list[index]\n",
    "            arr = img_to_arr(os.path.join(img_front_dir_path, img_name))\n",
    "            arr /= 255 # TODO: subtract by mean\n",
    "            batch_img[i] = arr\n",
    "            batch_label[i] = wheel_axis[index]\n",
    "            \n",
    "            index += 1\n",
    "            if index == len(img_list):\n",
    "                # loop over data\n",
    "                index = 0\n",
    "            \n",
    "        yield batch_img, batch_label\n",
    "    "
   ]
  },
  {
   "cell_type": "code",
   "execution_count": 10,
   "metadata": {},
   "outputs": [
    {
     "name": "stdout",
     "output_type": "stream",
     "text": [
      "input_shape: (3, 341, 562), batch_size: 64, train_steps: 2032, val_steps: 508\n"
     ]
    }
   ],
   "source": [
    "input_shape = img_to_arr(os.path.join(img_front_dir_path, df_train['front'][0])).shape\n",
    "batch_size = 64\n",
    "train_steps = (df_train.shape[0] / batch_size) + 1\n",
    "val_steps = (df_val.shape[0] / batch_size) + 1\n",
    "\n",
    "print(\"input_shape: %s, batch_size: %d, train_steps: %d, val_steps: %d\" % \n",
    "      (input_shape, batch_size, train_steps, val_steps))"
   ]
  },
  {
   "cell_type": "code",
   "execution_count": 11,
   "metadata": {
    "collapsed": true
   },
   "outputs": [],
   "source": [
    "train_batch = generator(df_train['front'], df_train['wheel-axis'], batch_size, input_shape)\n",
    "val_batch = generator(df_val['front'], df_val['wheel-axis'], batch_size, input_shape)"
   ]
  },
  {
   "cell_type": "code",
   "execution_count": null,
   "metadata": {
    "collapsed": true
   },
   "outputs": [],
   "source": []
  },
  {
   "cell_type": "markdown",
   "metadata": {},
   "source": [
    "### Define model"
   ]
  },
  {
   "cell_type": "code",
   "execution_count": 12,
   "metadata": {},
   "outputs": [
    {
     "name": "stdout",
     "output_type": "stream",
     "text": [
      "____________________________________________________________________________________________________\n",
      "Layer (type)                     Output Shape          Param #     Connected to                     \n",
      "====================================================================================================\n",
      "input_1 (InputLayer)             (None, 3, 341, 562)   0                                            \n",
      "____________________________________________________________________________________________________\n",
      "zero_padding2d_1 (ZeroPadding2D) (None, 3, 347, 568)   0           input_1[0][0]                    \n",
      "____________________________________________________________________________________________________\n",
      "conv1 (Conv2D)                   (None, 64, 171, 281)  9472        zero_padding2d_1[0][0]           \n",
      "____________________________________________________________________________________________________\n",
      "bn_conv1 (BatchNormalization)    (None, 64, 171, 281)  256         conv1[0][0]                      \n",
      "____________________________________________________________________________________________________\n",
      "activation_1 (Activation)        (None, 64, 171, 281)  0           bn_conv1[0][0]                   \n",
      "____________________________________________________________________________________________________\n",
      "max_pooling2d_1 (MaxPooling2D)   (None, 64, 85, 140)   0           activation_1[0][0]               \n",
      "____________________________________________________________________________________________________\n",
      "res2a_branch2a (Conv2D)          (None, 32, 85, 140)   18464       max_pooling2d_1[0][0]            \n",
      "____________________________________________________________________________________________________\n",
      "bn2a_branch2a (BatchNormalizatio (None, 32, 85, 140)   128         res2a_branch2a[0][0]             \n",
      "____________________________________________________________________________________________________\n",
      "activation_2 (Activation)        (None, 32, 85, 140)   0           bn2a_branch2a[0][0]              \n",
      "____________________________________________________________________________________________________\n",
      "res2a_branch2b (Conv2D)          (None, 32, 85, 140)   9248        activation_2[0][0]               \n",
      "____________________________________________________________________________________________________\n",
      "bn2a_branch2b (BatchNormalizatio (None, 32, 85, 140)   128         res2a_branch2b[0][0]             \n",
      "____________________________________________________________________________________________________\n",
      "res2a_branch1 (Conv2D)           (None, 32, 85, 140)   2080        max_pooling2d_1[0][0]            \n",
      "____________________________________________________________________________________________________\n",
      "activation_3 (Activation)        (None, 32, 85, 140)   0           bn2a_branch2b[0][0]              \n",
      "____________________________________________________________________________________________________\n",
      "bn2a_branch1 (BatchNormalization (None, 32, 85, 140)   128         res2a_branch1[0][0]              \n",
      "____________________________________________________________________________________________________\n",
      "add_1 (Add)                      (None, 32, 85, 140)   0           activation_3[0][0]               \n",
      "                                                                   bn2a_branch1[0][0]               \n",
      "____________________________________________________________________________________________________\n",
      "activation_4 (Activation)        (None, 32, 85, 140)   0           add_1[0][0]                      \n",
      "____________________________________________________________________________________________________\n",
      "res2b_branch2a (Conv2D)          (None, 32, 85, 140)   9248        activation_4[0][0]               \n",
      "____________________________________________________________________________________________________\n",
      "bn2b_branch2a (BatchNormalizatio (None, 32, 85, 140)   128         res2b_branch2a[0][0]             \n",
      "____________________________________________________________________________________________________\n",
      "activation_5 (Activation)        (None, 32, 85, 140)   0           bn2b_branch2a[0][0]              \n",
      "____________________________________________________________________________________________________\n",
      "res2b_branch2b (Conv2D)          (None, 32, 85, 140)   9248        activation_5[0][0]               \n",
      "____________________________________________________________________________________________________\n",
      "bn2b_branch2b (BatchNormalizatio (None, 32, 85, 140)   128         res2b_branch2b[0][0]             \n",
      "____________________________________________________________________________________________________\n",
      "activation_6 (Activation)        (None, 32, 85, 140)   0           bn2b_branch2b[0][0]              \n",
      "____________________________________________________________________________________________________\n",
      "add_2 (Add)                      (None, 32, 85, 140)   0           activation_6[0][0]               \n",
      "                                                                   activation_4[0][0]               \n",
      "____________________________________________________________________________________________________\n",
      "activation_7 (Activation)        (None, 32, 85, 140)   0           add_2[0][0]                      \n",
      "____________________________________________________________________________________________________\n",
      "res3a_branch2a (Conv2D)          (None, 64, 43, 70)    18496       activation_7[0][0]               \n",
      "____________________________________________________________________________________________________\n",
      "bn3a_branch2a (BatchNormalizatio (None, 64, 43, 70)    256         res3a_branch2a[0][0]             \n",
      "____________________________________________________________________________________________________\n",
      "activation_8 (Activation)        (None, 64, 43, 70)    0           bn3a_branch2a[0][0]              \n",
      "____________________________________________________________________________________________________\n",
      "res3a_branch2b (Conv2D)          (None, 64, 43, 70)    36928       activation_8[0][0]               \n",
      "____________________________________________________________________________________________________\n",
      "bn3a_branch2b (BatchNormalizatio (None, 64, 43, 70)    256         res3a_branch2b[0][0]             \n",
      "____________________________________________________________________________________________________\n",
      "res3a_branch1 (Conv2D)           (None, 64, 43, 70)    2112        activation_7[0][0]               \n",
      "____________________________________________________________________________________________________\n",
      "activation_9 (Activation)        (None, 64, 43, 70)    0           bn3a_branch2b[0][0]              \n",
      "____________________________________________________________________________________________________\n",
      "bn3a_branch1 (BatchNormalization (None, 64, 43, 70)    256         res3a_branch1[0][0]              \n",
      "____________________________________________________________________________________________________\n",
      "add_3 (Add)                      (None, 64, 43, 70)    0           activation_9[0][0]               \n",
      "                                                                   bn3a_branch1[0][0]               \n",
      "____________________________________________________________________________________________________\n",
      "activation_10 (Activation)       (None, 64, 43, 70)    0           add_3[0][0]                      \n",
      "____________________________________________________________________________________________________\n",
      "res3b_branch2a (Conv2D)          (None, 64, 43, 70)    36928       activation_10[0][0]              \n",
      "____________________________________________________________________________________________________\n",
      "bn3b_branch2a (BatchNormalizatio (None, 64, 43, 70)    256         res3b_branch2a[0][0]             \n",
      "____________________________________________________________________________________________________\n",
      "activation_11 (Activation)       (None, 64, 43, 70)    0           bn3b_branch2a[0][0]              \n",
      "____________________________________________________________________________________________________\n",
      "res3b_branch2b (Conv2D)          (None, 64, 43, 70)    36928       activation_11[0][0]              \n",
      "____________________________________________________________________________________________________\n"
     ]
    },
    {
     "name": "stdout",
     "output_type": "stream",
     "text": [
      "bn3b_branch2b (BatchNormalizatio (None, 64, 43, 70)    256         res3b_branch2b[0][0]             \n",
      "____________________________________________________________________________________________________\n",
      "activation_12 (Activation)       (None, 64, 43, 70)    0           bn3b_branch2b[0][0]              \n",
      "____________________________________________________________________________________________________\n",
      "add_4 (Add)                      (None, 64, 43, 70)    0           activation_12[0][0]              \n",
      "                                                                   activation_10[0][0]              \n",
      "____________________________________________________________________________________________________\n",
      "activation_13 (Activation)       (None, 64, 43, 70)    0           add_4[0][0]                      \n",
      "____________________________________________________________________________________________________\n",
      "res4a_branch2a (Conv2D)          (None, 128, 22, 35)   73856       activation_13[0][0]              \n",
      "____________________________________________________________________________________________________\n",
      "bn4a_branch2a (BatchNormalizatio (None, 128, 22, 35)   512         res4a_branch2a[0][0]             \n",
      "____________________________________________________________________________________________________\n",
      "activation_14 (Activation)       (None, 128, 22, 35)   0           bn4a_branch2a[0][0]              \n",
      "____________________________________________________________________________________________________\n",
      "res4a_branch2b (Conv2D)          (None, 128, 22, 35)   147584      activation_14[0][0]              \n",
      "____________________________________________________________________________________________________\n",
      "bn4a_branch2b (BatchNormalizatio (None, 128, 22, 35)   512         res4a_branch2b[0][0]             \n",
      "____________________________________________________________________________________________________\n",
      "res4a_branch1 (Conv2D)           (None, 128, 22, 35)   8320        activation_13[0][0]              \n",
      "____________________________________________________________________________________________________\n",
      "activation_15 (Activation)       (None, 128, 22, 35)   0           bn4a_branch2b[0][0]              \n",
      "____________________________________________________________________________________________________\n",
      "bn4a_branch1 (BatchNormalization (None, 128, 22, 35)   512         res4a_branch1[0][0]              \n",
      "____________________________________________________________________________________________________\n",
      "add_5 (Add)                      (None, 128, 22, 35)   0           activation_15[0][0]              \n",
      "                                                                   bn4a_branch1[0][0]               \n",
      "____________________________________________________________________________________________________\n",
      "activation_16 (Activation)       (None, 128, 22, 35)   0           add_5[0][0]                      \n",
      "____________________________________________________________________________________________________\n",
      "res4b_branch2a (Conv2D)          (None, 128, 22, 35)   147584      activation_16[0][0]              \n",
      "____________________________________________________________________________________________________\n",
      "bn4b_branch2a (BatchNormalizatio (None, 128, 22, 35)   512         res4b_branch2a[0][0]             \n",
      "____________________________________________________________________________________________________\n",
      "activation_17 (Activation)       (None, 128, 22, 35)   0           bn4b_branch2a[0][0]              \n",
      "____________________________________________________________________________________________________\n",
      "res4b_branch2b (Conv2D)          (None, 128, 22, 35)   147584      activation_17[0][0]              \n",
      "____________________________________________________________________________________________________\n",
      "bn4b_branch2b (BatchNormalizatio (None, 128, 22, 35)   512         res4b_branch2b[0][0]             \n",
      "____________________________________________________________________________________________________\n",
      "activation_18 (Activation)       (None, 128, 22, 35)   0           bn4b_branch2b[0][0]              \n",
      "____________________________________________________________________________________________________\n",
      "add_6 (Add)                      (None, 128, 22, 35)   0           activation_18[0][0]              \n",
      "                                                                   activation_16[0][0]              \n",
      "____________________________________________________________________________________________________\n",
      "activation_19 (Activation)       (None, 128, 22, 35)   0           add_6[0][0]                      \n",
      "____________________________________________________________________________________________________\n",
      "res5a_branch2a (Conv2D)          (None, 256, 11, 18)   295168      activation_19[0][0]              \n",
      "____________________________________________________________________________________________________\n",
      "bn5a_branch2a (BatchNormalizatio (None, 256, 11, 18)   1024        res5a_branch2a[0][0]             \n",
      "____________________________________________________________________________________________________\n",
      "activation_20 (Activation)       (None, 256, 11, 18)   0           bn5a_branch2a[0][0]              \n",
      "____________________________________________________________________________________________________\n",
      "res5a_branch2b (Conv2D)          (None, 256, 11, 18)   590080      activation_20[0][0]              \n",
      "____________________________________________________________________________________________________\n",
      "bn5a_branch2b (BatchNormalizatio (None, 256, 11, 18)   1024        res5a_branch2b[0][0]             \n",
      "____________________________________________________________________________________________________\n",
      "res5a_branch1 (Conv2D)           (None, 256, 11, 18)   33024       activation_19[0][0]              \n",
      "____________________________________________________________________________________________________\n",
      "activation_21 (Activation)       (None, 256, 11, 18)   0           bn5a_branch2b[0][0]              \n",
      "____________________________________________________________________________________________________\n",
      "bn5a_branch1 (BatchNormalization (None, 256, 11, 18)   1024        res5a_branch1[0][0]              \n",
      "____________________________________________________________________________________________________\n",
      "add_7 (Add)                      (None, 256, 11, 18)   0           activation_21[0][0]              \n",
      "                                                                   bn5a_branch1[0][0]               \n",
      "____________________________________________________________________________________________________\n",
      "activation_22 (Activation)       (None, 256, 11, 18)   0           add_7[0][0]                      \n",
      "____________________________________________________________________________________________________\n",
      "res5b_branch2a (Conv2D)          (None, 256, 11, 18)   590080      activation_22[0][0]              \n",
      "____________________________________________________________________________________________________\n",
      "bn5b_branch2a (BatchNormalizatio (None, 256, 11, 18)   1024        res5b_branch2a[0][0]             \n",
      "____________________________________________________________________________________________________\n",
      "activation_23 (Activation)       (None, 256, 11, 18)   0           bn5b_branch2a[0][0]              \n",
      "____________________________________________________________________________________________________\n",
      "res5b_branch2b (Conv2D)          (None, 256, 11, 18)   590080      activation_23[0][0]              \n",
      "____________________________________________________________________________________________________\n",
      "bn5b_branch2b (BatchNormalizatio (None, 256, 11, 18)   1024        res5b_branch2b[0][0]             \n",
      "____________________________________________________________________________________________________\n",
      "activation_24 (Activation)       (None, 256, 11, 18)   0           bn5b_branch2b[0][0]              \n",
      "____________________________________________________________________________________________________\n",
      "add_8 (Add)                      (None, 256, 11, 18)   0           activation_24[0][0]              \n",
      "                                                                   activation_22[0][0]              \n",
      "____________________________________________________________________________________________________\n",
      "activation_25 (Activation)       (None, 256, 11, 18)   0           add_8[0][0]                      \n",
      "____________________________________________________________________________________________________\n",
      "avg_pool (AveragePooling2D)      (None, 256, 1, 2)     0           activation_25[0][0]              \n",
      "____________________________________________________________________________________________________\n",
      "flatten_1 (Flatten)              (None, 512)           0           avg_pool[0][0]                   \n",
      "____________________________________________________________________________________________________\n",
      "fc (Dense)                       (None, 1)             513         flatten_1[0][0]                  \n",
      "====================================================================================================\n"
     ]
    },
    {
     "name": "stdout",
     "output_type": "stream",
     "text": [
      "Total params: 2,822,881\n",
      "Trainable params: 2,817,953\n",
      "Non-trainable params: 4,928\n",
      "____________________________________________________________________________________________________\n"
     ]
    }
   ],
   "source": [
    "# test resnet\n",
    "model = resnet(input_shape=input_shape, filter_size=32)\n",
    "sgd = SGD(lr=1e-4, decay=1e-6, momentum=0.9, nesterov=True)\n",
    "model.compile(optimizer='adam', loss='mse')\n",
    "model.summary()"
   ]
  },
  {
   "cell_type": "code",
   "execution_count": 12,
   "metadata": {
    "collapsed": true
   },
   "outputs": [],
   "source": [
    "# test nvidia model\n",
    "def get_model(input_shape):\n",
    "    model = Sequential([\n",
    "        BatchNormalization(axis=1, input_shape=input_shape),\n",
    "        Conv2D(24, kernel_size=(5,5), strides=(2,2), activation='relu'),\n",
    "        BatchNormalization(axis=1),\n",
    "        Conv2D(36, kernel_size=(5,5), strides=(2,2), activation='relu'),\n",
    "        BatchNormalization(axis=1),\n",
    "        Conv2D(48, kernel_size=(5,5), strides=(2,2), activation='relu'),\n",
    "        BatchNormalization(axis=1),\n",
    "        Conv2D(64, kernel_size=(3,3), strides=(1,1), activation='relu'),\n",
    "        BatchNormalization(axis=1),\n",
    "        Conv2D(64, kernel_size=(3,3), strides=(1,1), activation='relu'),\n",
    "        BatchNormalization(axis=1),\n",
    "        Flatten(),\n",
    "        Dense(100, activation='relu'),\n",
    "        BatchNormalization(),\n",
    "        Dense(50, activation='relu'),\n",
    "        BatchNormalization(),\n",
    "        Dense(10, activation='relu'),\n",
    "        BatchNormalization(),\n",
    "        Dense(1)\n",
    "    ])\n",
    "    \n",
    "    return model\n",
    "\n",
    "model = get_model(input_shape)\n",
    "adam = Adam(lr=1e-4, decay=1e-6)\n",
    "model.compile(optimizer=adam, loss=\"mse\") \n",
    "model.summary()"
   ]
  },
  {
   "cell_type": "code",
   "execution_count": 12,
   "metadata": {
    "collapsed": true
   },
   "outputs": [],
   "source": [
    "# or load from saved model\n",
    "model = load_model('../model/v3-resnet50-000-208450.h5')"
   ]
  },
  {
   "cell_type": "markdown",
   "metadata": {},
   "source": [
    "### Train"
   ]
  },
  {
   "cell_type": "markdown",
   "metadata": {},
   "source": [
    "목표: val loss가 100,000 보다 내려가기"
   ]
  },
  {
   "cell_type": "code",
   "execution_count": 13,
   "metadata": {
    "collapsed": true,
    "scrolled": true
   },
   "outputs": [],
   "source": [
    "# define callbacks\n",
    "cur_model = cur_file + '-resnet_v1'\n",
    "csv_logger = CSVLogger(os.path.join(log_path, cur_model + '.log'))\n",
    "reduce_lr = ReduceLROnPlateau(patience=5, verbose=1, min_lr=1e-07)\n",
    "\n",
    "model_file_name= os.path.join(model_path, cur_model + '-{epoch:03d}-{val_loss:.0f}.h5')\n",
    "checkpoint = ModelCheckpoint(model_file_name, verbose=0, save_best_only=True)"
   ]
  },
  {
   "cell_type": "code",
   "execution_count": null,
   "metadata": {
    "scrolled": true
   },
   "outputs": [
    {
     "name": "stdout",
     "output_type": "stream",
     "text": [
      "Epoch 1/50\n",
      " 362/2032 [====>.........................] - ETA: 1304s - loss: 920436.3957"
     ]
    }
   ],
   "source": [
    "model.fit_generator(train_batch, train_steps, epochs=50, verbose=1, callbacks=[csv_logger, checkpoint],\n",
    "                    validation_data=val_batch, validation_steps=val_steps, initial_epoch=0)"
   ]
  },
  {
   "cell_type": "code",
   "execution_count": null,
   "metadata": {
    "collapsed": true
   },
   "outputs": [],
   "source": []
  },
  {
   "cell_type": "code",
   "execution_count": null,
   "metadata": {
    "collapsed": true
   },
   "outputs": [],
   "source": []
  },
  {
   "cell_type": "code",
   "execution_count": null,
   "metadata": {
    "collapsed": true
   },
   "outputs": [],
   "source": []
  },
  {
   "cell_type": "code",
   "execution_count": 15,
   "metadata": {
    "scrolled": true
   },
   "outputs": [
    {
     "name": "stdout",
     "output_type": "stream",
     "text": [
      "Epoch 5/50\n",
      "1300/1300 [==============================] - 821s - loss: 252657.3481 - val_loss: 344327.9345\n",
      "Epoch 6/50\n",
      "1300/1300 [==============================] - 821s - loss: 242017.7801 - val_loss: 342743.3952\n",
      "Epoch 7/50\n",
      "1300/1300 [==============================] - 820s - loss: 231311.2176 - val_loss: 345065.5769\n",
      "Epoch 8/50\n",
      "1300/1300 [==============================] - 821s - loss: 231372.9541 - val_loss: 342914.9102\n",
      "Epoch 9/50\n",
      "1300/1300 [==============================] - 825s - loss: 228675.4309 - val_loss: 349544.9034\n",
      "Epoch 10/50\n",
      "1300/1300 [==============================] - 826s - loss: 220107.8464 - val_loss: 350107.9660\n",
      "Epoch 11/50\n",
      "1300/1300 [==============================] - 827s - loss: 220093.6346 - val_loss: 341751.3201\n",
      "Epoch 12/50\n",
      "1300/1300 [==============================] - 825s - loss: 219377.9941 - val_loss: 345116.5716\n",
      "Epoch 13/50\n",
      "1300/1300 [==============================] - 825s - loss: 214599.9988 - val_loss: 339230.8396\n",
      "Epoch 14/50\n",
      "1300/1300 [==============================] - 825s - loss: 214210.4748 - val_loss: 342582.5137\n",
      "Epoch 15/50\n",
      "1300/1300 [==============================] - 825s - loss: 211029.7068 - val_loss: 335434.9159\n",
      "Epoch 16/50\n",
      "1300/1300 [==============================] - 825s - loss: 211552.3713 - val_loss: 335069.9241\n",
      "Epoch 17/50\n",
      "1300/1300 [==============================] - 825s - loss: 210505.0428 - val_loss: 331575.5730\n",
      "Epoch 18/50\n",
      "1300/1300 [==============================] - 825s - loss: 205767.7137 - val_loss: 339537.5900\n",
      "Epoch 19/50\n",
      "1300/1300 [==============================] - 828s - loss: 220155.0579 - val_loss: 369041.5003\n",
      "Epoch 20/50\n",
      "1300/1300 [==============================] - 843s - loss: 269395.9759 - val_loss: 418426.6285\n",
      "Epoch 21/50\n",
      "1300/1300 [==============================] - 845s - loss: 272945.2013 - val_loss: 424107.5587\n",
      "Epoch 22/50\n",
      "1300/1300 [==============================] - 841s - loss: 254990.8471 - val_loss: 418876.7749\n",
      "Epoch 23/50\n",
      "1300/1300 [==============================] - 840s - loss: 257659.6590 - val_loss: 409230.2413\n",
      "Epoch 24/50\n",
      "1300/1300 [==============================] - 840s - loss: 254060.1582 - val_loss: 399217.1687\n",
      "Epoch 25/50\n",
      "1300/1300 [==============================] - 826s - loss: 193258.8669 - val_loss: 430490.4461\n",
      "Epoch 26/50\n",
      "1300/1300 [==============================] - 983s - loss: 460944.8990 - val_loss: 1006019.3578\n",
      "Epoch 27/50\n",
      "1300/1300 [==============================] - 907s - loss: 528394.9859 - val_loss: 719375.5713\n",
      "Epoch 28/50\n",
      "1300/1300 [==============================] - 1176s - loss: 715482.4513 - val_loss: 701674.7601\n",
      "Epoch 29/50\n",
      "1300/1300 [==============================] - 1425s - loss: 769773.2855 - val_loss: 1198159.4363\n",
      "Epoch 30/50\n",
      "1300/1300 [==============================] - 1437s - loss: 885309.2435 - val_loss: 719547.6118\n",
      "Epoch 31/50\n",
      "1300/1300 [==============================] - 1495s - loss: 860782.7065 - val_loss: 769284.4253\n",
      "Epoch 32/50\n",
      "1300/1300 [==============================] - 1200s - loss: 625644.6067 - val_loss: 1213909.1869\n",
      "Epoch 33/50\n",
      "1300/1300 [==============================] - 1764s - loss: 800941.9756 - val_loss: 347314.9624\n",
      "Epoch 34/50\n",
      "1300/1300 [==============================] - 826s - loss: 189298.9740 - val_loss: 339439.0731\n",
      "Epoch 35/50\n",
      "1300/1300 [==============================] - 826s - loss: 185686.7270 - val_loss: 336717.5502\n",
      "Epoch 36/50\n",
      "1300/1300 [==============================] - 826s - loss: 178481.5817 - val_loss: 339699.1247\n",
      "Epoch 37/50\n",
      "1300/1300 [==============================] - 826s - loss: 182820.2632 - val_loss: 340995.5811\n",
      "Epoch 38/50\n",
      "1300/1300 [==============================] - 826s - loss: 172657.4955 - val_loss: 341802.4950\n",
      "Epoch 39/50\n",
      "1300/1300 [==============================] - 825s - loss: 176722.3704 - val_loss: 347199.1186\n",
      "Epoch 40/50\n",
      "1300/1300 [==============================] - 828s - loss: 181219.1624 - val_loss: 339284.4354\n",
      "Epoch 41/50\n",
      "1300/1300 [==============================] - 826s - loss: 179017.5681 - val_loss: 347307.6567\n",
      "Epoch 42/50\n",
      "1300/1300 [==============================] - 826s - loss: 181293.4600 - val_loss: 346283.6191\n",
      "Epoch 43/50\n",
      "1300/1300 [==============================] - 826s - loss: 173977.6455 - val_loss: 343139.6030\n",
      "Epoch 44/50\n",
      "1300/1300 [==============================] - 826s - loss: 178164.3384 - val_loss: 343921.6155\n",
      "Epoch 45/50\n",
      "1300/1300 [==============================] - 826s - loss: 173564.7737 - val_loss: 371941.2366\n",
      "Epoch 46/50\n",
      "1300/1300 [==============================] - 826s - loss: 173191.3690 - val_loss: 346761.2277\n",
      "Epoch 47/50\n",
      "1300/1300 [==============================] - 826s - loss: 172559.3120 - val_loss: 340444.4447\n",
      "Epoch 48/50\n",
      "1300/1300 [==============================] - 829s - loss: 182719.5837 - val_loss: 339610.1553\n",
      "Epoch 49/50\n",
      "1300/1300 [==============================] - 827s - loss: 178217.4243 - val_loss: 343793.0258\n",
      "Epoch 50/50\n",
      "1300/1300 [==============================] - 826s - loss: 170709.8105 - val_loss: 343369.8297\n"
     ]
    },
    {
     "data": {
      "text/plain": [
       "<keras.callbacks.History at 0x7fbaede3b4d0>"
      ]
     },
     "execution_count": 15,
     "metadata": {},
     "output_type": "execute_result"
    }
   ],
   "source": [
    "model.fit_generator(train_batch, train_steps, epochs=50, verbose=1, callbacks=[csv_logger, checkpoint],\n",
    "                    validation_data=val_batch, validation_steps=val_steps, initial_epoch=4)"
   ]
  },
  {
   "cell_type": "code",
   "execution_count": 16,
   "metadata": {
    "collapsed": true
   },
   "outputs": [],
   "source": [
    "model.save('../model/v3-50-343369.h5')"
   ]
  },
  {
   "cell_type": "code",
   "execution_count": 18,
   "metadata": {
    "scrolled": true
   },
   "outputs": [
    {
     "name": "stdout",
     "output_type": "stream",
     "text": [
      "Epoch 11/20\n",
      "739/740 [============================>.] - ETA: 0s - loss: 155770.3204Epoch 00010: val_loss improved from inf to 319982.91043, saving model to ../model/v1-10-319982.91.hdf5\n",
      "740/740 [==============================] - 461s - loss: 155819.0531 - val_loss: 319982.9104\n",
      "Epoch 12/20\n",
      "739/740 [============================>.] - ETA: 0s - loss: 149685.0187Epoch 00011: val_loss did not improve\n",
      "740/740 [==============================] - 458s - loss: 149556.8179 - val_loss: 326439.1328\n",
      "Epoch 13/20\n",
      "739/740 [============================>.] - ETA: 0s - loss: 137699.3041Epoch 00012: val_loss improved from 319982.91043 to 308592.00211, saving model to ../model/v1-12-308592.00.hdf5\n",
      "740/740 [==============================] - 457s - loss: 137595.8596 - val_loss: 308592.0021\n",
      "Epoch 14/20\n",
      "739/740 [============================>.] - ETA: 0s - loss: 125937.1519Epoch 00013: val_loss improved from 308592.00211 to 307338.93416, saving model to ../model/v1-13-307338.93.hdf5\n",
      "740/740 [==============================] - 457s - loss: 125835.9744 - val_loss: 307338.9342\n",
      "Epoch 15/20\n",
      "739/740 [============================>.] - ETA: 0s - loss: 125686.8819Epoch 00014: val_loss did not improve\n",
      "740/740 [==============================] - 456s - loss: 125583.4552 - val_loss: 338254.5018\n",
      "Epoch 16/20\n",
      "739/740 [============================>.] - ETA: 0s - loss: 136402.2044Epoch 00015: val_loss improved from 307338.93416 to 304215.61106, saving model to ../model/v1-15-304215.61.hdf5\n",
      "740/740 [==============================] - 458s - loss: 136610.4603 - val_loss: 304215.6111\n",
      "Epoch 17/20\n",
      "739/740 [============================>.] - ETA: 0s - loss: 124467.0340Epoch 00016: val_loss did not improve\n",
      "740/740 [==============================] - 456s - loss: 124356.0760 - val_loss: 309047.5350\n",
      "Epoch 18/20\n",
      "739/740 [============================>.] - ETA: 0s - loss: 121886.3212Epoch 00017: val_loss did not improve\n",
      "740/740 [==============================] - 461s - loss: 122048.7412 - val_loss: 323702.5492\n",
      "Epoch 19/20\n",
      "739/740 [============================>.] - ETA: 0s - loss: 119357.7869Epoch 00018: val_loss did not improve\n",
      "740/740 [==============================] - 456s - loss: 120002.4427 - val_loss: 320252.8305\n",
      "Epoch 20/20\n",
      "739/740 [============================>.] - ETA: 0s - loss: 129962.9722Epoch 00019: val_loss improved from 304215.61106 to 303138.08155, saving model to ../model/v1-19-303138.08.hdf5\n",
      "740/740 [==============================] - 459s - loss: 130012.5612 - val_loss: 303138.0815\n"
     ]
    },
    {
     "data": {
      "text/plain": [
       "<keras.callbacks.History at 0x7f55224bdcd0>"
      ]
     },
     "execution_count": 18,
     "metadata": {},
     "output_type": "execute_result"
    }
   ],
   "source": [
    "model.fit_generator(train_batch, train_steps, epochs=20, verbose=1, callbacks=[csv_logger, checkpoint],\n",
    "                    validation_data=val_batch, validation_steps=val_steps, initial_epoch=10)"
   ]
  },
  {
   "cell_type": "code",
   "execution_count": 20,
   "metadata": {
    "scrolled": true
   },
   "outputs": [
    {
     "name": "stdout",
     "output_type": "stream",
     "text": [
      "Epoch 21/30\n",
      "740/740 [==============================] - 638s - loss: 156921.5541 - val_loss: 310367.1075\n",
      "Epoch 22/30\n",
      " 60/740 [=>............................] - ETA: 534s - loss: 177604.9941"
     ]
    },
    {
     "ename": "KeyboardInterrupt",
     "evalue": "",
     "output_type": "error",
     "traceback": [
      "\u001b[0;31m---------------------------------------------------------------------------\u001b[0m",
      "\u001b[0;31mKeyboardInterrupt\u001b[0m                         Traceback (most recent call last)",
      "\u001b[0;32m<ipython-input-20-04d83ae14fa7>\u001b[0m in \u001b[0;36m<module>\u001b[0;34m()\u001b[0m\n\u001b[1;32m      1\u001b[0m model.fit_generator(train_batch, train_steps, epochs=30, verbose=1, callbacks=[csv_logger, checkpoint],\n\u001b[0;32m----> 2\u001b[0;31m                     validation_data=val_batch, validation_steps=val_steps, initial_epoch=20)\n\u001b[0m",
      "\u001b[0;32m/home/im9uri/.local/lib/python2.7/site-packages/keras/legacy/interfaces.pyc\u001b[0m in \u001b[0;36mwrapper\u001b[0;34m(*args, **kwargs)\u001b[0m\n\u001b[1;32m     86\u001b[0m                 warnings.warn('Update your `' + object_name +\n\u001b[1;32m     87\u001b[0m                               '` call to the Keras 2 API: ' + signature, stacklevel=2)\n\u001b[0;32m---> 88\u001b[0;31m             \u001b[0;32mreturn\u001b[0m \u001b[0mfunc\u001b[0m\u001b[0;34m(\u001b[0m\u001b[0;34m*\u001b[0m\u001b[0margs\u001b[0m\u001b[0;34m,\u001b[0m \u001b[0;34m**\u001b[0m\u001b[0mkwargs\u001b[0m\u001b[0;34m)\u001b[0m\u001b[0;34m\u001b[0m\u001b[0m\n\u001b[0m\u001b[1;32m     89\u001b[0m         \u001b[0mwrapper\u001b[0m\u001b[0;34m.\u001b[0m\u001b[0m_legacy_support_signature\u001b[0m \u001b[0;34m=\u001b[0m \u001b[0minspect\u001b[0m\u001b[0;34m.\u001b[0m\u001b[0mgetargspec\u001b[0m\u001b[0;34m(\u001b[0m\u001b[0mfunc\u001b[0m\u001b[0;34m)\u001b[0m\u001b[0;34m\u001b[0m\u001b[0m\n\u001b[1;32m     90\u001b[0m         \u001b[0;32mreturn\u001b[0m \u001b[0mwrapper\u001b[0m\u001b[0;34m\u001b[0m\u001b[0m\n",
      "\u001b[0;32m/home/im9uri/.local/lib/python2.7/site-packages/keras/models.pyc\u001b[0m in \u001b[0;36mfit_generator\u001b[0;34m(self, generator, steps_per_epoch, epochs, verbose, callbacks, validation_data, validation_steps, class_weight, max_q_size, workers, pickle_safe, initial_epoch)\u001b[0m\n\u001b[1;32m   1122\u001b[0m                                         \u001b[0mworkers\u001b[0m\u001b[0;34m=\u001b[0m\u001b[0mworkers\u001b[0m\u001b[0;34m,\u001b[0m\u001b[0;34m\u001b[0m\u001b[0m\n\u001b[1;32m   1123\u001b[0m                                         \u001b[0mpickle_safe\u001b[0m\u001b[0;34m=\u001b[0m\u001b[0mpickle_safe\u001b[0m\u001b[0;34m,\u001b[0m\u001b[0;34m\u001b[0m\u001b[0m\n\u001b[0;32m-> 1124\u001b[0;31m                                         initial_epoch=initial_epoch)\n\u001b[0m\u001b[1;32m   1125\u001b[0m \u001b[0;34m\u001b[0m\u001b[0m\n\u001b[1;32m   1126\u001b[0m     \u001b[0;34m@\u001b[0m\u001b[0minterfaces\u001b[0m\u001b[0;34m.\u001b[0m\u001b[0mlegacy_generator_methods_support\u001b[0m\u001b[0;34m\u001b[0m\u001b[0m\n",
      "\u001b[0;32m/home/im9uri/.local/lib/python2.7/site-packages/keras/legacy/interfaces.pyc\u001b[0m in \u001b[0;36mwrapper\u001b[0;34m(*args, **kwargs)\u001b[0m\n\u001b[1;32m     86\u001b[0m                 warnings.warn('Update your `' + object_name +\n\u001b[1;32m     87\u001b[0m                               '` call to the Keras 2 API: ' + signature, stacklevel=2)\n\u001b[0;32m---> 88\u001b[0;31m             \u001b[0;32mreturn\u001b[0m \u001b[0mfunc\u001b[0m\u001b[0;34m(\u001b[0m\u001b[0;34m*\u001b[0m\u001b[0margs\u001b[0m\u001b[0;34m,\u001b[0m \u001b[0;34m**\u001b[0m\u001b[0mkwargs\u001b[0m\u001b[0;34m)\u001b[0m\u001b[0;34m\u001b[0m\u001b[0m\n\u001b[0m\u001b[1;32m     89\u001b[0m         \u001b[0mwrapper\u001b[0m\u001b[0;34m.\u001b[0m\u001b[0m_legacy_support_signature\u001b[0m \u001b[0;34m=\u001b[0m \u001b[0minspect\u001b[0m\u001b[0;34m.\u001b[0m\u001b[0mgetargspec\u001b[0m\u001b[0;34m(\u001b[0m\u001b[0mfunc\u001b[0m\u001b[0;34m)\u001b[0m\u001b[0;34m\u001b[0m\u001b[0m\n\u001b[1;32m     90\u001b[0m         \u001b[0;32mreturn\u001b[0m \u001b[0mwrapper\u001b[0m\u001b[0;34m\u001b[0m\u001b[0m\n",
      "\u001b[0;32m/home/im9uri/.local/lib/python2.7/site-packages/keras/engine/training.pyc\u001b[0m in \u001b[0;36mfit_generator\u001b[0;34m(self, generator, steps_per_epoch, epochs, verbose, callbacks, validation_data, validation_steps, class_weight, max_q_size, workers, pickle_safe, initial_epoch)\u001b[0m\n\u001b[1;32m   1900\u001b[0m                     outs = self.train_on_batch(x, y,\n\u001b[1;32m   1901\u001b[0m                                                \u001b[0msample_weight\u001b[0m\u001b[0;34m=\u001b[0m\u001b[0msample_weight\u001b[0m\u001b[0;34m,\u001b[0m\u001b[0;34m\u001b[0m\u001b[0m\n\u001b[0;32m-> 1902\u001b[0;31m                                                class_weight=class_weight)\n\u001b[0m\u001b[1;32m   1903\u001b[0m \u001b[0;34m\u001b[0m\u001b[0m\n\u001b[1;32m   1904\u001b[0m                     \u001b[0;32mif\u001b[0m \u001b[0;32mnot\u001b[0m \u001b[0misinstance\u001b[0m\u001b[0;34m(\u001b[0m\u001b[0mouts\u001b[0m\u001b[0;34m,\u001b[0m \u001b[0mlist\u001b[0m\u001b[0;34m)\u001b[0m\u001b[0;34m:\u001b[0m\u001b[0;34m\u001b[0m\u001b[0m\n",
      "\u001b[0;32m/home/im9uri/.local/lib/python2.7/site-packages/keras/engine/training.pyc\u001b[0m in \u001b[0;36mtrain_on_batch\u001b[0;34m(self, x, y, sample_weight, class_weight)\u001b[0m\n\u001b[1;32m   1640\u001b[0m             \u001b[0mins\u001b[0m \u001b[0;34m=\u001b[0m \u001b[0mx\u001b[0m \u001b[0;34m+\u001b[0m \u001b[0my\u001b[0m \u001b[0;34m+\u001b[0m \u001b[0msample_weights\u001b[0m\u001b[0;34m\u001b[0m\u001b[0m\n\u001b[1;32m   1641\u001b[0m         \u001b[0mself\u001b[0m\u001b[0;34m.\u001b[0m\u001b[0m_make_train_function\u001b[0m\u001b[0;34m(\u001b[0m\u001b[0;34m)\u001b[0m\u001b[0;34m\u001b[0m\u001b[0m\n\u001b[0;32m-> 1642\u001b[0;31m         \u001b[0moutputs\u001b[0m \u001b[0;34m=\u001b[0m \u001b[0mself\u001b[0m\u001b[0;34m.\u001b[0m\u001b[0mtrain_function\u001b[0m\u001b[0;34m(\u001b[0m\u001b[0mins\u001b[0m\u001b[0;34m)\u001b[0m\u001b[0;34m\u001b[0m\u001b[0m\n\u001b[0m\u001b[1;32m   1643\u001b[0m         \u001b[0;32mif\u001b[0m \u001b[0mlen\u001b[0m\u001b[0;34m(\u001b[0m\u001b[0moutputs\u001b[0m\u001b[0;34m)\u001b[0m \u001b[0;34m==\u001b[0m \u001b[0;36m1\u001b[0m\u001b[0;34m:\u001b[0m\u001b[0;34m\u001b[0m\u001b[0m\n\u001b[1;32m   1644\u001b[0m             \u001b[0;32mreturn\u001b[0m \u001b[0moutputs\u001b[0m\u001b[0;34m[\u001b[0m\u001b[0;36m0\u001b[0m\u001b[0;34m]\u001b[0m\u001b[0;34m\u001b[0m\u001b[0m\n",
      "\u001b[0;32m/home/im9uri/.local/lib/python2.7/site-packages/keras/backend/theano_backend.pyc\u001b[0m in \u001b[0;36m__call__\u001b[0;34m(self, inputs)\u001b[0m\n\u001b[1;32m   1194\u001b[0m     \u001b[0;32mdef\u001b[0m \u001b[0m__call__\u001b[0m\u001b[0;34m(\u001b[0m\u001b[0mself\u001b[0m\u001b[0;34m,\u001b[0m \u001b[0minputs\u001b[0m\u001b[0;34m)\u001b[0m\u001b[0;34m:\u001b[0m\u001b[0;34m\u001b[0m\u001b[0m\n\u001b[1;32m   1195\u001b[0m         \u001b[0;32massert\u001b[0m \u001b[0misinstance\u001b[0m\u001b[0;34m(\u001b[0m\u001b[0minputs\u001b[0m\u001b[0;34m,\u001b[0m \u001b[0;34m(\u001b[0m\u001b[0mlist\u001b[0m\u001b[0;34m,\u001b[0m \u001b[0mtuple\u001b[0m\u001b[0;34m)\u001b[0m\u001b[0;34m)\u001b[0m\u001b[0;34m\u001b[0m\u001b[0m\n\u001b[0;32m-> 1196\u001b[0;31m         \u001b[0;32mreturn\u001b[0m \u001b[0mself\u001b[0m\u001b[0;34m.\u001b[0m\u001b[0mfunction\u001b[0m\u001b[0;34m(\u001b[0m\u001b[0;34m*\u001b[0m\u001b[0minputs\u001b[0m\u001b[0;34m)\u001b[0m\u001b[0;34m\u001b[0m\u001b[0m\n\u001b[0m\u001b[1;32m   1197\u001b[0m \u001b[0;34m\u001b[0m\u001b[0m\n\u001b[1;32m   1198\u001b[0m \u001b[0;34m\u001b[0m\u001b[0m\n",
      "\u001b[0;32m/home/im9uri/anaconda2/lib/python2.7/site-packages/theano/compile/function_module.pyc\u001b[0m in \u001b[0;36m__call__\u001b[0;34m(self, *args, **kwargs)\u001b[0m\n\u001b[1;32m    882\u001b[0m         \u001b[0;32mtry\u001b[0m\u001b[0;34m:\u001b[0m\u001b[0;34m\u001b[0m\u001b[0m\n\u001b[1;32m    883\u001b[0m             \u001b[0moutputs\u001b[0m \u001b[0;34m=\u001b[0m\u001b[0;31m\\\u001b[0m\u001b[0;34m\u001b[0m\u001b[0m\n\u001b[0;32m--> 884\u001b[0;31m                 \u001b[0mself\u001b[0m\u001b[0;34m.\u001b[0m\u001b[0mfn\u001b[0m\u001b[0;34m(\u001b[0m\u001b[0;34m)\u001b[0m \u001b[0;32mif\u001b[0m \u001b[0moutput_subset\u001b[0m \u001b[0;32mis\u001b[0m \u001b[0mNone\u001b[0m \u001b[0;32melse\u001b[0m\u001b[0;31m\\\u001b[0m\u001b[0;34m\u001b[0m\u001b[0m\n\u001b[0m\u001b[1;32m    885\u001b[0m                 \u001b[0mself\u001b[0m\u001b[0;34m.\u001b[0m\u001b[0mfn\u001b[0m\u001b[0;34m(\u001b[0m\u001b[0moutput_subset\u001b[0m\u001b[0;34m=\u001b[0m\u001b[0moutput_subset\u001b[0m\u001b[0;34m)\u001b[0m\u001b[0;34m\u001b[0m\u001b[0m\n\u001b[1;32m    886\u001b[0m         \u001b[0;32mexcept\u001b[0m \u001b[0mException\u001b[0m\u001b[0;34m:\u001b[0m\u001b[0;34m\u001b[0m\u001b[0m\n",
      "\u001b[0;32m/home/im9uri/anaconda2/lib/python2.7/site-packages/theano/ifelse.pyc\u001b[0m in \u001b[0;36mthunk\u001b[0;34m()\u001b[0m\n\u001b[1;32m    244\u001b[0m         \u001b[0moutputs\u001b[0m \u001b[0;34m=\u001b[0m \u001b[0mnode\u001b[0m\u001b[0;34m.\u001b[0m\u001b[0moutputs\u001b[0m\u001b[0;34m\u001b[0m\u001b[0m\n\u001b[1;32m    245\u001b[0m \u001b[0;34m\u001b[0m\u001b[0m\n\u001b[0;32m--> 246\u001b[0;31m         \u001b[0;32mdef\u001b[0m \u001b[0mthunk\u001b[0m\u001b[0;34m(\u001b[0m\u001b[0;34m)\u001b[0m\u001b[0;34m:\u001b[0m\u001b[0;34m\u001b[0m\u001b[0m\n\u001b[0m\u001b[1;32m    247\u001b[0m             \u001b[0;32mif\u001b[0m \u001b[0;32mnot\u001b[0m \u001b[0mcompute_map\u001b[0m\u001b[0;34m[\u001b[0m\u001b[0mcond\u001b[0m\u001b[0;34m]\u001b[0m\u001b[0;34m[\u001b[0m\u001b[0;36m0\u001b[0m\u001b[0;34m]\u001b[0m\u001b[0;34m:\u001b[0m\u001b[0;34m\u001b[0m\u001b[0m\n\u001b[1;32m    248\u001b[0m                 \u001b[0;32mreturn\u001b[0m \u001b[0;34m[\u001b[0m\u001b[0;36m0\u001b[0m\u001b[0;34m]\u001b[0m\u001b[0;34m\u001b[0m\u001b[0m\n",
      "\u001b[0;31mKeyboardInterrupt\u001b[0m: "
     ]
    }
   ],
   "source": [
    "model.fit_generator(train_batch, train_steps, epochs=30, verbose=1, callbacks=[csv_logger, checkpoint],\n",
    "                    validation_data=val_batch, validation_steps=val_steps, initial_epoch=20)"
   ]
  },
  {
   "cell_type": "code",
   "execution_count": null,
   "metadata": {
    "collapsed": true
   },
   "outputs": [],
   "source": []
  },
  {
   "cell_type": "code",
   "execution_count": null,
   "metadata": {
    "collapsed": true
   },
   "outputs": [],
   "source": []
  },
  {
   "cell_type": "code",
   "execution_count": null,
   "metadata": {
    "collapsed": true
   },
   "outputs": [],
   "source": []
  },
  {
   "cell_type": "code",
   "execution_count": null,
   "metadata": {
    "collapsed": true
   },
   "outputs": [],
   "source": []
  },
  {
   "cell_type": "code",
   "execution_count": null,
   "metadata": {
    "collapsed": true
   },
   "outputs": [],
   "source": []
  },
  {
   "cell_type": "code",
   "execution_count": null,
   "metadata": {
    "collapsed": true
   },
   "outputs": [],
   "source": []
  },
  {
   "cell_type": "code",
   "execution_count": null,
   "metadata": {
    "collapsed": true
   },
   "outputs": [],
   "source": []
  },
  {
   "cell_type": "code",
   "execution_count": null,
   "metadata": {
    "collapsed": true
   },
   "outputs": [],
   "source": []
  },
  {
   "cell_type": "code",
   "execution_count": 15,
   "metadata": {},
   "outputs": [
    {
     "name": "stdout",
     "output_type": "stream",
     "text": [
      "Epoch 1/5\n",
      "740/740 [==============================] - 500s - loss: 527431.7331 - val_loss: 521278.3349\n",
      "Epoch 2/5\n",
      "740/740 [==============================] - 572s - loss: 432504.8674 - val_loss: 457112.9539\n",
      "Epoch 3/5\n",
      "740/740 [==============================] - 493s - loss: 348094.1218 - val_loss: 362387.3584\n",
      "Epoch 4/5\n",
      "740/740 [==============================] - 492s - loss: 283841.3567 - val_loss: 315356.2590\n",
      "Epoch 5/5\n",
      "740/740 [==============================] - 495s - loss: 234211.2699 - val_loss: 299404.9821\n"
     ]
    },
    {
     "data": {
      "text/plain": [
       "<keras.callbacks.History at 0x7fcf4ce44ed0>"
      ]
     },
     "execution_count": 15,
     "metadata": {},
     "output_type": "execute_result"
    }
   ],
   "source": [
    "model.fit_generator(train_batch, train_steps, epochs=5, verbose=1, callbacks=[reduce_lr],\n",
    "                    validation_data=val_batch, validation_steps=val_steps)"
   ]
  },
  {
   "cell_type": "code",
   "execution_count": 16,
   "metadata": {},
   "outputs": [
    {
     "name": "stdout",
     "output_type": "stream",
     "text": [
      "Epoch 1/5\n",
      "740/740 [==============================] - 498s - loss: 194996.2776 - val_loss: 281851.8154\n",
      "Epoch 2/5\n",
      "740/740 [==============================] - 495s - loss: 184835.2337 - val_loss: 276382.1604\n",
      "Epoch 3/5\n",
      "740/740 [==============================] - 496s - loss: 173231.3565 - val_loss: 294773.8319\n",
      "Epoch 4/5\n",
      "740/740 [==============================] - 495s - loss: 165042.1656 - val_loss: 296033.7463\n",
      "Epoch 5/5\n",
      "740/740 [==============================] - 641s - loss: 165090.1396 - val_loss: 318638.1986\n"
     ]
    },
    {
     "data": {
      "text/plain": [
       "<keras.callbacks.History at 0x7fcf4dd466d0>"
      ]
     },
     "execution_count": 16,
     "metadata": {},
     "output_type": "execute_result"
    }
   ],
   "source": [
    "model.fit_generator(train_batch, train_steps, epochs=5, verbose=1, callbacks=[reduce_lr],\n",
    "                    validation_data=val_batch, validation_steps=val_steps)"
   ]
  },
  {
   "cell_type": "code",
   "execution_count": 22,
   "metadata": {
    "collapsed": true
   },
   "outputs": [],
   "source": [
    "# reduce lr\n",
    "adam = Adam(lr = 5e-4)\n",
    "model.compile(optimizer=adam, loss=\"mse\") "
   ]
  },
  {
   "cell_type": "code",
   "execution_count": 25,
   "metadata": {},
   "outputs": [
    {
     "name": "stdout",
     "output_type": "stream",
     "text": [
      "Epoch 16/20\n",
      "740/740 [==============================] - 684s - loss: 152989.1501 - val_loss: 304655.1528\n",
      "Epoch 17/20\n",
      "740/740 [==============================] - 521s - loss: 143858.3735 - val_loss: 288153.3071\n",
      "Epoch 18/20\n",
      "740/740 [==============================] - 455s - loss: 128485.5851 - val_loss: 287172.9297\n",
      "Epoch 19/20\n",
      "740/740 [==============================] - 457s - loss: 125270.3801 - val_loss: 300637.5496\n",
      "Epoch 20/20\n",
      "740/740 [==============================] - 456s - loss: 128174.6031 - val_loss: 303096.1404\n"
     ]
    },
    {
     "data": {
      "text/plain": [
       "<keras.callbacks.History at 0x7fcf34469410>"
      ]
     },
     "execution_count": 25,
     "metadata": {},
     "output_type": "execute_result"
    }
   ],
   "source": [
    "model.fit_generator(train_batch, train_steps, epochs=20, verbose=1, callbacks=[csv_logger, reduce_lr],\n",
    "                    validation_data=val_batch, validation_steps=val_steps, initial_epoch=15)"
   ]
  },
  {
   "cell_type": "code",
   "execution_count": 28,
   "metadata": {
    "collapsed": true
   },
   "outputs": [],
   "source": [
    "# reduce lr\n",
    "lr = K.get_value(model.optimizer.lr)\n",
    "new_lr = 0.5 * lr\n",
    "K.set_value(model.optimizer.lr, new_lr) "
   ]
  },
  {
   "cell_type": "code",
   "execution_count": 30,
   "metadata": {
    "scrolled": true
   },
   "outputs": [
    {
     "name": "stdout",
     "output_type": "stream",
     "text": [
      "Epoch 21/25\n",
      " 70/740 [=>............................] - ETA: 368s - loss: 292500.9789"
     ]
    },
    {
     "ename": "KeyboardInterrupt",
     "evalue": "",
     "output_type": "error",
     "traceback": [
      "\u001b[0;31m---------------------------------------------------------------------------\u001b[0m",
      "\u001b[0;31mKeyboardInterrupt\u001b[0m                         Traceback (most recent call last)",
      "\u001b[0;32m<ipython-input-30-4b43974512d7>\u001b[0m in \u001b[0;36m<module>\u001b[0;34m()\u001b[0m\n\u001b[1;32m      1\u001b[0m model.fit_generator(train_batch, train_steps, epochs=25, verbose=1, callbacks=[csv_logger, reduce_lr],\n\u001b[0;32m----> 2\u001b[0;31m                     validation_data=val_batch, validation_steps=val_steps, initial_epoch=20)\n\u001b[0m",
      "\u001b[0;32m/home/im9uri/.local/lib/python2.7/site-packages/keras/legacy/interfaces.pyc\u001b[0m in \u001b[0;36mwrapper\u001b[0;34m(*args, **kwargs)\u001b[0m\n\u001b[1;32m     86\u001b[0m                 warnings.warn('Update your `' + object_name +\n\u001b[1;32m     87\u001b[0m                               '` call to the Keras 2 API: ' + signature, stacklevel=2)\n\u001b[0;32m---> 88\u001b[0;31m             \u001b[0;32mreturn\u001b[0m \u001b[0mfunc\u001b[0m\u001b[0;34m(\u001b[0m\u001b[0;34m*\u001b[0m\u001b[0margs\u001b[0m\u001b[0;34m,\u001b[0m \u001b[0;34m**\u001b[0m\u001b[0mkwargs\u001b[0m\u001b[0;34m)\u001b[0m\u001b[0;34m\u001b[0m\u001b[0m\n\u001b[0m\u001b[1;32m     89\u001b[0m         \u001b[0mwrapper\u001b[0m\u001b[0;34m.\u001b[0m\u001b[0m_legacy_support_signature\u001b[0m \u001b[0;34m=\u001b[0m \u001b[0minspect\u001b[0m\u001b[0;34m.\u001b[0m\u001b[0mgetargspec\u001b[0m\u001b[0;34m(\u001b[0m\u001b[0mfunc\u001b[0m\u001b[0;34m)\u001b[0m\u001b[0;34m\u001b[0m\u001b[0m\n\u001b[1;32m     90\u001b[0m         \u001b[0;32mreturn\u001b[0m \u001b[0mwrapper\u001b[0m\u001b[0;34m\u001b[0m\u001b[0m\n",
      "\u001b[0;32m/home/im9uri/.local/lib/python2.7/site-packages/keras/models.pyc\u001b[0m in \u001b[0;36mfit_generator\u001b[0;34m(self, generator, steps_per_epoch, epochs, verbose, callbacks, validation_data, validation_steps, class_weight, max_q_size, workers, pickle_safe, initial_epoch)\u001b[0m\n\u001b[1;32m   1122\u001b[0m                                         \u001b[0mworkers\u001b[0m\u001b[0;34m=\u001b[0m\u001b[0mworkers\u001b[0m\u001b[0;34m,\u001b[0m\u001b[0;34m\u001b[0m\u001b[0m\n\u001b[1;32m   1123\u001b[0m                                         \u001b[0mpickle_safe\u001b[0m\u001b[0;34m=\u001b[0m\u001b[0mpickle_safe\u001b[0m\u001b[0;34m,\u001b[0m\u001b[0;34m\u001b[0m\u001b[0m\n\u001b[0;32m-> 1124\u001b[0;31m                                         initial_epoch=initial_epoch)\n\u001b[0m\u001b[1;32m   1125\u001b[0m \u001b[0;34m\u001b[0m\u001b[0m\n\u001b[1;32m   1126\u001b[0m     \u001b[0;34m@\u001b[0m\u001b[0minterfaces\u001b[0m\u001b[0;34m.\u001b[0m\u001b[0mlegacy_generator_methods_support\u001b[0m\u001b[0;34m\u001b[0m\u001b[0m\n",
      "\u001b[0;32m/home/im9uri/.local/lib/python2.7/site-packages/keras/legacy/interfaces.pyc\u001b[0m in \u001b[0;36mwrapper\u001b[0;34m(*args, **kwargs)\u001b[0m\n\u001b[1;32m     86\u001b[0m                 warnings.warn('Update your `' + object_name +\n\u001b[1;32m     87\u001b[0m                               '` call to the Keras 2 API: ' + signature, stacklevel=2)\n\u001b[0;32m---> 88\u001b[0;31m             \u001b[0;32mreturn\u001b[0m \u001b[0mfunc\u001b[0m\u001b[0;34m(\u001b[0m\u001b[0;34m*\u001b[0m\u001b[0margs\u001b[0m\u001b[0;34m,\u001b[0m \u001b[0;34m**\u001b[0m\u001b[0mkwargs\u001b[0m\u001b[0;34m)\u001b[0m\u001b[0;34m\u001b[0m\u001b[0m\n\u001b[0m\u001b[1;32m     89\u001b[0m         \u001b[0mwrapper\u001b[0m\u001b[0;34m.\u001b[0m\u001b[0m_legacy_support_signature\u001b[0m \u001b[0;34m=\u001b[0m \u001b[0minspect\u001b[0m\u001b[0;34m.\u001b[0m\u001b[0mgetargspec\u001b[0m\u001b[0;34m(\u001b[0m\u001b[0mfunc\u001b[0m\u001b[0;34m)\u001b[0m\u001b[0;34m\u001b[0m\u001b[0m\n\u001b[1;32m     90\u001b[0m         \u001b[0;32mreturn\u001b[0m \u001b[0mwrapper\u001b[0m\u001b[0;34m\u001b[0m\u001b[0m\n",
      "\u001b[0;32m/home/im9uri/.local/lib/python2.7/site-packages/keras/engine/training.pyc\u001b[0m in \u001b[0;36mfit_generator\u001b[0;34m(self, generator, steps_per_epoch, epochs, verbose, callbacks, validation_data, validation_steps, class_weight, max_q_size, workers, pickle_safe, initial_epoch)\u001b[0m\n\u001b[1;32m   1900\u001b[0m                     outs = self.train_on_batch(x, y,\n\u001b[1;32m   1901\u001b[0m                                                \u001b[0msample_weight\u001b[0m\u001b[0;34m=\u001b[0m\u001b[0msample_weight\u001b[0m\u001b[0;34m,\u001b[0m\u001b[0;34m\u001b[0m\u001b[0m\n\u001b[0;32m-> 1902\u001b[0;31m                                                class_weight=class_weight)\n\u001b[0m\u001b[1;32m   1903\u001b[0m \u001b[0;34m\u001b[0m\u001b[0m\n\u001b[1;32m   1904\u001b[0m                     \u001b[0;32mif\u001b[0m \u001b[0;32mnot\u001b[0m \u001b[0misinstance\u001b[0m\u001b[0;34m(\u001b[0m\u001b[0mouts\u001b[0m\u001b[0;34m,\u001b[0m \u001b[0mlist\u001b[0m\u001b[0;34m)\u001b[0m\u001b[0;34m:\u001b[0m\u001b[0;34m\u001b[0m\u001b[0m\n",
      "\u001b[0;32m/home/im9uri/.local/lib/python2.7/site-packages/keras/engine/training.pyc\u001b[0m in \u001b[0;36mtrain_on_batch\u001b[0;34m(self, x, y, sample_weight, class_weight)\u001b[0m\n\u001b[1;32m   1640\u001b[0m             \u001b[0mins\u001b[0m \u001b[0;34m=\u001b[0m \u001b[0mx\u001b[0m \u001b[0;34m+\u001b[0m \u001b[0my\u001b[0m \u001b[0;34m+\u001b[0m \u001b[0msample_weights\u001b[0m\u001b[0;34m\u001b[0m\u001b[0m\n\u001b[1;32m   1641\u001b[0m         \u001b[0mself\u001b[0m\u001b[0;34m.\u001b[0m\u001b[0m_make_train_function\u001b[0m\u001b[0;34m(\u001b[0m\u001b[0;34m)\u001b[0m\u001b[0;34m\u001b[0m\u001b[0m\n\u001b[0;32m-> 1642\u001b[0;31m         \u001b[0moutputs\u001b[0m \u001b[0;34m=\u001b[0m \u001b[0mself\u001b[0m\u001b[0;34m.\u001b[0m\u001b[0mtrain_function\u001b[0m\u001b[0;34m(\u001b[0m\u001b[0mins\u001b[0m\u001b[0;34m)\u001b[0m\u001b[0;34m\u001b[0m\u001b[0m\n\u001b[0m\u001b[1;32m   1643\u001b[0m         \u001b[0;32mif\u001b[0m \u001b[0mlen\u001b[0m\u001b[0;34m(\u001b[0m\u001b[0moutputs\u001b[0m\u001b[0;34m)\u001b[0m \u001b[0;34m==\u001b[0m \u001b[0;36m1\u001b[0m\u001b[0;34m:\u001b[0m\u001b[0;34m\u001b[0m\u001b[0m\n\u001b[1;32m   1644\u001b[0m             \u001b[0;32mreturn\u001b[0m \u001b[0moutputs\u001b[0m\u001b[0;34m[\u001b[0m\u001b[0;36m0\u001b[0m\u001b[0;34m]\u001b[0m\u001b[0;34m\u001b[0m\u001b[0m\n",
      "\u001b[0;32m/home/im9uri/.local/lib/python2.7/site-packages/keras/backend/theano_backend.pyc\u001b[0m in \u001b[0;36m__call__\u001b[0;34m(self, inputs)\u001b[0m\n\u001b[1;32m   1194\u001b[0m     \u001b[0;32mdef\u001b[0m \u001b[0m__call__\u001b[0m\u001b[0;34m(\u001b[0m\u001b[0mself\u001b[0m\u001b[0;34m,\u001b[0m \u001b[0minputs\u001b[0m\u001b[0;34m)\u001b[0m\u001b[0;34m:\u001b[0m\u001b[0;34m\u001b[0m\u001b[0m\n\u001b[1;32m   1195\u001b[0m         \u001b[0;32massert\u001b[0m \u001b[0misinstance\u001b[0m\u001b[0;34m(\u001b[0m\u001b[0minputs\u001b[0m\u001b[0;34m,\u001b[0m \u001b[0;34m(\u001b[0m\u001b[0mlist\u001b[0m\u001b[0;34m,\u001b[0m \u001b[0mtuple\u001b[0m\u001b[0;34m)\u001b[0m\u001b[0;34m)\u001b[0m\u001b[0;34m\u001b[0m\u001b[0m\n\u001b[0;32m-> 1196\u001b[0;31m         \u001b[0;32mreturn\u001b[0m \u001b[0mself\u001b[0m\u001b[0;34m.\u001b[0m\u001b[0mfunction\u001b[0m\u001b[0;34m(\u001b[0m\u001b[0;34m*\u001b[0m\u001b[0minputs\u001b[0m\u001b[0;34m)\u001b[0m\u001b[0;34m\u001b[0m\u001b[0m\n\u001b[0m\u001b[1;32m   1197\u001b[0m \u001b[0;34m\u001b[0m\u001b[0m\n\u001b[1;32m   1198\u001b[0m \u001b[0;34m\u001b[0m\u001b[0m\n",
      "\u001b[0;32m/home/im9uri/anaconda2/lib/python2.7/site-packages/theano/compile/function_module.pyc\u001b[0m in \u001b[0;36m__call__\u001b[0;34m(self, *args, **kwargs)\u001b[0m\n\u001b[1;32m    882\u001b[0m         \u001b[0;32mtry\u001b[0m\u001b[0;34m:\u001b[0m\u001b[0;34m\u001b[0m\u001b[0m\n\u001b[1;32m    883\u001b[0m             \u001b[0moutputs\u001b[0m \u001b[0;34m=\u001b[0m\u001b[0;31m\\\u001b[0m\u001b[0;34m\u001b[0m\u001b[0m\n\u001b[0;32m--> 884\u001b[0;31m                 \u001b[0mself\u001b[0m\u001b[0;34m.\u001b[0m\u001b[0mfn\u001b[0m\u001b[0;34m(\u001b[0m\u001b[0;34m)\u001b[0m \u001b[0;32mif\u001b[0m \u001b[0moutput_subset\u001b[0m \u001b[0;32mis\u001b[0m \u001b[0mNone\u001b[0m \u001b[0;32melse\u001b[0m\u001b[0;31m\\\u001b[0m\u001b[0;34m\u001b[0m\u001b[0m\n\u001b[0m\u001b[1;32m    885\u001b[0m                 \u001b[0mself\u001b[0m\u001b[0;34m.\u001b[0m\u001b[0mfn\u001b[0m\u001b[0;34m(\u001b[0m\u001b[0moutput_subset\u001b[0m\u001b[0;34m=\u001b[0m\u001b[0moutput_subset\u001b[0m\u001b[0;34m)\u001b[0m\u001b[0;34m\u001b[0m\u001b[0m\n\u001b[1;32m    886\u001b[0m         \u001b[0;32mexcept\u001b[0m \u001b[0mException\u001b[0m\u001b[0;34m:\u001b[0m\u001b[0;34m\u001b[0m\u001b[0m\n",
      "\u001b[0;32m/home/im9uri/anaconda2/lib/python2.7/site-packages/theano/ifelse.pyc\u001b[0m in \u001b[0;36mthunk\u001b[0;34m()\u001b[0m\n\u001b[1;32m    244\u001b[0m         \u001b[0moutputs\u001b[0m \u001b[0;34m=\u001b[0m \u001b[0mnode\u001b[0m\u001b[0;34m.\u001b[0m\u001b[0moutputs\u001b[0m\u001b[0;34m\u001b[0m\u001b[0m\n\u001b[1;32m    245\u001b[0m \u001b[0;34m\u001b[0m\u001b[0m\n\u001b[0;32m--> 246\u001b[0;31m         \u001b[0;32mdef\u001b[0m \u001b[0mthunk\u001b[0m\u001b[0;34m(\u001b[0m\u001b[0;34m)\u001b[0m\u001b[0;34m:\u001b[0m\u001b[0;34m\u001b[0m\u001b[0m\n\u001b[0m\u001b[1;32m    247\u001b[0m             \u001b[0;32mif\u001b[0m \u001b[0;32mnot\u001b[0m \u001b[0mcompute_map\u001b[0m\u001b[0;34m[\u001b[0m\u001b[0mcond\u001b[0m\u001b[0;34m]\u001b[0m\u001b[0;34m[\u001b[0m\u001b[0;36m0\u001b[0m\u001b[0;34m]\u001b[0m\u001b[0;34m:\u001b[0m\u001b[0;34m\u001b[0m\u001b[0m\n\u001b[1;32m    248\u001b[0m                 \u001b[0;32mreturn\u001b[0m \u001b[0;34m[\u001b[0m\u001b[0;36m0\u001b[0m\u001b[0;34m]\u001b[0m\u001b[0;34m\u001b[0m\u001b[0m\n",
      "\u001b[0;31mKeyboardInterrupt\u001b[0m: "
     ]
    }
   ],
   "source": [
    "model.fit_generator(train_batch, train_steps, epochs=25, verbose=1, callbacks=[csv_logger, reduce_lr],\n",
    "                    validation_data=val_batch, validation_steps=val_steps, initial_epoch=20)"
   ]
  },
  {
   "cell_type": "code",
   "execution_count": null,
   "metadata": {
    "collapsed": true
   },
   "outputs": [],
   "source": []
  },
  {
   "cell_type": "code",
   "execution_count": null,
   "metadata": {
    "collapsed": true
   },
   "outputs": [],
   "source": []
  },
  {
   "cell_type": "code",
   "execution_count": null,
   "metadata": {
    "collapsed": true
   },
   "outputs": [],
   "source": []
  },
  {
   "cell_type": "code",
   "execution_count": null,
   "metadata": {
    "collapsed": true
   },
   "outputs": [],
   "source": []
  },
  {
   "cell_type": "code",
   "execution_count": null,
   "metadata": {
    "collapsed": true
   },
   "outputs": [],
   "source": []
  },
  {
   "cell_type": "markdown",
   "metadata": {},
   "source": [
    "Save the keras model"
   ]
  },
  {
   "cell_type": "code",
   "execution_count": 30,
   "metadata": {
    "collapsed": true
   },
   "outputs": [],
   "source": [
    "model_file_name = cur_file + '_005' + '.h5'\n",
    "model.save(os.path.join(model_path, model_file_name))"
   ]
  },
  {
   "cell_type": "code",
   "execution_count": null,
   "metadata": {
    "collapsed": true
   },
   "outputs": [],
   "source": []
  },
  {
   "cell_type": "code",
   "execution_count": null,
   "metadata": {
    "collapsed": true
   },
   "outputs": [],
   "source": []
  },
  {
   "cell_type": "code",
   "execution_count": null,
   "metadata": {
    "collapsed": true
   },
   "outputs": [],
   "source": []
  },
  {
   "cell_type": "code",
   "execution_count": 14,
   "metadata": {
    "scrolled": true
   },
   "outputs": [
    {
     "name": "stdout",
     "output_type": "stream",
     "text": [
      "Epoch 1/20\n",
      "740/740 [==============================] - 560s - loss: 360029.8089 - val_loss: 349874.1435\n",
      "Epoch 2/20\n",
      "740/740 [==============================] - 502s - loss: 218050.1641 - val_loss: 316249.5797\n",
      "Epoch 3/20\n",
      "740/740 [==============================] - 403s - loss: 184327.1608 - val_loss: 295999.1776\n",
      "Epoch 4/20\n",
      "740/740 [==============================] - 441s - loss: 179153.1940 - val_loss: 296833.6694\n",
      "Epoch 5/20\n",
      "740/740 [==============================] - 404s - loss: 147609.8334 - val_loss: 276048.3012\n",
      "Epoch 6/20\n",
      "740/740 [==============================] - 411s - loss: 144071.2798 - val_loss: 275369.3003\n",
      "Epoch 7/20\n",
      "345/740 [============>.................] - ETA: 259s - loss: 189607.1854"
     ]
    },
    {
     "ename": "KeyboardInterrupt",
     "evalue": "",
     "output_type": "error",
     "traceback": [
      "\u001b[0;31m---------------------------------------------------------------------------\u001b[0m",
      "\u001b[0;31mKeyboardInterrupt\u001b[0m                         Traceback (most recent call last)",
      "\u001b[0;32m<ipython-input-14-4eef48ce3741>\u001b[0m in \u001b[0;36m<module>\u001b[0;34m()\u001b[0m\n\u001b[1;32m      1\u001b[0m model_original.fit_generator(train_batch, train_steps, epochs=20, verbose=1, callbacks=[reduce_lr],\n\u001b[0;32m----> 2\u001b[0;31m                              validation_data=val_batch, validation_steps=val_steps)\n\u001b[0m",
      "\u001b[0;32m/home/im9uri/.local/lib/python2.7/site-packages/keras/legacy/interfaces.pyc\u001b[0m in \u001b[0;36mwrapper\u001b[0;34m(*args, **kwargs)\u001b[0m\n\u001b[1;32m     86\u001b[0m                 warnings.warn('Update your `' + object_name +\n\u001b[1;32m     87\u001b[0m                               '` call to the Keras 2 API: ' + signature, stacklevel=2)\n\u001b[0;32m---> 88\u001b[0;31m             \u001b[0;32mreturn\u001b[0m \u001b[0mfunc\u001b[0m\u001b[0;34m(\u001b[0m\u001b[0;34m*\u001b[0m\u001b[0margs\u001b[0m\u001b[0;34m,\u001b[0m \u001b[0;34m**\u001b[0m\u001b[0mkwargs\u001b[0m\u001b[0;34m)\u001b[0m\u001b[0;34m\u001b[0m\u001b[0m\n\u001b[0m\u001b[1;32m     89\u001b[0m         \u001b[0mwrapper\u001b[0m\u001b[0;34m.\u001b[0m\u001b[0m_legacy_support_signature\u001b[0m \u001b[0;34m=\u001b[0m \u001b[0minspect\u001b[0m\u001b[0;34m.\u001b[0m\u001b[0mgetargspec\u001b[0m\u001b[0;34m(\u001b[0m\u001b[0mfunc\u001b[0m\u001b[0;34m)\u001b[0m\u001b[0;34m\u001b[0m\u001b[0m\n\u001b[1;32m     90\u001b[0m         \u001b[0;32mreturn\u001b[0m \u001b[0mwrapper\u001b[0m\u001b[0;34m\u001b[0m\u001b[0m\n",
      "\u001b[0;32m/home/im9uri/.local/lib/python2.7/site-packages/keras/models.pyc\u001b[0m in \u001b[0;36mfit_generator\u001b[0;34m(self, generator, steps_per_epoch, epochs, verbose, callbacks, validation_data, validation_steps, class_weight, max_q_size, workers, pickle_safe, initial_epoch)\u001b[0m\n\u001b[1;32m   1122\u001b[0m                                         \u001b[0mworkers\u001b[0m\u001b[0;34m=\u001b[0m\u001b[0mworkers\u001b[0m\u001b[0;34m,\u001b[0m\u001b[0;34m\u001b[0m\u001b[0m\n\u001b[1;32m   1123\u001b[0m                                         \u001b[0mpickle_safe\u001b[0m\u001b[0;34m=\u001b[0m\u001b[0mpickle_safe\u001b[0m\u001b[0;34m,\u001b[0m\u001b[0;34m\u001b[0m\u001b[0m\n\u001b[0;32m-> 1124\u001b[0;31m                                         initial_epoch=initial_epoch)\n\u001b[0m\u001b[1;32m   1125\u001b[0m \u001b[0;34m\u001b[0m\u001b[0m\n\u001b[1;32m   1126\u001b[0m     \u001b[0;34m@\u001b[0m\u001b[0minterfaces\u001b[0m\u001b[0;34m.\u001b[0m\u001b[0mlegacy_generator_methods_support\u001b[0m\u001b[0;34m\u001b[0m\u001b[0m\n",
      "\u001b[0;32m/home/im9uri/.local/lib/python2.7/site-packages/keras/legacy/interfaces.pyc\u001b[0m in \u001b[0;36mwrapper\u001b[0;34m(*args, **kwargs)\u001b[0m\n\u001b[1;32m     86\u001b[0m                 warnings.warn('Update your `' + object_name +\n\u001b[1;32m     87\u001b[0m                               '` call to the Keras 2 API: ' + signature, stacklevel=2)\n\u001b[0;32m---> 88\u001b[0;31m             \u001b[0;32mreturn\u001b[0m \u001b[0mfunc\u001b[0m\u001b[0;34m(\u001b[0m\u001b[0;34m*\u001b[0m\u001b[0margs\u001b[0m\u001b[0;34m,\u001b[0m \u001b[0;34m**\u001b[0m\u001b[0mkwargs\u001b[0m\u001b[0;34m)\u001b[0m\u001b[0;34m\u001b[0m\u001b[0m\n\u001b[0m\u001b[1;32m     89\u001b[0m         \u001b[0mwrapper\u001b[0m\u001b[0;34m.\u001b[0m\u001b[0m_legacy_support_signature\u001b[0m \u001b[0;34m=\u001b[0m \u001b[0minspect\u001b[0m\u001b[0;34m.\u001b[0m\u001b[0mgetargspec\u001b[0m\u001b[0;34m(\u001b[0m\u001b[0mfunc\u001b[0m\u001b[0;34m)\u001b[0m\u001b[0;34m\u001b[0m\u001b[0m\n\u001b[1;32m     90\u001b[0m         \u001b[0;32mreturn\u001b[0m \u001b[0mwrapper\u001b[0m\u001b[0;34m\u001b[0m\u001b[0m\n",
      "\u001b[0;32m/home/im9uri/.local/lib/python2.7/site-packages/keras/engine/training.pyc\u001b[0m in \u001b[0;36mfit_generator\u001b[0;34m(self, generator, steps_per_epoch, epochs, verbose, callbacks, validation_data, validation_steps, class_weight, max_q_size, workers, pickle_safe, initial_epoch)\u001b[0m\n\u001b[1;32m   1900\u001b[0m                     outs = self.train_on_batch(x, y,\n\u001b[1;32m   1901\u001b[0m                                                \u001b[0msample_weight\u001b[0m\u001b[0;34m=\u001b[0m\u001b[0msample_weight\u001b[0m\u001b[0;34m,\u001b[0m\u001b[0;34m\u001b[0m\u001b[0m\n\u001b[0;32m-> 1902\u001b[0;31m                                                class_weight=class_weight)\n\u001b[0m\u001b[1;32m   1903\u001b[0m \u001b[0;34m\u001b[0m\u001b[0m\n\u001b[1;32m   1904\u001b[0m                     \u001b[0;32mif\u001b[0m \u001b[0;32mnot\u001b[0m \u001b[0misinstance\u001b[0m\u001b[0;34m(\u001b[0m\u001b[0mouts\u001b[0m\u001b[0;34m,\u001b[0m \u001b[0mlist\u001b[0m\u001b[0;34m)\u001b[0m\u001b[0;34m:\u001b[0m\u001b[0;34m\u001b[0m\u001b[0m\n",
      "\u001b[0;32m/home/im9uri/.local/lib/python2.7/site-packages/keras/engine/training.pyc\u001b[0m in \u001b[0;36mtrain_on_batch\u001b[0;34m(self, x, y, sample_weight, class_weight)\u001b[0m\n\u001b[1;32m   1640\u001b[0m             \u001b[0mins\u001b[0m \u001b[0;34m=\u001b[0m \u001b[0mx\u001b[0m \u001b[0;34m+\u001b[0m \u001b[0my\u001b[0m \u001b[0;34m+\u001b[0m \u001b[0msample_weights\u001b[0m\u001b[0;34m\u001b[0m\u001b[0m\n\u001b[1;32m   1641\u001b[0m         \u001b[0mself\u001b[0m\u001b[0;34m.\u001b[0m\u001b[0m_make_train_function\u001b[0m\u001b[0;34m(\u001b[0m\u001b[0;34m)\u001b[0m\u001b[0;34m\u001b[0m\u001b[0m\n\u001b[0;32m-> 1642\u001b[0;31m         \u001b[0moutputs\u001b[0m \u001b[0;34m=\u001b[0m \u001b[0mself\u001b[0m\u001b[0;34m.\u001b[0m\u001b[0mtrain_function\u001b[0m\u001b[0;34m(\u001b[0m\u001b[0mins\u001b[0m\u001b[0;34m)\u001b[0m\u001b[0;34m\u001b[0m\u001b[0m\n\u001b[0m\u001b[1;32m   1643\u001b[0m         \u001b[0;32mif\u001b[0m \u001b[0mlen\u001b[0m\u001b[0;34m(\u001b[0m\u001b[0moutputs\u001b[0m\u001b[0;34m)\u001b[0m \u001b[0;34m==\u001b[0m \u001b[0;36m1\u001b[0m\u001b[0;34m:\u001b[0m\u001b[0;34m\u001b[0m\u001b[0m\n\u001b[1;32m   1644\u001b[0m             \u001b[0;32mreturn\u001b[0m \u001b[0moutputs\u001b[0m\u001b[0;34m[\u001b[0m\u001b[0;36m0\u001b[0m\u001b[0;34m]\u001b[0m\u001b[0;34m\u001b[0m\u001b[0m\n",
      "\u001b[0;32m/home/im9uri/.local/lib/python2.7/site-packages/keras/backend/theano_backend.pyc\u001b[0m in \u001b[0;36m__call__\u001b[0;34m(self, inputs)\u001b[0m\n\u001b[1;32m   1194\u001b[0m     \u001b[0;32mdef\u001b[0m \u001b[0m__call__\u001b[0m\u001b[0;34m(\u001b[0m\u001b[0mself\u001b[0m\u001b[0;34m,\u001b[0m \u001b[0minputs\u001b[0m\u001b[0;34m)\u001b[0m\u001b[0;34m:\u001b[0m\u001b[0;34m\u001b[0m\u001b[0m\n\u001b[1;32m   1195\u001b[0m         \u001b[0;32massert\u001b[0m \u001b[0misinstance\u001b[0m\u001b[0;34m(\u001b[0m\u001b[0minputs\u001b[0m\u001b[0;34m,\u001b[0m \u001b[0;34m(\u001b[0m\u001b[0mlist\u001b[0m\u001b[0;34m,\u001b[0m \u001b[0mtuple\u001b[0m\u001b[0;34m)\u001b[0m\u001b[0;34m)\u001b[0m\u001b[0;34m\u001b[0m\u001b[0m\n\u001b[0;32m-> 1196\u001b[0;31m         \u001b[0;32mreturn\u001b[0m \u001b[0mself\u001b[0m\u001b[0;34m.\u001b[0m\u001b[0mfunction\u001b[0m\u001b[0;34m(\u001b[0m\u001b[0;34m*\u001b[0m\u001b[0minputs\u001b[0m\u001b[0;34m)\u001b[0m\u001b[0;34m\u001b[0m\u001b[0m\n\u001b[0m\u001b[1;32m   1197\u001b[0m \u001b[0;34m\u001b[0m\u001b[0m\n\u001b[1;32m   1198\u001b[0m \u001b[0;34m\u001b[0m\u001b[0m\n",
      "\u001b[0;32m/home/im9uri/anaconda2/lib/python2.7/site-packages/theano/compile/function_module.pyc\u001b[0m in \u001b[0;36m__call__\u001b[0;34m(self, *args, **kwargs)\u001b[0m\n\u001b[1;32m    882\u001b[0m         \u001b[0;32mtry\u001b[0m\u001b[0;34m:\u001b[0m\u001b[0;34m\u001b[0m\u001b[0m\n\u001b[1;32m    883\u001b[0m             \u001b[0moutputs\u001b[0m \u001b[0;34m=\u001b[0m\u001b[0;31m\\\u001b[0m\u001b[0;34m\u001b[0m\u001b[0m\n\u001b[0;32m--> 884\u001b[0;31m                 \u001b[0mself\u001b[0m\u001b[0;34m.\u001b[0m\u001b[0mfn\u001b[0m\u001b[0;34m(\u001b[0m\u001b[0;34m)\u001b[0m \u001b[0;32mif\u001b[0m \u001b[0moutput_subset\u001b[0m \u001b[0;32mis\u001b[0m \u001b[0mNone\u001b[0m \u001b[0;32melse\u001b[0m\u001b[0;31m\\\u001b[0m\u001b[0;34m\u001b[0m\u001b[0m\n\u001b[0m\u001b[1;32m    885\u001b[0m                 \u001b[0mself\u001b[0m\u001b[0;34m.\u001b[0m\u001b[0mfn\u001b[0m\u001b[0;34m(\u001b[0m\u001b[0moutput_subset\u001b[0m\u001b[0;34m=\u001b[0m\u001b[0moutput_subset\u001b[0m\u001b[0;34m)\u001b[0m\u001b[0;34m\u001b[0m\u001b[0m\n\u001b[1;32m    886\u001b[0m         \u001b[0;32mexcept\u001b[0m \u001b[0mException\u001b[0m\u001b[0;34m:\u001b[0m\u001b[0;34m\u001b[0m\u001b[0m\n",
      "\u001b[0;31mKeyboardInterrupt\u001b[0m: "
     ]
    }
   ],
   "source": [
    "model_original.fit_generator(train_batch, train_steps, epochs=20, verbose=1, callbacks=[reduce_lr],\n",
    "                             validation_data=val_batch, validation_steps=val_steps)"
   ]
  },
  {
   "cell_type": "code",
   "execution_count": 18,
   "metadata": {
    "collapsed": true
   },
   "outputs": [],
   "source": [
    "adam = Adam(lr = 1e-5)\n",
    "model_original.compile(optimizer=adam, loss=\"mse\") "
   ]
  },
  {
   "cell_type": "code",
   "execution_count": 19,
   "metadata": {
    "scrolled": true
   },
   "outputs": [
    {
     "name": "stdout",
     "output_type": "stream",
     "text": [
      "Epoch 1/1\n",
      " 55/740 [=>............................] - ETA: 319s - loss: 153433.9568"
     ]
    },
    {
     "ename": "KeyboardInterrupt",
     "evalue": "",
     "output_type": "error",
     "traceback": [
      "\u001b[0;31m---------------------------------------------------------------------------\u001b[0m",
      "\u001b[0;31mKeyboardInterrupt\u001b[0m                         Traceback (most recent call last)",
      "\u001b[0;32m<ipython-input-19-71bf62faed70>\u001b[0m in \u001b[0;36m<module>\u001b[0;34m()\u001b[0m\n\u001b[1;32m      1\u001b[0m model_original.fit_generator(train_batch, train_steps, epochs=1, verbose=1, callbacks=[reduce_lr],\n\u001b[0;32m----> 2\u001b[0;31m                              validation_data=val_batch, validation_steps=val_steps)\n\u001b[0m",
      "\u001b[0;32m/home/im9uri/.local/lib/python2.7/site-packages/keras/legacy/interfaces.pyc\u001b[0m in \u001b[0;36mwrapper\u001b[0;34m(*args, **kwargs)\u001b[0m\n\u001b[1;32m     86\u001b[0m                 warnings.warn('Update your `' + object_name +\n\u001b[1;32m     87\u001b[0m                               '` call to the Keras 2 API: ' + signature, stacklevel=2)\n\u001b[0;32m---> 88\u001b[0;31m             \u001b[0;32mreturn\u001b[0m \u001b[0mfunc\u001b[0m\u001b[0;34m(\u001b[0m\u001b[0;34m*\u001b[0m\u001b[0margs\u001b[0m\u001b[0;34m,\u001b[0m \u001b[0;34m**\u001b[0m\u001b[0mkwargs\u001b[0m\u001b[0;34m)\u001b[0m\u001b[0;34m\u001b[0m\u001b[0m\n\u001b[0m\u001b[1;32m     89\u001b[0m         \u001b[0mwrapper\u001b[0m\u001b[0;34m.\u001b[0m\u001b[0m_legacy_support_signature\u001b[0m \u001b[0;34m=\u001b[0m \u001b[0minspect\u001b[0m\u001b[0;34m.\u001b[0m\u001b[0mgetargspec\u001b[0m\u001b[0;34m(\u001b[0m\u001b[0mfunc\u001b[0m\u001b[0;34m)\u001b[0m\u001b[0;34m\u001b[0m\u001b[0m\n\u001b[1;32m     90\u001b[0m         \u001b[0;32mreturn\u001b[0m \u001b[0mwrapper\u001b[0m\u001b[0;34m\u001b[0m\u001b[0m\n",
      "\u001b[0;32m/home/im9uri/.local/lib/python2.7/site-packages/keras/models.pyc\u001b[0m in \u001b[0;36mfit_generator\u001b[0;34m(self, generator, steps_per_epoch, epochs, verbose, callbacks, validation_data, validation_steps, class_weight, max_q_size, workers, pickle_safe, initial_epoch)\u001b[0m\n\u001b[1;32m   1122\u001b[0m                                         \u001b[0mworkers\u001b[0m\u001b[0;34m=\u001b[0m\u001b[0mworkers\u001b[0m\u001b[0;34m,\u001b[0m\u001b[0;34m\u001b[0m\u001b[0m\n\u001b[1;32m   1123\u001b[0m                                         \u001b[0mpickle_safe\u001b[0m\u001b[0;34m=\u001b[0m\u001b[0mpickle_safe\u001b[0m\u001b[0;34m,\u001b[0m\u001b[0;34m\u001b[0m\u001b[0m\n\u001b[0;32m-> 1124\u001b[0;31m                                         initial_epoch=initial_epoch)\n\u001b[0m\u001b[1;32m   1125\u001b[0m \u001b[0;34m\u001b[0m\u001b[0m\n\u001b[1;32m   1126\u001b[0m     \u001b[0;34m@\u001b[0m\u001b[0minterfaces\u001b[0m\u001b[0;34m.\u001b[0m\u001b[0mlegacy_generator_methods_support\u001b[0m\u001b[0;34m\u001b[0m\u001b[0m\n",
      "\u001b[0;32m/home/im9uri/.local/lib/python2.7/site-packages/keras/legacy/interfaces.pyc\u001b[0m in \u001b[0;36mwrapper\u001b[0;34m(*args, **kwargs)\u001b[0m\n\u001b[1;32m     86\u001b[0m                 warnings.warn('Update your `' + object_name +\n\u001b[1;32m     87\u001b[0m                               '` call to the Keras 2 API: ' + signature, stacklevel=2)\n\u001b[0;32m---> 88\u001b[0;31m             \u001b[0;32mreturn\u001b[0m \u001b[0mfunc\u001b[0m\u001b[0;34m(\u001b[0m\u001b[0;34m*\u001b[0m\u001b[0margs\u001b[0m\u001b[0;34m,\u001b[0m \u001b[0;34m**\u001b[0m\u001b[0mkwargs\u001b[0m\u001b[0;34m)\u001b[0m\u001b[0;34m\u001b[0m\u001b[0m\n\u001b[0m\u001b[1;32m     89\u001b[0m         \u001b[0mwrapper\u001b[0m\u001b[0;34m.\u001b[0m\u001b[0m_legacy_support_signature\u001b[0m \u001b[0;34m=\u001b[0m \u001b[0minspect\u001b[0m\u001b[0;34m.\u001b[0m\u001b[0mgetargspec\u001b[0m\u001b[0;34m(\u001b[0m\u001b[0mfunc\u001b[0m\u001b[0;34m)\u001b[0m\u001b[0;34m\u001b[0m\u001b[0m\n\u001b[1;32m     90\u001b[0m         \u001b[0;32mreturn\u001b[0m \u001b[0mwrapper\u001b[0m\u001b[0;34m\u001b[0m\u001b[0m\n",
      "\u001b[0;32m/home/im9uri/.local/lib/python2.7/site-packages/keras/engine/training.pyc\u001b[0m in \u001b[0;36mfit_generator\u001b[0;34m(self, generator, steps_per_epoch, epochs, verbose, callbacks, validation_data, validation_steps, class_weight, max_q_size, workers, pickle_safe, initial_epoch)\u001b[0m\n\u001b[1;32m   1900\u001b[0m                     outs = self.train_on_batch(x, y,\n\u001b[1;32m   1901\u001b[0m                                                \u001b[0msample_weight\u001b[0m\u001b[0;34m=\u001b[0m\u001b[0msample_weight\u001b[0m\u001b[0;34m,\u001b[0m\u001b[0;34m\u001b[0m\u001b[0m\n\u001b[0;32m-> 1902\u001b[0;31m                                                class_weight=class_weight)\n\u001b[0m\u001b[1;32m   1903\u001b[0m \u001b[0;34m\u001b[0m\u001b[0m\n\u001b[1;32m   1904\u001b[0m                     \u001b[0;32mif\u001b[0m \u001b[0;32mnot\u001b[0m \u001b[0misinstance\u001b[0m\u001b[0;34m(\u001b[0m\u001b[0mouts\u001b[0m\u001b[0;34m,\u001b[0m \u001b[0mlist\u001b[0m\u001b[0;34m)\u001b[0m\u001b[0;34m:\u001b[0m\u001b[0;34m\u001b[0m\u001b[0m\n",
      "\u001b[0;32m/home/im9uri/.local/lib/python2.7/site-packages/keras/engine/training.pyc\u001b[0m in \u001b[0;36mtrain_on_batch\u001b[0;34m(self, x, y, sample_weight, class_weight)\u001b[0m\n\u001b[1;32m   1640\u001b[0m             \u001b[0mins\u001b[0m \u001b[0;34m=\u001b[0m \u001b[0mx\u001b[0m \u001b[0;34m+\u001b[0m \u001b[0my\u001b[0m \u001b[0;34m+\u001b[0m \u001b[0msample_weights\u001b[0m\u001b[0;34m\u001b[0m\u001b[0m\n\u001b[1;32m   1641\u001b[0m         \u001b[0mself\u001b[0m\u001b[0;34m.\u001b[0m\u001b[0m_make_train_function\u001b[0m\u001b[0;34m(\u001b[0m\u001b[0;34m)\u001b[0m\u001b[0;34m\u001b[0m\u001b[0m\n\u001b[0;32m-> 1642\u001b[0;31m         \u001b[0moutputs\u001b[0m \u001b[0;34m=\u001b[0m \u001b[0mself\u001b[0m\u001b[0;34m.\u001b[0m\u001b[0mtrain_function\u001b[0m\u001b[0;34m(\u001b[0m\u001b[0mins\u001b[0m\u001b[0;34m)\u001b[0m\u001b[0;34m\u001b[0m\u001b[0m\n\u001b[0m\u001b[1;32m   1643\u001b[0m         \u001b[0;32mif\u001b[0m \u001b[0mlen\u001b[0m\u001b[0;34m(\u001b[0m\u001b[0moutputs\u001b[0m\u001b[0;34m)\u001b[0m \u001b[0;34m==\u001b[0m \u001b[0;36m1\u001b[0m\u001b[0;34m:\u001b[0m\u001b[0;34m\u001b[0m\u001b[0m\n\u001b[1;32m   1644\u001b[0m             \u001b[0;32mreturn\u001b[0m \u001b[0moutputs\u001b[0m\u001b[0;34m[\u001b[0m\u001b[0;36m0\u001b[0m\u001b[0;34m]\u001b[0m\u001b[0;34m\u001b[0m\u001b[0m\n",
      "\u001b[0;32m/home/im9uri/.local/lib/python2.7/site-packages/keras/backend/theano_backend.pyc\u001b[0m in \u001b[0;36m__call__\u001b[0;34m(self, inputs)\u001b[0m\n\u001b[1;32m   1194\u001b[0m     \u001b[0;32mdef\u001b[0m \u001b[0m__call__\u001b[0m\u001b[0;34m(\u001b[0m\u001b[0mself\u001b[0m\u001b[0;34m,\u001b[0m \u001b[0minputs\u001b[0m\u001b[0;34m)\u001b[0m\u001b[0;34m:\u001b[0m\u001b[0;34m\u001b[0m\u001b[0m\n\u001b[1;32m   1195\u001b[0m         \u001b[0;32massert\u001b[0m \u001b[0misinstance\u001b[0m\u001b[0;34m(\u001b[0m\u001b[0minputs\u001b[0m\u001b[0;34m,\u001b[0m \u001b[0;34m(\u001b[0m\u001b[0mlist\u001b[0m\u001b[0;34m,\u001b[0m \u001b[0mtuple\u001b[0m\u001b[0;34m)\u001b[0m\u001b[0;34m)\u001b[0m\u001b[0;34m\u001b[0m\u001b[0m\n\u001b[0;32m-> 1196\u001b[0;31m         \u001b[0;32mreturn\u001b[0m \u001b[0mself\u001b[0m\u001b[0;34m.\u001b[0m\u001b[0mfunction\u001b[0m\u001b[0;34m(\u001b[0m\u001b[0;34m*\u001b[0m\u001b[0minputs\u001b[0m\u001b[0;34m)\u001b[0m\u001b[0;34m\u001b[0m\u001b[0m\n\u001b[0m\u001b[1;32m   1197\u001b[0m \u001b[0;34m\u001b[0m\u001b[0m\n\u001b[1;32m   1198\u001b[0m \u001b[0;34m\u001b[0m\u001b[0m\n",
      "\u001b[0;32m/home/im9uri/anaconda2/lib/python2.7/site-packages/theano/compile/function_module.pyc\u001b[0m in \u001b[0;36m__call__\u001b[0;34m(self, *args, **kwargs)\u001b[0m\n\u001b[1;32m    882\u001b[0m         \u001b[0;32mtry\u001b[0m\u001b[0;34m:\u001b[0m\u001b[0;34m\u001b[0m\u001b[0m\n\u001b[1;32m    883\u001b[0m             \u001b[0moutputs\u001b[0m \u001b[0;34m=\u001b[0m\u001b[0;31m\\\u001b[0m\u001b[0;34m\u001b[0m\u001b[0m\n\u001b[0;32m--> 884\u001b[0;31m                 \u001b[0mself\u001b[0m\u001b[0;34m.\u001b[0m\u001b[0mfn\u001b[0m\u001b[0;34m(\u001b[0m\u001b[0;34m)\u001b[0m \u001b[0;32mif\u001b[0m \u001b[0moutput_subset\u001b[0m \u001b[0;32mis\u001b[0m \u001b[0mNone\u001b[0m \u001b[0;32melse\u001b[0m\u001b[0;31m\\\u001b[0m\u001b[0;34m\u001b[0m\u001b[0m\n\u001b[0m\u001b[1;32m    885\u001b[0m                 \u001b[0mself\u001b[0m\u001b[0;34m.\u001b[0m\u001b[0mfn\u001b[0m\u001b[0;34m(\u001b[0m\u001b[0moutput_subset\u001b[0m\u001b[0;34m=\u001b[0m\u001b[0moutput_subset\u001b[0m\u001b[0;34m)\u001b[0m\u001b[0;34m\u001b[0m\u001b[0m\n\u001b[1;32m    886\u001b[0m         \u001b[0;32mexcept\u001b[0m \u001b[0mException\u001b[0m\u001b[0;34m:\u001b[0m\u001b[0;34m\u001b[0m\u001b[0m\n",
      "\u001b[0;31mKeyboardInterrupt\u001b[0m: "
     ]
    }
   ],
   "source": [
    "model_original.fit_generator(train_batch, train_steps, epochs=1, verbose=1, callbacks=[reduce_lr],\n",
    "                             validation_data=val_batch, validation_steps=val_steps)"
   ]
  },
  {
   "cell_type": "code",
   "execution_count": null,
   "metadata": {
    "collapsed": true
   },
   "outputs": [],
   "source": []
  },
  {
   "cell_type": "code",
   "execution_count": null,
   "metadata": {
    "collapsed": true
   },
   "outputs": [],
   "source": []
  },
  {
   "cell_type": "code",
   "execution_count": null,
   "metadata": {
    "collapsed": true
   },
   "outputs": [],
   "source": []
  },
  {
   "cell_type": "code",
   "execution_count": null,
   "metadata": {
    "collapsed": true
   },
   "outputs": [],
   "source": []
  },
  {
   "cell_type": "code",
   "execution_count": null,
   "metadata": {
    "collapsed": true
   },
   "outputs": [],
   "source": []
  },
  {
   "cell_type": "code",
   "execution_count": 16,
   "metadata": {
    "collapsed": true
   },
   "outputs": [],
   "source": [
    "X_train = np.array([img_to_arr(os.path.join(img_front_dir_path, p)) for p in df_train['front'][:2000]])\n",
    "y_train = df_train['wheel-axis'][:2000].values"
   ]
  },
  {
   "cell_type": "code",
   "execution_count": null,
   "metadata": {
    "scrolled": true
   },
   "outputs": [
    {
     "name": "stdout",
     "output_type": "stream",
     "text": [
      "Train on 1600 samples, validate on 400 samples\n",
      "Epoch 1/20\n",
      "1600/1600 [==============================] - 6s - loss: 1467813.0381 - val_loss: 1148158.8000\n",
      "Epoch 2/20\n",
      "1600/1600 [==============================] - 6s - loss: 872211.1012 - val_loss: 976343.5500\n",
      "Epoch 3/20\n",
      "1600/1600 [==============================] - 6s - loss: 577758.3800 - val_loss: 574352.2562\n",
      "Epoch 4/20\n",
      "1600/1600 [==============================] - 6s - loss: 446692.7306 - val_loss: 415777.2825\n",
      "Epoch 5/20\n",
      "1600/1600 [==============================] - 6s - loss: 306212.0061 - val_loss: 425636.7406\n",
      "Epoch 6/20\n",
      " 192/1600 [==>...........................] - ETA: 5s - loss: 426554.9948"
     ]
    }
   ],
   "source": [
    "model_original.fit(X_train, y_train, validation_split = 0.2, shuffle = True, epochs = 20, callbacks = [reduce_lr])"
   ]
  },
  {
   "cell_type": "code",
   "execution_count": null,
   "metadata": {
    "collapsed": true
   },
   "outputs": [],
   "source": []
  },
  {
   "cell_type": "code",
   "execution_count": null,
   "metadata": {
    "collapsed": true
   },
   "outputs": [],
   "source": []
  },
  {
   "cell_type": "code",
   "execution_count": null,
   "metadata": {
    "collapsed": true
   },
   "outputs": [],
   "source": []
  },
  {
   "cell_type": "markdown",
   "metadata": {},
   "source": [
    "### Use batch normalization\n",
    "\n",
    "Instead of normalizing the input ourselves, let's add a batch normalization layer as the first layer.\n",
    "\n",
    "While we're at it, let's add bactch norm after each layer."
   ]
  },
  {
   "cell_type": "code",
   "execution_count": 34,
   "metadata": {
    "collapsed": true
   },
   "outputs": [],
   "source": [
    "def get_model_batch_norm(input_shape):\n",
    "    model = Sequential([\n",
    "        BatchNormalization(axis=1, input_shape=input_shape),\n",
    "        Conv2D(24, kernel_size=(5,5), strides=(2,2), activation='relu'),\n",
    "        BatchNormalization(axis=1),\n",
    "        Conv2D(36, kernel_size=(5,5), strides=(2,2), activation='relu'),\n",
    "        BatchNormalization(axis=1),\n",
    "        Conv2D(48, kernel_size=(5,5), strides=(2,2), activation='relu'),\n",
    "        BatchNormalization(axis=1),\n",
    "        Conv2D(64, kernel_size=(3,3), strides=(1,1), activation='relu'),\n",
    "        BatchNormalization(axis=1),\n",
    "        Conv2D(64, kernel_size=(3,3), strides=(1,1), activation='relu'),\n",
    "        BatchNormalization(axis=1),\n",
    "        Flatten(),\n",
    "        Dense(100, activation='relu'),\n",
    "        BatchNormalization(),\n",
    "        Dense(50, activation='relu'),\n",
    "        BatchNormalization(),\n",
    "        Dense(10, activation='relu'),\n",
    "        BatchNormalization(),\n",
    "        Dense(1)\n",
    "    ])\n",
    "    \n",
    "    adam = Adam(lr = 5e-4)\n",
    "    model.compile(optimizer=adam, loss=\"mse\") \n",
    "    model.summary()\n",
    "    return model"
   ]
  },
  {
   "cell_type": "code",
   "execution_count": 35,
   "metadata": {
    "scrolled": true
   },
   "outputs": [
    {
     "name": "stdout",
     "output_type": "stream",
     "text": [
      "_________________________________________________________________\n",
      "Layer (type)                 Output Shape              Param #   \n",
      "=================================================================\n",
      "batch_normalization_1 (Batch (None, 3, 341, 562)       12        \n",
      "_________________________________________________________________\n",
      "conv2d_6 (Conv2D)            (None, 24, 169, 279)      1824      \n",
      "_________________________________________________________________\n",
      "batch_normalization_2 (Batch (None, 24, 169, 279)      96        \n",
      "_________________________________________________________________\n",
      "conv2d_7 (Conv2D)            (None, 36, 83, 138)       21636     \n",
      "_________________________________________________________________\n",
      "batch_normalization_3 (Batch (None, 36, 83, 138)       144       \n",
      "_________________________________________________________________\n",
      "conv2d_8 (Conv2D)            (None, 48, 40, 67)        43248     \n",
      "_________________________________________________________________\n",
      "batch_normalization_4 (Batch (None, 48, 40, 67)        192       \n",
      "_________________________________________________________________\n",
      "conv2d_9 (Conv2D)            (None, 64, 38, 65)        27712     \n",
      "_________________________________________________________________\n",
      "batch_normalization_5 (Batch (None, 64, 38, 65)        256       \n",
      "_________________________________________________________________\n",
      "conv2d_10 (Conv2D)           (None, 64, 36, 63)        36928     \n",
      "_________________________________________________________________\n",
      "batch_normalization_6 (Batch (None, 64, 36, 63)        256       \n",
      "_________________________________________________________________\n",
      "flatten_2 (Flatten)          (None, 145152)            0         \n",
      "_________________________________________________________________\n",
      "dense_5 (Dense)              (None, 100)               14515300  \n",
      "_________________________________________________________________\n",
      "batch_normalization_7 (Batch (None, 100)               400       \n",
      "_________________________________________________________________\n",
      "dense_6 (Dense)              (None, 50)                5050      \n",
      "_________________________________________________________________\n",
      "batch_normalization_8 (Batch (None, 50)                200       \n",
      "_________________________________________________________________\n",
      "dense_7 (Dense)              (None, 10)                510       \n",
      "_________________________________________________________________\n",
      "batch_normalization_9 (Batch (None, 10)                40        \n",
      "_________________________________________________________________\n",
      "dense_8 (Dense)              (None, 1)                 11        \n",
      "=================================================================\n",
      "Total params: 14,653,815\n",
      "Trainable params: 14,653,017\n",
      "Non-trainable params: 798\n",
      "_________________________________________________________________\n"
     ]
    }
   ],
   "source": [
    "model_batch_norm = get_model_batch_norm(input_shape)"
   ]
  },
  {
   "cell_type": "code",
   "execution_count": null,
   "metadata": {},
   "outputs": [
    {
     "name": "stdout",
     "output_type": "stream",
     "text": [
      "Epoch 1/20\n",
      "100/100 [==============================] - 23s - loss: 1595093.3869 - val_loss: 365298.0964\n",
      "Epoch 2/20\n",
      "100/100 [==============================] - 22s - loss: 1537063.8619 - val_loss: 370623.2904\n",
      "Epoch 3/20\n",
      " 45/100 [============>.................] - ETA: 8s - loss: 1575651.6201"
     ]
    }
   ],
   "source": [
    "model_batch_norm.fit_generator(train_batch, train_steps, epochs=20, verbose=1, callbacks=[reduce_lr],\n",
    "                             validation_data=val_batch, validation_steps=val_steps)"
   ]
  },
  {
   "cell_type": "code",
   "execution_count": null,
   "metadata": {
    "collapsed": true
   },
   "outputs": [],
   "source": []
  },
  {
   "cell_type": "code",
   "execution_count": null,
   "metadata": {
    "collapsed": true
   },
   "outputs": [],
   "source": []
  },
  {
   "cell_type": "code",
   "execution_count": null,
   "metadata": {
    "collapsed": true
   },
   "outputs": [],
   "source": []
  },
  {
   "cell_type": "code",
   "execution_count": null,
   "metadata": {
    "collapsed": true
   },
   "outputs": [],
   "source": []
  },
  {
   "cell_type": "code",
   "execution_count": 12,
   "metadata": {
    "scrolled": true
   },
   "outputs": [
    {
     "name": "stdout",
     "output_type": "stream",
     "text": [
      "Train on 9742 samples, validate on 2436 samples\n",
      "Epoch 1/20\n",
      "9742/9742 [==============================] - 21s - loss: 0.0624 - val_loss: 0.0286\n",
      "Epoch 2/20\n",
      "9742/9742 [==============================] - 21s - loss: 0.0183 - val_loss: 0.0167\n",
      "Epoch 3/20\n",
      "9742/9742 [==============================] - 21s - loss: 0.0146 - val_loss: 0.0162\n",
      "Epoch 4/20\n",
      "9742/9742 [==============================] - 21s - loss: 0.0127 - val_loss: 0.0157\n",
      "Epoch 5/20\n",
      "9742/9742 [==============================] - 21s - loss: 0.0102 - val_loss: 0.0155\n",
      "Epoch 6/20\n",
      "9742/9742 [==============================] - 21s - loss: 0.0081 - val_loss: 0.0165\n",
      "Epoch 7/20\n",
      "9742/9742 [==============================] - 21s - loss: 0.0068 - val_loss: 0.0159\n",
      "Epoch 8/20\n",
      "9742/9742 [==============================] - 21s - loss: 0.0058 - val_loss: 0.0147\n",
      "Epoch 9/20\n",
      "9742/9742 [==============================] - 21s - loss: 0.0051 - val_loss: 0.0154\n",
      "Epoch 10/20\n",
      "9742/9742 [==============================] - 21s - loss: 0.0048 - val_loss: 0.0150\n",
      "Epoch 11/20\n",
      "9742/9742 [==============================] - 21s - loss: 0.0044 - val_loss: 0.0156\n",
      "Epoch 12/20\n",
      "9742/9742 [==============================] - 21s - loss: 0.0046 - val_loss: 0.0160\n",
      "Epoch 13/20\n",
      "9742/9742 [==============================] - 21s - loss: 0.0041 - val_loss: 0.0146\n",
      "Epoch 14/20\n",
      "9742/9742 [==============================] - 21s - loss: 0.0039 - val_loss: 0.0145\n",
      "Epoch 15/20\n",
      "9742/9742 [==============================] - 21s - loss: 0.0038 - val_loss: 0.0144\n",
      "Epoch 16/20\n",
      "9742/9742 [==============================] - 21s - loss: 0.0038 - val_loss: 0.0154\n",
      "Epoch 17/20\n",
      "9742/9742 [==============================] - 21s - loss: 0.0034 - val_loss: 0.0157\n",
      "Epoch 18/20\n",
      "9742/9742 [==============================] - 21s - loss: 0.0063 - val_loss: 0.0176\n",
      "Epoch 19/20\n",
      "9742/9742 [==============================] - 21s - loss: 0.0084 - val_loss: 0.0178\n",
      "Epoch 20/20\n",
      "9728/9742 [============================>.] - ETA: 0s - loss: 0.0051\n",
      "Epoch 00019: reducing learning rate to 0.00010000000475.\n",
      "9742/9742 [==============================] - 21s - loss: 0.0051 - val_loss: 0.0155\n"
     ]
    },
    {
     "data": {
      "text/plain": [
       "<keras.callbacks.History at 0x7f1dbe214a10>"
      ]
     },
     "execution_count": 12,
     "metadata": {},
     "output_type": "execute_result"
    }
   ],
   "source": [
    "model_batch_norm.fit(X_train, y_train, validation_split = 0.2, shuffle = True, epochs = 20, callbacks = [reduce_lr])"
   ]
  },
  {
   "cell_type": "code",
   "execution_count": 13,
   "metadata": {
    "scrolled": true
   },
   "outputs": [
    {
     "name": "stdout",
     "output_type": "stream",
     "text": [
      "Train on 9742 samples, validate on 2436 samples\n",
      "Epoch 1/20\n",
      "9742/9742 [==============================] - 21s - loss: 0.0036 - val_loss: 0.0143\n",
      "Epoch 2/20\n",
      "9742/9742 [==============================] - 21s - loss: 0.0028 - val_loss: 0.0143\n",
      "Epoch 3/20\n",
      "9742/9742 [==============================] - 21s - loss: 0.0026 - val_loss: 0.0141\n",
      "Epoch 4/20\n",
      "9742/9742 [==============================] - 21s - loss: 0.0023 - val_loss: 0.0139\n",
      "Epoch 5/20\n",
      "9742/9742 [==============================] - 21s - loss: 0.0021 - val_loss: 0.0139\n",
      "Epoch 6/20\n",
      "9742/9742 [==============================] - 21s - loss: 0.0019 - val_loss: 0.0141\n",
      "Epoch 7/20\n",
      "9742/9742 [==============================] - 21s - loss: 0.0019 - val_loss: 0.0139\n",
      "Epoch 8/20\n",
      "9742/9742 [==============================] - 21s - loss: 0.0018 - val_loss: 0.0139\n",
      "Epoch 9/20\n",
      "9728/9742 [============================>.] - ETA: 0s - loss: 0.0017\n",
      "Epoch 00008: reducing learning rate to 1.0000000475e-05.\n",
      "9742/9742 [==============================] - 21s - loss: 0.0017 - val_loss: 0.0138\n",
      "Epoch 10/20\n",
      "9742/9742 [==============================] - 21s - loss: 0.0016 - val_loss: 0.0138\n",
      "Epoch 11/20\n",
      "9742/9742 [==============================] - 21s - loss: 0.0016 - val_loss: 0.0138\n",
      "Epoch 12/20\n",
      "9742/9742 [==============================] - 21s - loss: 0.0016 - val_loss: 0.0139\n",
      "Epoch 13/20\n",
      "9742/9742 [==============================] - 21s - loss: 0.0016 - val_loss: 0.0138\n",
      "Epoch 14/20\n",
      "9742/9742 [==============================] - 21s - loss: 0.0016 - val_loss: 0.0137\n",
      "Epoch 15/20\n",
      "9742/9742 [==============================] - 21s - loss: 0.0015 - val_loss: 0.0139\n",
      "Epoch 16/20\n",
      "9742/9742 [==============================] - 21s - loss: 0.0016 - val_loss: 0.0138\n",
      "Epoch 17/20\n",
      "9742/9742 [==============================] - 21s - loss: 0.0015 - val_loss: 0.0138\n",
      "Epoch 18/20\n",
      "9728/9742 [============================>.] - ETA: 0s - loss: 0.0015\n",
      "Epoch 00017: reducing learning rate to 1.00000006569e-06.\n",
      "9742/9742 [==============================] - 21s - loss: 0.0015 - val_loss: 0.0137\n",
      "Epoch 19/20\n",
      "9742/9742 [==============================] - 21s - loss: 0.0015 - val_loss: 0.0137\n",
      "Epoch 20/20\n",
      "9742/9742 [==============================] - 21s - loss: 0.0015 - val_loss: 0.0137\n"
     ]
    },
    {
     "data": {
      "text/plain": [
       "<keras.callbacks.History at 0x7f1dc0f14fd0>"
      ]
     },
     "execution_count": 13,
     "metadata": {},
     "output_type": "execute_result"
    }
   ],
   "source": [
    "model_batch_norm.fit(X_train, y_train, validation_split = 0.2, shuffle = True, epochs = 20, callbacks = [reduce_lr])"
   ]
  },
  {
   "cell_type": "markdown",
   "metadata": {},
   "source": [
    "As we can see, batch norm didn't help."
   ]
  },
  {
   "cell_type": "code",
   "execution_count": null,
   "metadata": {
    "collapsed": true
   },
   "outputs": [],
   "source": []
  },
  {
   "cell_type": "code",
   "execution_count": null,
   "metadata": {
    "collapsed": true
   },
   "outputs": [],
   "source": []
  },
  {
   "cell_type": "code",
   "execution_count": null,
   "metadata": {
    "collapsed": true
   },
   "outputs": [],
   "source": []
  },
  {
   "cell_type": "code",
   "execution_count": null,
   "metadata": {
    "collapsed": true
   },
   "outputs": [],
   "source": []
  },
  {
   "cell_type": "code",
   "execution_count": null,
   "metadata": {
    "collapsed": true
   },
   "outputs": [],
   "source": []
  }
 ],
 "metadata": {
  "kernelspec": {
   "display_name": "Python [conda root]",
   "language": "python",
   "name": "conda-root-py"
  },
  "language_info": {
   "codemirror_mode": {
    "name": "ipython",
    "version": 2
   },
   "file_extension": ".py",
   "mimetype": "text/x-python",
   "name": "python",
   "nbconvert_exporter": "python",
   "pygments_lexer": "ipython2",
   "version": "2.7.13"
  }
 },
 "nbformat": 4,
 "nbformat_minor": 1
}

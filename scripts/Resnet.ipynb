{
 "cells": [
  {
   "cell_type": "markdown",
   "metadata": {},
   "source": [
    "## Implementation of PilotNet\n",
    "\n",
    "Implement [PilotNet](https://arxiv.org/pdf/1604.07316.pdf) using Keras (with tensorflow backend), with some modifications"
   ]
  },
  {
   "cell_type": "code",
   "execution_count": 1,
   "metadata": {
    "collapsed": true,
    "scrolled": true
   },
   "outputs": [],
   "source": [
    "import os\n",
    "import pandas as pd\n",
    "import numpy as np\n",
    "from sklearn.utils import shuffle"
   ]
  },
  {
   "cell_type": "code",
   "execution_count": 2,
   "metadata": {
    "scrolled": true
   },
   "outputs": [
    {
     "name": "stderr",
     "output_type": "stream",
     "text": [
      "Using Theano backend.\n",
      "WARNING (theano.sandbox.cuda): The cuda backend is deprecated and will be removed in the next release (v0.10).  Please switch to the gpuarray backend. You can get more information about how to switch at this URL:\n",
      " https://github.com/Theano/Theano/wiki/Converting-to-the-new-gpu-back-end%28gpuarray%29\n",
      "\n",
      "Using gpu device 0: GeForce GTX 1080 (CNMeM is disabled, cuDNN 5110)\n"
     ]
    }
   ],
   "source": [
    "import keras\n",
    "\n",
    "from resnet import resnet\n",
    "\n",
    "from keras.optimizers import SGD\n",
    "from keras.preprocessing import image\n",
    "from keras.preprocessing.image import ImageDataGenerator\n",
    "from keras.callbacks import CSVLogger, ModelCheckpoint\n",
    "from keras.models import load_model"
   ]
  },
  {
   "cell_type": "code",
   "execution_count": 3,
   "metadata": {
    "collapsed": true
   },
   "outputs": [],
   "source": [
    "# limit GPU memory usage\n",
    "# import tensorflow as tf\n",
    "# from keras.backend.tensorflow_backend import set_session\n",
    "# config = tf.ConfigProto()\n",
    "# config.gpu_options.per_process_gpu_memory_fraction = 0.8\n",
    "# set_session(tf.Session(config=config))"
   ]
  },
  {
   "cell_type": "markdown",
   "metadata": {},
   "source": [
    "### Check data format"
   ]
  },
  {
   "cell_type": "code",
   "execution_count": 4,
   "metadata": {
    "scrolled": false
   },
   "outputs": [
    {
     "name": "stdout",
     "output_type": "stream",
     "text": [
      "v1.csv  v2.csv  v3.csv  v4.csv  v5.csv  v5_train.csv  v5_valid.csv\r\n"
     ]
    }
   ],
   "source": [
    "%ls ../data/csv/final"
   ]
  },
  {
   "cell_type": "code",
   "execution_count": 5,
   "metadata": {
    "collapsed": true
   },
   "outputs": [],
   "source": [
    "# define path variables\n",
    "cur_file = 'v5'\n",
    "parent_path = os.path.dirname(os.getcwd())\n",
    "\n",
    "data_path = os.path.join(parent_path, 'data')\n",
    "img_front_dir_path = os.path.join(data_path, 'img', 'front')\n",
    "model_path = os.path.join(parent_path, 'model')\n",
    "log_path = os.path.join(model_path, 'log')\n",
    "\n",
    "\n",
    "csv_dir_path = os.path.join(data_path, 'csv', 'final')\n",
    "train_file = os.path.join(csv_dir_path, cur_file + '_train.csv')\n",
    "valid_file = os.path.join(csv_dir_path, cur_file + '_valid.csv')\n",
    "\n",
    "# divide by a constant to bound output to [0,100]\n",
    "OUTPUT_NORMALIZATION = 655.35"
   ]
  },
  {
   "cell_type": "code",
   "execution_count": 6,
   "metadata": {
    "scrolled": false
   },
   "outputs": [
    {
     "name": "stdout",
     "output_type": "stream",
     "text": [
      "208454 rows\n"
     ]
    },
    {
     "data": {
      "text/html": [
       "<div>\n",
       "<style>\n",
       "    .dataframe thead tr:only-child th {\n",
       "        text-align: right;\n",
       "    }\n",
       "\n",
       "    .dataframe thead th {\n",
       "        text-align: left;\n",
       "    }\n",
       "\n",
       "    .dataframe tbody tr th {\n",
       "        vertical-align: top;\n",
       "    }\n",
       "</style>\n",
       "<table border=\"1\" class=\"dataframe\">\n",
       "  <thead>\n",
       "    <tr style=\"text-align: right;\">\n",
       "      <th></th>\n",
       "      <th>img</th>\n",
       "      <th>wheel-axis</th>\n",
       "      <th>clutch</th>\n",
       "      <th>brake</th>\n",
       "      <th>gas</th>\n",
       "      <th>paddle-left</th>\n",
       "      <th>paddle-right</th>\n",
       "      <th>wheel-button-left-1</th>\n",
       "      <th>wheel-button-left-2</th>\n",
       "      <th>wheel-button-left-3</th>\n",
       "      <th>...</th>\n",
       "      <th>gear-1</th>\n",
       "      <th>gear-2</th>\n",
       "      <th>gear-3</th>\n",
       "      <th>gear-4</th>\n",
       "      <th>gear-5</th>\n",
       "      <th>gear-6</th>\n",
       "      <th>gear-R</th>\n",
       "      <th>front</th>\n",
       "      <th>side_left</th>\n",
       "      <th>side_right</th>\n",
       "    </tr>\n",
       "  </thead>\n",
       "  <tbody>\n",
       "    <tr>\n",
       "      <th>0</th>\n",
       "      <td>97802012_2017_08_08_20_47_09_88.jpg</td>\n",
       "      <td>1328</td>\n",
       "      <td>23221</td>\n",
       "      <td>0</td>\n",
       "      <td>34833</td>\n",
       "      <td>0</td>\n",
       "      <td>0</td>\n",
       "      <td>0</td>\n",
       "      <td>0</td>\n",
       "      <td>0</td>\n",
       "      <td>...</td>\n",
       "      <td>0.0</td>\n",
       "      <td>0.0</td>\n",
       "      <td>1.0</td>\n",
       "      <td>0.0</td>\n",
       "      <td>0.0</td>\n",
       "      <td>0.0</td>\n",
       "      <td>0.0</td>\n",
       "      <td>97802012_2017_08_08_20_47_09_88_front.jpg</td>\n",
       "      <td>97802012_2017_08_08_20_47_09_88_left.jpg</td>\n",
       "      <td>97802012_2017_08_08_20_47_09_88_right.jpg</td>\n",
       "    </tr>\n",
       "    <tr>\n",
       "      <th>1</th>\n",
       "      <td>7a13935b_2017_07_30_15_35_17_02.jpg</td>\n",
       "      <td>288</td>\n",
       "      <td>0</td>\n",
       "      <td>0</td>\n",
       "      <td>65535</td>\n",
       "      <td>0</td>\n",
       "      <td>0</td>\n",
       "      <td>0</td>\n",
       "      <td>0</td>\n",
       "      <td>0</td>\n",
       "      <td>...</td>\n",
       "      <td>0.0</td>\n",
       "      <td>0.0</td>\n",
       "      <td>0.0</td>\n",
       "      <td>0.0</td>\n",
       "      <td>0.0</td>\n",
       "      <td>0.0</td>\n",
       "      <td>0.0</td>\n",
       "      <td>7a13935b_2017_07_30_15_35_17_02_front.jpg</td>\n",
       "      <td>7a13935b_2017_07_30_15_35_17_02_left.jpg</td>\n",
       "      <td>7a13935b_2017_07_30_15_35_17_02_right.jpg</td>\n",
       "    </tr>\n",
       "    <tr>\n",
       "      <th>2</th>\n",
       "      <td>3f80cca8_2017_08_08_14_14_12_98.jpg</td>\n",
       "      <td>36</td>\n",
       "      <td>15222</td>\n",
       "      <td>0</td>\n",
       "      <td>38703</td>\n",
       "      <td>0</td>\n",
       "      <td>0</td>\n",
       "      <td>0</td>\n",
       "      <td>0</td>\n",
       "      <td>0</td>\n",
       "      <td>...</td>\n",
       "      <td>0.0</td>\n",
       "      <td>0.0</td>\n",
       "      <td>1.0</td>\n",
       "      <td>0.0</td>\n",
       "      <td>0.0</td>\n",
       "      <td>0.0</td>\n",
       "      <td>0.0</td>\n",
       "      <td>3f80cca8_2017_08_08_14_14_12_98_front.jpg</td>\n",
       "      <td>3f80cca8_2017_08_08_14_14_12_98_left.jpg</td>\n",
       "      <td>3f80cca8_2017_08_08_14_14_12_98_right.jpg</td>\n",
       "    </tr>\n",
       "  </tbody>\n",
       "</table>\n",
       "<p>3 rows × 33 columns</p>\n",
       "</div>"
      ],
      "text/plain": [
       "                                   img  wheel-axis  clutch  brake    gas  \\\n",
       "0  97802012_2017_08_08_20_47_09_88.jpg        1328   23221      0  34833   \n",
       "1  7a13935b_2017_07_30_15_35_17_02.jpg         288       0      0  65535   \n",
       "2  3f80cca8_2017_08_08_14_14_12_98.jpg          36   15222      0  38703   \n",
       "\n",
       "   paddle-left  paddle-right  wheel-button-left-1  wheel-button-left-2  \\\n",
       "0            0             0                    0                    0   \n",
       "1            0             0                    0                    0   \n",
       "2            0             0                    0                    0   \n",
       "\n",
       "   wheel-button-left-3                    ...                      gear-1  \\\n",
       "0                    0                    ...                         0.0   \n",
       "1                    0                    ...                         0.0   \n",
       "2                    0                    ...                         0.0   \n",
       "\n",
       "   gear-2  gear-3  gear-4  gear-5  gear-6  gear-R  \\\n",
       "0     0.0     1.0     0.0     0.0     0.0     0.0   \n",
       "1     0.0     0.0     0.0     0.0     0.0     0.0   \n",
       "2     0.0     1.0     0.0     0.0     0.0     0.0   \n",
       "\n",
       "                                       front  \\\n",
       "0  97802012_2017_08_08_20_47_09_88_front.jpg   \n",
       "1  7a13935b_2017_07_30_15_35_17_02_front.jpg   \n",
       "2  3f80cca8_2017_08_08_14_14_12_98_front.jpg   \n",
       "\n",
       "                                  side_left  \\\n",
       "0  97802012_2017_08_08_20_47_09_88_left.jpg   \n",
       "1  7a13935b_2017_07_30_15_35_17_02_left.jpg   \n",
       "2  3f80cca8_2017_08_08_14_14_12_98_left.jpg   \n",
       "\n",
       "                                  side_right  \n",
       "0  97802012_2017_08_08_20_47_09_88_right.jpg  \n",
       "1  7a13935b_2017_07_30_15_35_17_02_right.jpg  \n",
       "2  3f80cca8_2017_08_08_14_14_12_98_right.jpg  \n",
       "\n",
       "[3 rows x 33 columns]"
      ]
     },
     "execution_count": 6,
     "metadata": {},
     "output_type": "execute_result"
    }
   ],
   "source": [
    "df_train = pd.read_csv(os.path.join(data_path, train_file))\n",
    "print(\"%d rows\" % df_train.shape[0])\n",
    "df_train.head(3)"
   ]
  },
  {
   "cell_type": "code",
   "execution_count": 7,
   "metadata": {
    "scrolled": true
   },
   "outputs": [
    {
     "name": "stdout",
     "output_type": "stream",
     "text": [
      "52114 rows\n"
     ]
    },
    {
     "data": {
      "text/html": [
       "<div>\n",
       "<style>\n",
       "    .dataframe thead tr:only-child th {\n",
       "        text-align: right;\n",
       "    }\n",
       "\n",
       "    .dataframe thead th {\n",
       "        text-align: left;\n",
       "    }\n",
       "\n",
       "    .dataframe tbody tr th {\n",
       "        vertical-align: top;\n",
       "    }\n",
       "</style>\n",
       "<table border=\"1\" class=\"dataframe\">\n",
       "  <thead>\n",
       "    <tr style=\"text-align: right;\">\n",
       "      <th></th>\n",
       "      <th>img</th>\n",
       "      <th>wheel-axis</th>\n",
       "      <th>clutch</th>\n",
       "      <th>brake</th>\n",
       "      <th>gas</th>\n",
       "      <th>paddle-left</th>\n",
       "      <th>paddle-right</th>\n",
       "      <th>wheel-button-left-1</th>\n",
       "      <th>wheel-button-left-2</th>\n",
       "      <th>wheel-button-left-3</th>\n",
       "      <th>...</th>\n",
       "      <th>gear-1</th>\n",
       "      <th>gear-2</th>\n",
       "      <th>gear-3</th>\n",
       "      <th>gear-4</th>\n",
       "      <th>gear-5</th>\n",
       "      <th>gear-6</th>\n",
       "      <th>gear-R</th>\n",
       "      <th>front</th>\n",
       "      <th>side_left</th>\n",
       "      <th>side_right</th>\n",
       "    </tr>\n",
       "  </thead>\n",
       "  <tbody>\n",
       "    <tr>\n",
       "      <th>0</th>\n",
       "      <td>3f80cca8_2017_08_08_14_52_41_43.jpg</td>\n",
       "      <td>140</td>\n",
       "      <td>17287</td>\n",
       "      <td>0</td>\n",
       "      <td>35349</td>\n",
       "      <td>0</td>\n",
       "      <td>0</td>\n",
       "      <td>0</td>\n",
       "      <td>0</td>\n",
       "      <td>0</td>\n",
       "      <td>...</td>\n",
       "      <td>0.0</td>\n",
       "      <td>0.0</td>\n",
       "      <td>1.0</td>\n",
       "      <td>0.0</td>\n",
       "      <td>0.0</td>\n",
       "      <td>0.0</td>\n",
       "      <td>0.0</td>\n",
       "      <td>3f80cca8_2017_08_08_14_52_41_43_front.jpg</td>\n",
       "      <td>3f80cca8_2017_08_08_14_52_41_43_left.jpg</td>\n",
       "      <td>3f80cca8_2017_08_08_14_52_41_43_right.jpg</td>\n",
       "    </tr>\n",
       "    <tr>\n",
       "      <th>1</th>\n",
       "      <td>7d590ce8_2017_08_07_13_54_16_42.jpg</td>\n",
       "      <td>-2209</td>\n",
       "      <td>27091</td>\n",
       "      <td>0</td>\n",
       "      <td>53410</td>\n",
       "      <td>0</td>\n",
       "      <td>0</td>\n",
       "      <td>0</td>\n",
       "      <td>0</td>\n",
       "      <td>0</td>\n",
       "      <td>...</td>\n",
       "      <td>0.0</td>\n",
       "      <td>0.0</td>\n",
       "      <td>1.0</td>\n",
       "      <td>0.0</td>\n",
       "      <td>0.0</td>\n",
       "      <td>0.0</td>\n",
       "      <td>0.0</td>\n",
       "      <td>7d590ce8_2017_08_07_13_54_16_42_front.jpg</td>\n",
       "      <td>7d590ce8_2017_08_07_13_54_16_42_left.jpg</td>\n",
       "      <td>7d590ce8_2017_08_07_13_54_16_42_right.jpg</td>\n",
       "    </tr>\n",
       "    <tr>\n",
       "      <th>2</th>\n",
       "      <td>15be80cb_2017_07_28_23_24_53_41.jpg</td>\n",
       "      <td>-2625</td>\n",
       "      <td>0</td>\n",
       "      <td>0</td>\n",
       "      <td>0</td>\n",
       "      <td>0</td>\n",
       "      <td>0</td>\n",
       "      <td>0</td>\n",
       "      <td>0</td>\n",
       "      <td>0</td>\n",
       "      <td>...</td>\n",
       "      <td>0.0</td>\n",
       "      <td>0.0</td>\n",
       "      <td>1.0</td>\n",
       "      <td>0.0</td>\n",
       "      <td>0.0</td>\n",
       "      <td>0.0</td>\n",
       "      <td>0.0</td>\n",
       "      <td>15be80cb_2017_07_28_23_24_53_41_front.jpg</td>\n",
       "      <td>15be80cb_2017_07_28_23_24_53_41_left.jpg</td>\n",
       "      <td>15be80cb_2017_07_28_23_24_53_41_right.jpg</td>\n",
       "    </tr>\n",
       "  </tbody>\n",
       "</table>\n",
       "<p>3 rows × 33 columns</p>\n",
       "</div>"
      ],
      "text/plain": [
       "                                   img  wheel-axis  clutch  brake    gas  \\\n",
       "0  3f80cca8_2017_08_08_14_52_41_43.jpg         140   17287      0  35349   \n",
       "1  7d590ce8_2017_08_07_13_54_16_42.jpg       -2209   27091      0  53410   \n",
       "2  15be80cb_2017_07_28_23_24_53_41.jpg       -2625       0      0      0   \n",
       "\n",
       "   paddle-left  paddle-right  wheel-button-left-1  wheel-button-left-2  \\\n",
       "0            0             0                    0                    0   \n",
       "1            0             0                    0                    0   \n",
       "2            0             0                    0                    0   \n",
       "\n",
       "   wheel-button-left-3                    ...                      gear-1  \\\n",
       "0                    0                    ...                         0.0   \n",
       "1                    0                    ...                         0.0   \n",
       "2                    0                    ...                         0.0   \n",
       "\n",
       "   gear-2  gear-3  gear-4  gear-5  gear-6  gear-R  \\\n",
       "0     0.0     1.0     0.0     0.0     0.0     0.0   \n",
       "1     0.0     1.0     0.0     0.0     0.0     0.0   \n",
       "2     0.0     1.0     0.0     0.0     0.0     0.0   \n",
       "\n",
       "                                       front  \\\n",
       "0  3f80cca8_2017_08_08_14_52_41_43_front.jpg   \n",
       "1  7d590ce8_2017_08_07_13_54_16_42_front.jpg   \n",
       "2  15be80cb_2017_07_28_23_24_53_41_front.jpg   \n",
       "\n",
       "                                  side_left  \\\n",
       "0  3f80cca8_2017_08_08_14_52_41_43_left.jpg   \n",
       "1  7d590ce8_2017_08_07_13_54_16_42_left.jpg   \n",
       "2  15be80cb_2017_07_28_23_24_53_41_left.jpg   \n",
       "\n",
       "                                  side_right  \n",
       "0  3f80cca8_2017_08_08_14_52_41_43_right.jpg  \n",
       "1  7d590ce8_2017_08_07_13_54_16_42_right.jpg  \n",
       "2  15be80cb_2017_07_28_23_24_53_41_right.jpg  \n",
       "\n",
       "[3 rows x 33 columns]"
      ]
     },
     "execution_count": 7,
     "metadata": {},
     "output_type": "execute_result"
    }
   ],
   "source": [
    "df_val = pd.read_csv(os.path.join(data_path, valid_file))\n",
    "print(\"%d rows\" % df_val.shape[0])\n",
    "df_val.head(3)"
   ]
  },
  {
   "cell_type": "markdown",
   "metadata": {},
   "source": [
    "###  Predict steering angle using only the front image"
   ]
  },
  {
   "cell_type": "code",
   "execution_count": 8,
   "metadata": {
    "collapsed": true
   },
   "outputs": [],
   "source": [
    "def img_to_arr(p):\n",
    "    with image.load_img(p) as img:\n",
    "        img = image.img_to_array(img)\n",
    "    return img\n",
    "\n",
    "# values computed from dataset sample.\n",
    "def normalize(img):\n",
    "    img[:,:,0] -= 89.5761\n",
    "    img[:,:,0] /= 58.4214\n",
    "\n",
    "    img[:,:,1] -= 97.5966\n",
    "    img[:,:,1] /= 61.7917\n",
    "\n",
    "    img[:,:,2] -= 88.3135\n",
    "    img[:,:,2] /= 68.2043\n",
    "    \n",
    "    return img"
   ]
  },
  {
   "cell_type": "code",
   "execution_count": 9,
   "metadata": {
    "collapsed": true
   },
   "outputs": [],
   "source": [
    "# define generator that loops through the data\n",
    "def generator(df, batch_size, img_shape, should_shuffle):\n",
    "    print('shuffle')\n",
    "    img_list = df['front']\n",
    "    wheel_axis = df['wheel-axis']\n",
    "    \n",
    "    # create empty batch\n",
    "    batch_img = np.zeros((batch_size,) + img_shape)\n",
    "    batch_label = np.zeros((batch_size, 1))\n",
    "    \n",
    "    index = 0\n",
    "    while True:\n",
    "        for i in range(batch_size):\n",
    "            img_name = img_list[index]\n",
    "            arr = img_to_arr(os.path.join(img_front_dir_path, img_name))\n",
    "            \n",
    "            batch_img[i] = normalize(arr)\n",
    "            batch_label[i] = wheel_axis[index] / OUTPUT_NORMALIZATION\n",
    "            \n",
    "            index += 1\n",
    "            \n",
    "            if index == len(img_list):\n",
    "                index = 0 \n",
    "                if should_shuffle:\n",
    "                    df = shuffle(df)\n",
    "                    img_list = df['front']\n",
    "                    wheel_axis = df['wheel-axis']\n",
    "            \n",
    "        yield batch_img, batch_label\n",
    "    "
   ]
  },
  {
   "cell_type": "code",
   "execution_count": 10,
   "metadata": {},
   "outputs": [
    {
     "name": "stdout",
     "output_type": "stream",
     "text": [
      "input_shape: (3, 341, 562), batch_size: 45, train_steps: 4633, val_steps: 1159\n"
     ]
    }
   ],
   "source": [
    "input_shape = img_to_arr(os.path.join(img_front_dir_path, df_train['front'][0])).shape\n",
    "batch_size = 45\n",
    "train_steps = (df_train.shape[0] / batch_size) + 1\n",
    "val_steps = (df_val.shape[0] / batch_size) + 1\n",
    "\n",
    "print(\"input_shape: %s, batch_size: %d, train_steps: %d, val_steps: %d\" % \n",
    "      (input_shape, batch_size, train_steps, val_steps))"
   ]
  },
  {
   "cell_type": "code",
   "execution_count": 11,
   "metadata": {
    "collapsed": true
   },
   "outputs": [],
   "source": [
    "train_batch = generator(df_train, batch_size, input_shape, True)\n",
    "val_batch = generator(df_val, batch_size, input_shape, False)"
   ]
  },
  {
   "cell_type": "markdown",
   "metadata": {},
   "source": [
    "### Define model"
   ]
  },
  {
   "cell_type": "code",
   "execution_count": 12,
   "metadata": {
    "scrolled": true
   },
   "outputs": [
    {
     "name": "stdout",
     "output_type": "stream",
     "text": [
      "____________________________________________________________________________________________________\n",
      "Layer (type)                     Output Shape          Param #     Connected to                     \n",
      "====================================================================================================\n",
      "input_1 (InputLayer)             (None, 3, 341, 562)   0                                            \n",
      "____________________________________________________________________________________________________\n",
      "zero_padding2d_1 (ZeroPadding2D) (None, 3, 347, 568)   0           input_1[0][0]                    \n",
      "____________________________________________________________________________________________________\n",
      "conv1 (Conv2D)                   (None, 64, 171, 281)  9472        zero_padding2d_1[0][0]           \n",
      "____________________________________________________________________________________________________\n",
      "bn_conv1 (BatchNormalization)    (None, 64, 171, 281)  256         conv1[0][0]                      \n",
      "____________________________________________________________________________________________________\n",
      "activation_1 (Activation)        (None, 64, 171, 281)  0           bn_conv1[0][0]                   \n",
      "____________________________________________________________________________________________________\n",
      "max_pooling2d_1 (MaxPooling2D)   (None, 64, 85, 140)   0           activation_1[0][0]               \n",
      "____________________________________________________________________________________________________\n",
      "res2a_branch2a (Conv2D)          (None, 64, 85, 140)   36928       max_pooling2d_1[0][0]            \n",
      "____________________________________________________________________________________________________\n",
      "bn2a_branch2a (BatchNormalizatio (None, 64, 85, 140)   256         res2a_branch2a[0][0]             \n",
      "____________________________________________________________________________________________________\n",
      "activation_2 (Activation)        (None, 64, 85, 140)   0           bn2a_branch2a[0][0]              \n",
      "____________________________________________________________________________________________________\n",
      "res2a_branch2b (Conv2D)          (None, 64, 85, 140)   36928       activation_2[0][0]               \n",
      "____________________________________________________________________________________________________\n",
      "bn2a_branch2b (BatchNormalizatio (None, 64, 85, 140)   256         res2a_branch2b[0][0]             \n",
      "____________________________________________________________________________________________________\n",
      "res2a_branch1 (Conv2D)           (None, 64, 85, 140)   4160        max_pooling2d_1[0][0]            \n",
      "____________________________________________________________________________________________________\n",
      "activation_3 (Activation)        (None, 64, 85, 140)   0           bn2a_branch2b[0][0]              \n",
      "____________________________________________________________________________________________________\n",
      "bn2a_branch1 (BatchNormalization (None, 64, 85, 140)   256         res2a_branch1[0][0]              \n",
      "____________________________________________________________________________________________________\n",
      "add_1 (Add)                      (None, 64, 85, 140)   0           activation_3[0][0]               \n",
      "                                                                   bn2a_branch1[0][0]               \n",
      "____________________________________________________________________________________________________\n",
      "activation_4 (Activation)        (None, 64, 85, 140)   0           add_1[0][0]                      \n",
      "____________________________________________________________________________________________________\n",
      "res2b_branch2a (Conv2D)          (None, 64, 85, 140)   36928       activation_4[0][0]               \n",
      "____________________________________________________________________________________________________\n",
      "bn2b_branch2a (BatchNormalizatio (None, 64, 85, 140)   256         res2b_branch2a[0][0]             \n",
      "____________________________________________________________________________________________________\n",
      "activation_5 (Activation)        (None, 64, 85, 140)   0           bn2b_branch2a[0][0]              \n",
      "____________________________________________________________________________________________________\n",
      "res2b_branch2b (Conv2D)          (None, 64, 85, 140)   36928       activation_5[0][0]               \n",
      "____________________________________________________________________________________________________\n",
      "bn2b_branch2b (BatchNormalizatio (None, 64, 85, 140)   256         res2b_branch2b[0][0]             \n",
      "____________________________________________________________________________________________________\n",
      "activation_6 (Activation)        (None, 64, 85, 140)   0           bn2b_branch2b[0][0]              \n",
      "____________________________________________________________________________________________________\n",
      "add_2 (Add)                      (None, 64, 85, 140)   0           activation_6[0][0]               \n",
      "                                                                   activation_4[0][0]               \n",
      "____________________________________________________________________________________________________\n",
      "activation_7 (Activation)        (None, 64, 85, 140)   0           add_2[0][0]                      \n",
      "____________________________________________________________________________________________________\n",
      "res3a_branch2a (Conv2D)          (None, 128, 43, 70)   73856       activation_7[0][0]               \n",
      "____________________________________________________________________________________________________\n",
      "bn3a_branch2a (BatchNormalizatio (None, 128, 43, 70)   512         res3a_branch2a[0][0]             \n",
      "____________________________________________________________________________________________________\n",
      "activation_8 (Activation)        (None, 128, 43, 70)   0           bn3a_branch2a[0][0]              \n",
      "____________________________________________________________________________________________________\n",
      "res3a_branch2b (Conv2D)          (None, 128, 43, 70)   147584      activation_8[0][0]               \n",
      "____________________________________________________________________________________________________\n",
      "bn3a_branch2b (BatchNormalizatio (None, 128, 43, 70)   512         res3a_branch2b[0][0]             \n",
      "____________________________________________________________________________________________________\n",
      "res3a_branch1 (Conv2D)           (None, 128, 43, 70)   8320        activation_7[0][0]               \n",
      "____________________________________________________________________________________________________\n",
      "activation_9 (Activation)        (None, 128, 43, 70)   0           bn3a_branch2b[0][0]              \n",
      "____________________________________________________________________________________________________\n",
      "bn3a_branch1 (BatchNormalization (None, 128, 43, 70)   512         res3a_branch1[0][0]              \n",
      "____________________________________________________________________________________________________\n",
      "add_3 (Add)                      (None, 128, 43, 70)   0           activation_9[0][0]               \n",
      "                                                                   bn3a_branch1[0][0]               \n",
      "____________________________________________________________________________________________________\n",
      "activation_10 (Activation)       (None, 128, 43, 70)   0           add_3[0][0]                      \n",
      "____________________________________________________________________________________________________\n",
      "res3b_branch2a (Conv2D)          (None, 128, 43, 70)   147584      activation_10[0][0]              \n",
      "____________________________________________________________________________________________________\n",
      "bn3b_branch2a (BatchNormalizatio (None, 128, 43, 70)   512         res3b_branch2a[0][0]             \n",
      "____________________________________________________________________________________________________\n",
      "activation_11 (Activation)       (None, 128, 43, 70)   0           bn3b_branch2a[0][0]              \n",
      "____________________________________________________________________________________________________\n",
      "res3b_branch2b (Conv2D)          (None, 128, 43, 70)   147584      activation_11[0][0]              \n",
      "____________________________________________________________________________________________________\n"
     ]
    },
    {
     "name": "stdout",
     "output_type": "stream",
     "text": [
      "bn3b_branch2b (BatchNormalizatio (None, 128, 43, 70)   512         res3b_branch2b[0][0]             \n",
      "____________________________________________________________________________________________________\n",
      "activation_12 (Activation)       (None, 128, 43, 70)   0           bn3b_branch2b[0][0]              \n",
      "____________________________________________________________________________________________________\n",
      "add_4 (Add)                      (None, 128, 43, 70)   0           activation_12[0][0]              \n",
      "                                                                   activation_10[0][0]              \n",
      "____________________________________________________________________________________________________\n",
      "activation_13 (Activation)       (None, 128, 43, 70)   0           add_4[0][0]                      \n",
      "____________________________________________________________________________________________________\n",
      "res4a_branch2a (Conv2D)          (None, 256, 22, 35)   295168      activation_13[0][0]              \n",
      "____________________________________________________________________________________________________\n",
      "bn4a_branch2a (BatchNormalizatio (None, 256, 22, 35)   1024        res4a_branch2a[0][0]             \n",
      "____________________________________________________________________________________________________\n",
      "activation_14 (Activation)       (None, 256, 22, 35)   0           bn4a_branch2a[0][0]              \n",
      "____________________________________________________________________________________________________\n",
      "res4a_branch2b (Conv2D)          (None, 256, 22, 35)   590080      activation_14[0][0]              \n",
      "____________________________________________________________________________________________________\n",
      "bn4a_branch2b (BatchNormalizatio (None, 256, 22, 35)   1024        res4a_branch2b[0][0]             \n",
      "____________________________________________________________________________________________________\n",
      "res4a_branch1 (Conv2D)           (None, 256, 22, 35)   33024       activation_13[0][0]              \n",
      "____________________________________________________________________________________________________\n",
      "activation_15 (Activation)       (None, 256, 22, 35)   0           bn4a_branch2b[0][0]              \n",
      "____________________________________________________________________________________________________\n",
      "bn4a_branch1 (BatchNormalization (None, 256, 22, 35)   1024        res4a_branch1[0][0]              \n",
      "____________________________________________________________________________________________________\n",
      "add_5 (Add)                      (None, 256, 22, 35)   0           activation_15[0][0]              \n",
      "                                                                   bn4a_branch1[0][0]               \n",
      "____________________________________________________________________________________________________\n",
      "activation_16 (Activation)       (None, 256, 22, 35)   0           add_5[0][0]                      \n",
      "____________________________________________________________________________________________________\n",
      "res4b_branch2a (Conv2D)          (None, 256, 22, 35)   590080      activation_16[0][0]              \n",
      "____________________________________________________________________________________________________\n",
      "bn4b_branch2a (BatchNormalizatio (None, 256, 22, 35)   1024        res4b_branch2a[0][0]             \n",
      "____________________________________________________________________________________________________\n",
      "activation_17 (Activation)       (None, 256, 22, 35)   0           bn4b_branch2a[0][0]              \n",
      "____________________________________________________________________________________________________\n",
      "res4b_branch2b (Conv2D)          (None, 256, 22, 35)   590080      activation_17[0][0]              \n",
      "____________________________________________________________________________________________________\n",
      "bn4b_branch2b (BatchNormalizatio (None, 256, 22, 35)   1024        res4b_branch2b[0][0]             \n",
      "____________________________________________________________________________________________________\n",
      "activation_18 (Activation)       (None, 256, 22, 35)   0           bn4b_branch2b[0][0]              \n",
      "____________________________________________________________________________________________________\n",
      "add_6 (Add)                      (None, 256, 22, 35)   0           activation_18[0][0]              \n",
      "                                                                   activation_16[0][0]              \n",
      "____________________________________________________________________________________________________\n",
      "activation_19 (Activation)       (None, 256, 22, 35)   0           add_6[0][0]                      \n",
      "____________________________________________________________________________________________________\n",
      "res5a_branch2a (Conv2D)          (None, 512, 11, 18)   1180160     activation_19[0][0]              \n",
      "____________________________________________________________________________________________________\n",
      "bn5a_branch2a (BatchNormalizatio (None, 512, 11, 18)   2048        res5a_branch2a[0][0]             \n",
      "____________________________________________________________________________________________________\n",
      "activation_20 (Activation)       (None, 512, 11, 18)   0           bn5a_branch2a[0][0]              \n",
      "____________________________________________________________________________________________________\n",
      "res5a_branch2b (Conv2D)          (None, 512, 11, 18)   2359808     activation_20[0][0]              \n",
      "____________________________________________________________________________________________________\n",
      "bn5a_branch2b (BatchNormalizatio (None, 512, 11, 18)   2048        res5a_branch2b[0][0]             \n",
      "____________________________________________________________________________________________________\n",
      "res5a_branch1 (Conv2D)           (None, 512, 11, 18)   131584      activation_19[0][0]              \n",
      "____________________________________________________________________________________________________\n",
      "activation_21 (Activation)       (None, 512, 11, 18)   0           bn5a_branch2b[0][0]              \n",
      "____________________________________________________________________________________________________\n",
      "bn5a_branch1 (BatchNormalization (None, 512, 11, 18)   2048        res5a_branch1[0][0]              \n",
      "____________________________________________________________________________________________________\n",
      "add_7 (Add)                      (None, 512, 11, 18)   0           activation_21[0][0]              \n",
      "                                                                   bn5a_branch1[0][0]               \n",
      "____________________________________________________________________________________________________\n",
      "activation_22 (Activation)       (None, 512, 11, 18)   0           add_7[0][0]                      \n",
      "____________________________________________________________________________________________________\n",
      "res5b_branch2a (Conv2D)          (None, 512, 11, 18)   2359808     activation_22[0][0]              \n",
      "____________________________________________________________________________________________________\n",
      "bn5b_branch2a (BatchNormalizatio (None, 512, 11, 18)   2048        res5b_branch2a[0][0]             \n",
      "____________________________________________________________________________________________________\n",
      "activation_23 (Activation)       (None, 512, 11, 18)   0           bn5b_branch2a[0][0]              \n",
      "____________________________________________________________________________________________________\n",
      "res5b_branch2b (Conv2D)          (None, 512, 11, 18)   2359808     activation_23[0][0]              \n",
      "____________________________________________________________________________________________________\n",
      "bn5b_branch2b (BatchNormalizatio (None, 512, 11, 18)   2048        res5b_branch2b[0][0]             \n",
      "____________________________________________________________________________________________________\n",
      "activation_24 (Activation)       (None, 512, 11, 18)   0           bn5b_branch2b[0][0]              \n",
      "____________________________________________________________________________________________________\n",
      "add_8 (Add)                      (None, 512, 11, 18)   0           activation_24[0][0]              \n",
      "                                                                   activation_22[0][0]              \n",
      "____________________________________________________________________________________________________\n",
      "activation_25 (Activation)       (None, 512, 11, 18)   0           add_8[0][0]                      \n",
      "____________________________________________________________________________________________________\n",
      "avg_pool (AveragePooling2D)      (None, 512, 1, 2)     0           activation_25[0][0]              \n",
      "____________________________________________________________________________________________________\n",
      "flatten_1 (Flatten)              (None, 1024)          0           avg_pool[0][0]                   \n",
      "____________________________________________________________________________________________________\n",
      "fc (Dense)                       (None, 1)             1025        flatten_1[0][0]                  \n",
      "====================================================================================================\n"
     ]
    },
    {
     "name": "stdout",
     "output_type": "stream",
     "text": [
      "Total params: 11,196,353\n",
      "Trainable params: 11,186,625\n",
      "Non-trainable params: 9,728\n",
      "____________________________________________________________________________________________________\n"
     ]
    }
   ],
   "source": [
    "# test resnet\n",
    "model = resnet(input_shape=input_shape, filter_size=64)\n",
    "sgd = SGD(lr=1e-3, decay=1e-4, momentum=0.9, nesterov=True)\n",
    "model.compile(optimizer=sgd, loss='mse')\n",
    "model.summary()"
   ]
  },
  {
   "cell_type": "code",
   "execution_count": 12,
   "metadata": {
    "collapsed": true
   },
   "outputs": [],
   "source": [
    "# or load from saved model\n",
    "model = load_model(os.path.join(model_path, 'v5-resnet_v1-010-0.27778.h5'))"
   ]
  },
  {
   "cell_type": "markdown",
   "metadata": {},
   "source": [
    "### Define callback for training"
   ]
  },
  {
   "cell_type": "code",
   "execution_count": 13,
   "metadata": {
    "collapsed": true,
    "scrolled": true
   },
   "outputs": [],
   "source": [
    "# define callbacks\n",
    "cur_model = cur_file + '-resnet_v1'\n",
    "csv_logger = CSVLogger(os.path.join(log_path, cur_model + '.log'))\n",
    "\n",
    "model_file_name= os.path.join(model_path, cur_model + '-{epoch:03d}-{val_loss:.5f}.h5')\n",
    "checkpoint = ModelCheckpoint(model_file_name, verbose=0, save_best_only=True)"
   ]
  },
  {
   "cell_type": "markdown",
   "metadata": {},
   "source": [
    "### Train"
   ]
  },
  {
   "cell_type": "code",
   "execution_count": 14,
   "metadata": {
    "scrolled": true
   },
   "outputs": [
    {
     "name": "stdout",
     "output_type": "stream",
     "text": [
      "Epoch 6/25\n",
      "4622/4633 [============================>.] - ETA: 18s - loss: 1.3166shuffle\n",
      "4633/4633 [==============================] - 8801s - loss: 1.3172 - val_loss: 1.8076\n",
      "Epoch 7/25\n",
      "4621/4633 [============================>.] - ETA: 25s - loss: 0.6329shuffle\n",
      "4633/4633 [==============================] - 11619s - loss: 0.6320 - val_loss: 0.4160\n",
      "Epoch 8/25\n",
      "4620/4633 [============================>.] - ETA: 24s - loss: 0.9167shuffle\n",
      "4633/4633 [==============================] - 10119s - loss: 0.9152 - val_loss: 1.2214\n",
      "Epoch 9/25\n",
      "4620/4633 [============================>.] - ETA: 28s - loss: 0.3974shuffle\n",
      "4633/4633 [==============================] - 12252s - loss: 0.3974 - val_loss: 0.3197\n",
      "Epoch 10/25\n",
      "4619/4633 [============================>.] - ETA: 31s - loss: 0.3647shuffle\n",
      "4633/4633 [==============================] - 12009s - loss: 0.3646 - val_loss: 0.3917\n",
      "Epoch 11/25\n",
      "4618/4633 [============================>.] - ETA: 34s - loss: 0.3341shuffle\n",
      "4633/4633 [==============================] - 12856s - loss: 0.3339 - val_loss: 0.2778\n",
      "Epoch 12/25\n",
      "4618/4633 [============================>.] - ETA: 35s - loss: 0.3264shuffle\n",
      "4633/4633 [==============================] - 12997s - loss: 0.3265 - val_loss: 0.2985\n",
      "Epoch 13/25\n",
      "4617/4633 [============================>.] - ETA: 36s - loss: 0.3377shuffle\n",
      "4633/4633 [==============================] - 11752s - loss: 0.3371 - val_loss: 1.3476\n",
      "Epoch 14/25\n",
      " 206/4633 [>.............................] - ETA: 10725s - loss: 0.3638"
     ]
    },
    {
     "ename": "KeyboardInterrupt",
     "evalue": "",
     "output_type": "error",
     "traceback": [
      "\u001b[0;31m---------------------------------------------------------------------------\u001b[0m",
      "\u001b[0;31mKeyboardInterrupt\u001b[0m                         Traceback (most recent call last)",
      "\u001b[0;32m<ipython-input-14-16e4ec32cf8d>\u001b[0m in \u001b[0;36m<module>\u001b[0;34m()\u001b[0m\n\u001b[1;32m      6\u001b[0m                     \u001b[0mcallbacks\u001b[0m\u001b[0;34m=\u001b[0m\u001b[0;34m[\u001b[0m\u001b[0mcsv_logger\u001b[0m\u001b[0;34m,\u001b[0m \u001b[0mcheckpoint\u001b[0m\u001b[0;34m]\u001b[0m\u001b[0;34m,\u001b[0m\u001b[0;34m\u001b[0m\u001b[0m\n\u001b[1;32m      7\u001b[0m                     \u001b[0mvalidation_data\u001b[0m\u001b[0;34m=\u001b[0m\u001b[0mval_batch\u001b[0m\u001b[0;34m,\u001b[0m\u001b[0;34m\u001b[0m\u001b[0m\n\u001b[0;32m----> 8\u001b[0;31m                     validation_steps=val_steps)\n\u001b[0m",
      "\u001b[0;32m/home/im9uri/.local/lib/python2.7/site-packages/keras/legacy/interfaces.pyc\u001b[0m in \u001b[0;36mwrapper\u001b[0;34m(*args, **kwargs)\u001b[0m\n\u001b[1;32m     86\u001b[0m                 warnings.warn('Update your `' + object_name +\n\u001b[1;32m     87\u001b[0m                               '` call to the Keras 2 API: ' + signature, stacklevel=2)\n\u001b[0;32m---> 88\u001b[0;31m             \u001b[0;32mreturn\u001b[0m \u001b[0mfunc\u001b[0m\u001b[0;34m(\u001b[0m\u001b[0;34m*\u001b[0m\u001b[0margs\u001b[0m\u001b[0;34m,\u001b[0m \u001b[0;34m**\u001b[0m\u001b[0mkwargs\u001b[0m\u001b[0;34m)\u001b[0m\u001b[0;34m\u001b[0m\u001b[0m\n\u001b[0m\u001b[1;32m     89\u001b[0m         \u001b[0mwrapper\u001b[0m\u001b[0;34m.\u001b[0m\u001b[0m_legacy_support_signature\u001b[0m \u001b[0;34m=\u001b[0m \u001b[0minspect\u001b[0m\u001b[0;34m.\u001b[0m\u001b[0mgetargspec\u001b[0m\u001b[0;34m(\u001b[0m\u001b[0mfunc\u001b[0m\u001b[0;34m)\u001b[0m\u001b[0;34m\u001b[0m\u001b[0m\n\u001b[1;32m     90\u001b[0m         \u001b[0;32mreturn\u001b[0m \u001b[0mwrapper\u001b[0m\u001b[0;34m\u001b[0m\u001b[0m\n",
      "\u001b[0;32m/home/im9uri/.local/lib/python2.7/site-packages/keras/engine/training.pyc\u001b[0m in \u001b[0;36mfit_generator\u001b[0;34m(self, generator, steps_per_epoch, epochs, verbose, callbacks, validation_data, validation_steps, class_weight, max_q_size, workers, pickle_safe, initial_epoch)\u001b[0m\n\u001b[1;32m   1900\u001b[0m                     outs = self.train_on_batch(x, y,\n\u001b[1;32m   1901\u001b[0m                                                \u001b[0msample_weight\u001b[0m\u001b[0;34m=\u001b[0m\u001b[0msample_weight\u001b[0m\u001b[0;34m,\u001b[0m\u001b[0;34m\u001b[0m\u001b[0m\n\u001b[0;32m-> 1902\u001b[0;31m                                                class_weight=class_weight)\n\u001b[0m\u001b[1;32m   1903\u001b[0m \u001b[0;34m\u001b[0m\u001b[0m\n\u001b[1;32m   1904\u001b[0m                     \u001b[0;32mif\u001b[0m \u001b[0;32mnot\u001b[0m \u001b[0misinstance\u001b[0m\u001b[0;34m(\u001b[0m\u001b[0mouts\u001b[0m\u001b[0;34m,\u001b[0m \u001b[0mlist\u001b[0m\u001b[0;34m)\u001b[0m\u001b[0;34m:\u001b[0m\u001b[0;34m\u001b[0m\u001b[0m\n",
      "\u001b[0;32m/home/im9uri/.local/lib/python2.7/site-packages/keras/engine/training.pyc\u001b[0m in \u001b[0;36mtrain_on_batch\u001b[0;34m(self, x, y, sample_weight, class_weight)\u001b[0m\n\u001b[1;32m   1640\u001b[0m             \u001b[0mins\u001b[0m \u001b[0;34m=\u001b[0m \u001b[0mx\u001b[0m \u001b[0;34m+\u001b[0m \u001b[0my\u001b[0m \u001b[0;34m+\u001b[0m \u001b[0msample_weights\u001b[0m\u001b[0;34m\u001b[0m\u001b[0m\n\u001b[1;32m   1641\u001b[0m         \u001b[0mself\u001b[0m\u001b[0;34m.\u001b[0m\u001b[0m_make_train_function\u001b[0m\u001b[0;34m(\u001b[0m\u001b[0;34m)\u001b[0m\u001b[0;34m\u001b[0m\u001b[0m\n\u001b[0;32m-> 1642\u001b[0;31m         \u001b[0moutputs\u001b[0m \u001b[0;34m=\u001b[0m \u001b[0mself\u001b[0m\u001b[0;34m.\u001b[0m\u001b[0mtrain_function\u001b[0m\u001b[0;34m(\u001b[0m\u001b[0mins\u001b[0m\u001b[0;34m)\u001b[0m\u001b[0;34m\u001b[0m\u001b[0m\n\u001b[0m\u001b[1;32m   1643\u001b[0m         \u001b[0;32mif\u001b[0m \u001b[0mlen\u001b[0m\u001b[0;34m(\u001b[0m\u001b[0moutputs\u001b[0m\u001b[0;34m)\u001b[0m \u001b[0;34m==\u001b[0m \u001b[0;36m1\u001b[0m\u001b[0;34m:\u001b[0m\u001b[0;34m\u001b[0m\u001b[0m\n\u001b[1;32m   1644\u001b[0m             \u001b[0;32mreturn\u001b[0m \u001b[0moutputs\u001b[0m\u001b[0;34m[\u001b[0m\u001b[0;36m0\u001b[0m\u001b[0;34m]\u001b[0m\u001b[0;34m\u001b[0m\u001b[0m\n",
      "\u001b[0;32m/home/im9uri/.local/lib/python2.7/site-packages/keras/backend/theano_backend.pyc\u001b[0m in \u001b[0;36m__call__\u001b[0;34m(self, inputs)\u001b[0m\n\u001b[1;32m   1194\u001b[0m     \u001b[0;32mdef\u001b[0m \u001b[0m__call__\u001b[0m\u001b[0;34m(\u001b[0m\u001b[0mself\u001b[0m\u001b[0;34m,\u001b[0m \u001b[0minputs\u001b[0m\u001b[0;34m)\u001b[0m\u001b[0;34m:\u001b[0m\u001b[0;34m\u001b[0m\u001b[0m\n\u001b[1;32m   1195\u001b[0m         \u001b[0;32massert\u001b[0m \u001b[0misinstance\u001b[0m\u001b[0;34m(\u001b[0m\u001b[0minputs\u001b[0m\u001b[0;34m,\u001b[0m \u001b[0;34m(\u001b[0m\u001b[0mlist\u001b[0m\u001b[0;34m,\u001b[0m \u001b[0mtuple\u001b[0m\u001b[0;34m)\u001b[0m\u001b[0;34m)\u001b[0m\u001b[0;34m\u001b[0m\u001b[0m\n\u001b[0;32m-> 1196\u001b[0;31m         \u001b[0;32mreturn\u001b[0m \u001b[0mself\u001b[0m\u001b[0;34m.\u001b[0m\u001b[0mfunction\u001b[0m\u001b[0;34m(\u001b[0m\u001b[0;34m*\u001b[0m\u001b[0minputs\u001b[0m\u001b[0;34m)\u001b[0m\u001b[0;34m\u001b[0m\u001b[0m\n\u001b[0m\u001b[1;32m   1197\u001b[0m \u001b[0;34m\u001b[0m\u001b[0m\n\u001b[1;32m   1198\u001b[0m \u001b[0;34m\u001b[0m\u001b[0m\n",
      "\u001b[0;32m/home/im9uri/anaconda2/lib/python2.7/site-packages/theano/compile/function_module.pyc\u001b[0m in \u001b[0;36m__call__\u001b[0;34m(self, *args, **kwargs)\u001b[0m\n\u001b[1;32m    882\u001b[0m         \u001b[0;32mtry\u001b[0m\u001b[0;34m:\u001b[0m\u001b[0;34m\u001b[0m\u001b[0m\n\u001b[1;32m    883\u001b[0m             \u001b[0moutputs\u001b[0m \u001b[0;34m=\u001b[0m\u001b[0;31m\\\u001b[0m\u001b[0;34m\u001b[0m\u001b[0m\n\u001b[0;32m--> 884\u001b[0;31m                 \u001b[0mself\u001b[0m\u001b[0;34m.\u001b[0m\u001b[0mfn\u001b[0m\u001b[0;34m(\u001b[0m\u001b[0;34m)\u001b[0m \u001b[0;32mif\u001b[0m \u001b[0moutput_subset\u001b[0m \u001b[0;32mis\u001b[0m \u001b[0mNone\u001b[0m \u001b[0;32melse\u001b[0m\u001b[0;31m\\\u001b[0m\u001b[0;34m\u001b[0m\u001b[0m\n\u001b[0m\u001b[1;32m    885\u001b[0m                 \u001b[0mself\u001b[0m\u001b[0;34m.\u001b[0m\u001b[0mfn\u001b[0m\u001b[0;34m(\u001b[0m\u001b[0moutput_subset\u001b[0m\u001b[0;34m=\u001b[0m\u001b[0moutput_subset\u001b[0m\u001b[0;34m)\u001b[0m\u001b[0;34m\u001b[0m\u001b[0m\n\u001b[1;32m    886\u001b[0m         \u001b[0;32mexcept\u001b[0m \u001b[0mException\u001b[0m\u001b[0;34m:\u001b[0m\u001b[0;34m\u001b[0m\u001b[0m\n",
      "\u001b[0;32m/home/im9uri/anaconda2/lib/python2.7/site-packages/theano/ifelse.pyc\u001b[0m in \u001b[0;36mthunk\u001b[0;34m()\u001b[0m\n\u001b[1;32m    244\u001b[0m         \u001b[0moutputs\u001b[0m \u001b[0;34m=\u001b[0m \u001b[0mnode\u001b[0m\u001b[0;34m.\u001b[0m\u001b[0moutputs\u001b[0m\u001b[0;34m\u001b[0m\u001b[0m\n\u001b[1;32m    245\u001b[0m \u001b[0;34m\u001b[0m\u001b[0m\n\u001b[0;32m--> 246\u001b[0;31m         \u001b[0;32mdef\u001b[0m \u001b[0mthunk\u001b[0m\u001b[0;34m(\u001b[0m\u001b[0;34m)\u001b[0m\u001b[0;34m:\u001b[0m\u001b[0;34m\u001b[0m\u001b[0m\n\u001b[0m\u001b[1;32m    247\u001b[0m             \u001b[0;32mif\u001b[0m \u001b[0;32mnot\u001b[0m \u001b[0mcompute_map\u001b[0m\u001b[0;34m[\u001b[0m\u001b[0mcond\u001b[0m\u001b[0;34m]\u001b[0m\u001b[0;34m[\u001b[0m\u001b[0;36m0\u001b[0m\u001b[0;34m]\u001b[0m\u001b[0;34m:\u001b[0m\u001b[0;34m\u001b[0m\u001b[0m\n\u001b[1;32m    248\u001b[0m                 \u001b[0;32mreturn\u001b[0m \u001b[0;34m[\u001b[0m\u001b[0;36m0\u001b[0m\u001b[0;34m]\u001b[0m\u001b[0;34m\u001b[0m\u001b[0m\n",
      "\u001b[0;31mKeyboardInterrupt\u001b[0m: "
     ]
    }
   ],
   "source": [
    "model.fit_generator(train_batch, \n",
    "                    train_steps, \n",
    "                    initial_epoch=5,\n",
    "                    epochs=25, \n",
    "                    verbose=1, \n",
    "                    callbacks=[csv_logger, checkpoint], \n",
    "                    validation_data=val_batch, \n",
    "                    validation_steps=val_steps)"
   ]
  },
  {
   "cell_type": "code",
   "execution_count": null,
   "metadata": {
    "collapsed": true
   },
   "outputs": [],
   "source": []
  },
  {
   "cell_type": "code",
   "execution_count": 16,
   "metadata": {
    "collapsed": true
   },
   "outputs": [],
   "source": [
    "# save model if necessary\n",
    "# model.save(os.path.join(model_path, 'v5-resnet_v1-005-1.76802.h5'))"
   ]
  },
  {
   "cell_type": "code",
   "execution_count": null,
   "metadata": {
    "collapsed": true
   },
   "outputs": [],
   "source": [
    "# if needed, decrease lr\n",
    "# sgd = SGD(lr=1e-4, decay=1e-5, momentum=0.9, nesterov=True)\n",
    "# model.compile(optimizer=sgd, loss=\"mse\")"
   ]
  },
  {
   "cell_type": "code",
   "execution_count": null,
   "metadata": {
    "scrolled": true
   },
   "outputs": [
    {
     "name": "stdout",
     "output_type": "stream",
     "text": [
      "Epoch 12/25\n",
      "shuffle\n",
      "4632/4633 [============================>.] - ETA: 0s - loss: 0.2866shuffle\n",
      "4633/4633 [==============================] - 5317s - loss: 0.2865 - val_loss: 2.8598\n",
      "Epoch 13/25\n",
      "4633/4633 [==============================] - 11012s - loss: 0.9030 - val_loss: 0.2572\n",
      "Epoch 14/25\n",
      "4633/4633 [==============================] - 7981s - loss: 1.9710 - val_loss: 1.8519\n",
      "Epoch 15/25\n",
      "2268/4633 [=============>................] - ETA: 3499s - loss: 2.1239"
     ]
    }
   ],
   "source": [
    "# train again\n",
    "model.fit_generator(train_batch, \n",
    "                    train_steps, \n",
    "                    initial_epoch=11,\n",
    "                    epochs=25, \n",
    "                    verbose=1, \n",
    "                    callbacks=[csv_logger, checkpoint], \n",
    "                    validation_data=val_batch, \n",
    "                    validation_steps=val_steps)"
   ]
  },
  {
   "cell_type": "code",
   "execution_count": null,
   "metadata": {
    "collapsed": true
   },
   "outputs": [],
   "source": []
  },
  {
   "cell_type": "code",
   "execution_count": null,
   "metadata": {
    "collapsed": true
   },
   "outputs": [],
   "source": []
  },
  {
   "cell_type": "code",
   "execution_count": null,
   "metadata": {
    "collapsed": true
   },
   "outputs": [],
   "source": []
  },
  {
   "cell_type": "code",
   "execution_count": null,
   "metadata": {
    "collapsed": true
   },
   "outputs": [],
   "source": []
  }
 ],
 "metadata": {
  "kernelspec": {
   "display_name": "Python [conda root]",
   "language": "python",
   "name": "conda-root-py"
  },
  "language_info": {
   "codemirror_mode": {
    "name": "ipython",
    "version": 2
   },
   "file_extension": ".py",
   "mimetype": "text/x-python",
   "name": "python",
   "nbconvert_exporter": "python",
   "pygments_lexer": "ipython2",
   "version": "2.7.13"
  }
 },
 "nbformat": 4,
 "nbformat_minor": 1
}

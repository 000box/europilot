{
 "cells": [
  {
   "cell_type": "markdown",
   "metadata": {},
   "source": [
    "### Clean up data\n",
    "\n",
    "Sometimes, unwanted data needs to be deleted.\n",
    "Each of the screenshot data was manually checked, and was moved to the wrong/ directory"
   ]
  },
  {
   "cell_type": "code",
   "execution_count": 1,
   "metadata": {
    "collapsed": true
   },
   "outputs": [],
   "source": [
    "import pandas as pd"
   ]
  },
  {
   "cell_type": "code",
   "execution_count": 2,
   "metadata": {},
   "outputs": [
    {
     "name": "stdout",
     "output_type": "stream",
     "text": [
      "9d0c3c2b.csv  \u001b[0m\u001b[01;34mimg\u001b[0m/\r\n"
     ]
    }
   ],
   "source": [
    "%ls ../data"
   ]
  },
  {
   "cell_type": "code",
   "execution_count": 3,
   "metadata": {
    "scrolled": true
   },
   "outputs": [
    {
     "name": "stdout",
     "output_type": "stream",
     "text": [
      "12330 rows\n"
     ]
    },
    {
     "data": {
      "text/html": [
       "<div>\n",
       "<style>\n",
       "    .dataframe thead tr:only-child th {\n",
       "        text-align: right;\n",
       "    }\n",
       "\n",
       "    .dataframe thead th {\n",
       "        text-align: left;\n",
       "    }\n",
       "\n",
       "    .dataframe tbody tr th {\n",
       "        vertical-align: top;\n",
       "    }\n",
       "</style>\n",
       "<table border=\"1\" class=\"dataframe\">\n",
       "  <thead>\n",
       "    <tr style=\"text-align: right;\">\n",
       "      <th></th>\n",
       "      <th>id</th>\n",
       "      <th>img</th>\n",
       "      <th>wheel-axis</th>\n",
       "      <th>clutch</th>\n",
       "      <th>brake</th>\n",
       "      <th>gas</th>\n",
       "      <th>paddle-left</th>\n",
       "      <th>paddle-right</th>\n",
       "      <th>wheel-button-left-1</th>\n",
       "      <th>wheel-button-left-2</th>\n",
       "      <th>...</th>\n",
       "      <th>gear-1</th>\n",
       "      <th>gear-2</th>\n",
       "      <th>gear-3</th>\n",
       "      <th>gear-4</th>\n",
       "      <th>gear-5</th>\n",
       "      <th>gear-6</th>\n",
       "      <th>gear-R</th>\n",
       "      <th>front</th>\n",
       "      <th>side_left</th>\n",
       "      <th>side_right</th>\n",
       "    </tr>\n",
       "  </thead>\n",
       "  <tbody>\n",
       "    <tr>\n",
       "      <th>0</th>\n",
       "      <td>0</td>\n",
       "      <td>9d0c3c2b_2017_07_27_14_55_08_16.jpg</td>\n",
       "      <td>0</td>\n",
       "      <td>0</td>\n",
       "      <td>0</td>\n",
       "      <td>0</td>\n",
       "      <td>0</td>\n",
       "      <td>0</td>\n",
       "      <td>0</td>\n",
       "      <td>0</td>\n",
       "      <td>...</td>\n",
       "      <td>0</td>\n",
       "      <td>0</td>\n",
       "      <td>0</td>\n",
       "      <td>0</td>\n",
       "      <td>0</td>\n",
       "      <td>0</td>\n",
       "      <td>0</td>\n",
       "      <td>9d0c3c2b_2017_07_27_14_55_08_16_front.jpg</td>\n",
       "      <td>9d0c3c2b_2017_07_27_14_55_08_16_left.jpg</td>\n",
       "      <td>9d0c3c2b_2017_07_27_14_55_08_16_right.jpg</td>\n",
       "    </tr>\n",
       "    <tr>\n",
       "      <th>1</th>\n",
       "      <td>1</td>\n",
       "      <td>9d0c3c2b_2017_07_27_14_55_08_26.jpg</td>\n",
       "      <td>0</td>\n",
       "      <td>0</td>\n",
       "      <td>0</td>\n",
       "      <td>0</td>\n",
       "      <td>0</td>\n",
       "      <td>0</td>\n",
       "      <td>0</td>\n",
       "      <td>0</td>\n",
       "      <td>...</td>\n",
       "      <td>0</td>\n",
       "      <td>0</td>\n",
       "      <td>0</td>\n",
       "      <td>0</td>\n",
       "      <td>0</td>\n",
       "      <td>0</td>\n",
       "      <td>0</td>\n",
       "      <td>9d0c3c2b_2017_07_27_14_55_08_26_front.jpg</td>\n",
       "      <td>9d0c3c2b_2017_07_27_14_55_08_26_left.jpg</td>\n",
       "      <td>9d0c3c2b_2017_07_27_14_55_08_26_right.jpg</td>\n",
       "    </tr>\n",
       "    <tr>\n",
       "      <th>2</th>\n",
       "      <td>2</td>\n",
       "      <td>9d0c3c2b_2017_07_27_14_55_08_36.jpg</td>\n",
       "      <td>0</td>\n",
       "      <td>0</td>\n",
       "      <td>0</td>\n",
       "      <td>0</td>\n",
       "      <td>0</td>\n",
       "      <td>0</td>\n",
       "      <td>0</td>\n",
       "      <td>0</td>\n",
       "      <td>...</td>\n",
       "      <td>0</td>\n",
       "      <td>0</td>\n",
       "      <td>0</td>\n",
       "      <td>0</td>\n",
       "      <td>0</td>\n",
       "      <td>0</td>\n",
       "      <td>0</td>\n",
       "      <td>9d0c3c2b_2017_07_27_14_55_08_36_front.jpg</td>\n",
       "      <td>9d0c3c2b_2017_07_27_14_55_08_36_left.jpg</td>\n",
       "      <td>9d0c3c2b_2017_07_27_14_55_08_36_right.jpg</td>\n",
       "    </tr>\n",
       "  </tbody>\n",
       "</table>\n",
       "<p>3 rows × 34 columns</p>\n",
       "</div>"
      ],
      "text/plain": [
       "  id                                  img wheel-axis clutch brake gas  \\\n",
       "0  0  9d0c3c2b_2017_07_27_14_55_08_16.jpg          0      0     0   0   \n",
       "1  1  9d0c3c2b_2017_07_27_14_55_08_26.jpg          0      0     0   0   \n",
       "2  2  9d0c3c2b_2017_07_27_14_55_08_36.jpg          0      0     0   0   \n",
       "\n",
       "  paddle-left paddle-right wheel-button-left-1 wheel-button-left-2  \\\n",
       "0           0            0                   0                   0   \n",
       "1           0            0                   0                   0   \n",
       "2           0            0                   0                   0   \n",
       "\n",
       "                     ...                     gear-1 gear-2 gear-3 gear-4  \\\n",
       "0                    ...                          0      0      0      0   \n",
       "1                    ...                          0      0      0      0   \n",
       "2                    ...                          0      0      0      0   \n",
       "\n",
       "  gear-5 gear-6 gear-R                                      front  \\\n",
       "0      0      0      0  9d0c3c2b_2017_07_27_14_55_08_16_front.jpg   \n",
       "1      0      0      0  9d0c3c2b_2017_07_27_14_55_08_26_front.jpg   \n",
       "2      0      0      0  9d0c3c2b_2017_07_27_14_55_08_36_front.jpg   \n",
       "\n",
       "                                  side_left  \\\n",
       "0  9d0c3c2b_2017_07_27_14_55_08_16_left.jpg   \n",
       "1  9d0c3c2b_2017_07_27_14_55_08_26_left.jpg   \n",
       "2  9d0c3c2b_2017_07_27_14_55_08_36_left.jpg   \n",
       "\n",
       "                                  side_right  \n",
       "0  9d0c3c2b_2017_07_27_14_55_08_16_right.jpg  \n",
       "1  9d0c3c2b_2017_07_27_14_55_08_26_right.jpg  \n",
       "2  9d0c3c2b_2017_07_27_14_55_08_36_right.jpg  \n",
       "\n",
       "[3 rows x 34 columns]"
      ]
     },
     "execution_count": 3,
     "metadata": {},
     "output_type": "execute_result"
    }
   ],
   "source": [
    "df = pd.read_csv('../data/9d0c3c2b.csv', header=0)\n",
    "print(\"%d rows\" % df.shape[0])\n",
    "df.head(3)"
   ]
  },
  {
   "cell_type": "markdown",
   "metadata": {},
   "source": [
    "Get wrong image list"
   ]
  },
  {
   "cell_type": "code",
   "execution_count": 4,
   "metadata": {
    "collapsed": true
   },
   "outputs": [],
   "source": [
    "import os"
   ]
  },
  {
   "cell_type": "code",
   "execution_count": 8,
   "metadata": {},
   "outputs": [],
   "source": [
    "wrong_list = os.listdir('../data/img/wrong')"
   ]
  },
  {
   "cell_type": "code",
   "execution_count": 20,
   "metadata": {},
   "outputs": [
    {
     "data": {
      "text/plain": [
       "115"
      ]
     },
     "execution_count": 20,
     "metadata": {},
     "output_type": "execute_result"
    }
   ],
   "source": [
    "len(wrong_list)"
   ]
  },
  {
   "cell_type": "markdown",
   "metadata": {},
   "source": [
    "Get index of each wrong image"
   ]
  },
  {
   "cell_type": "code",
   "execution_count": 51,
   "metadata": {
    "collapsed": true
   },
   "outputs": [],
   "source": [
    "def get_index(i):\n",
    "    return df[df['img'] == i].index.tolist()[0]"
   ]
  },
  {
   "cell_type": "code",
   "execution_count": 54,
   "metadata": {},
   "outputs": [],
   "source": [
    "wrong_list_index = [get_index(i) for i in wrong_list]"
   ]
  },
  {
   "cell_type": "markdown",
   "metadata": {},
   "source": [
    "Remove the rows, and save the modified csv file"
   ]
  },
  {
   "cell_type": "code",
   "execution_count": 59,
   "metadata": {},
   "outputs": [],
   "source": [
    "df = df.drop(df.index[wrong_list_index])"
   ]
  },
  {
   "cell_type": "code",
   "execution_count": 61,
   "metadata": {},
   "outputs": [],
   "source": [
    "df.to_csv('../data/9d0c3c2b.csv', index=False)"
   ]
  },
  {
   "cell_type": "markdown",
   "metadata": {},
   "source": [
    "Check to see that it was saved well"
   ]
  },
  {
   "cell_type": "code",
   "execution_count": 62,
   "metadata": {},
   "outputs": [
    {
     "name": "stdout",
     "output_type": "stream",
     "text": [
      "12215 rows\n"
     ]
    },
    {
     "data": {
      "text/html": [
       "<div>\n",
       "<style>\n",
       "    .dataframe thead tr:only-child th {\n",
       "        text-align: right;\n",
       "    }\n",
       "\n",
       "    .dataframe thead th {\n",
       "        text-align: left;\n",
       "    }\n",
       "\n",
       "    .dataframe tbody tr th {\n",
       "        vertical-align: top;\n",
       "    }\n",
       "</style>\n",
       "<table border=\"1\" class=\"dataframe\">\n",
       "  <thead>\n",
       "    <tr style=\"text-align: right;\">\n",
       "      <th></th>\n",
       "      <th>id</th>\n",
       "      <th>img</th>\n",
       "      <th>wheel-axis</th>\n",
       "      <th>clutch</th>\n",
       "      <th>brake</th>\n",
       "      <th>gas</th>\n",
       "      <th>paddle-left</th>\n",
       "      <th>paddle-right</th>\n",
       "      <th>wheel-button-left-1</th>\n",
       "      <th>wheel-button-left-2</th>\n",
       "      <th>...</th>\n",
       "      <th>gear-1</th>\n",
       "      <th>gear-2</th>\n",
       "      <th>gear-3</th>\n",
       "      <th>gear-4</th>\n",
       "      <th>gear-5</th>\n",
       "      <th>gear-6</th>\n",
       "      <th>gear-R</th>\n",
       "      <th>front</th>\n",
       "      <th>side_left</th>\n",
       "      <th>side_right</th>\n",
       "    </tr>\n",
       "  </thead>\n",
       "  <tbody>\n",
       "    <tr>\n",
       "      <th>0</th>\n",
       "      <td>0</td>\n",
       "      <td>9d0c3c2b_2017_07_27_14_55_08_16.jpg</td>\n",
       "      <td>0</td>\n",
       "      <td>0</td>\n",
       "      <td>0</td>\n",
       "      <td>0</td>\n",
       "      <td>0</td>\n",
       "      <td>0</td>\n",
       "      <td>0</td>\n",
       "      <td>0</td>\n",
       "      <td>...</td>\n",
       "      <td>0</td>\n",
       "      <td>0</td>\n",
       "      <td>0</td>\n",
       "      <td>0</td>\n",
       "      <td>0</td>\n",
       "      <td>0</td>\n",
       "      <td>0</td>\n",
       "      <td>9d0c3c2b_2017_07_27_14_55_08_16_front.jpg</td>\n",
       "      <td>9d0c3c2b_2017_07_27_14_55_08_16_left.jpg</td>\n",
       "      <td>9d0c3c2b_2017_07_27_14_55_08_16_right.jpg</td>\n",
       "    </tr>\n",
       "    <tr>\n",
       "      <th>1</th>\n",
       "      <td>1</td>\n",
       "      <td>9d0c3c2b_2017_07_27_14_55_08_26.jpg</td>\n",
       "      <td>0</td>\n",
       "      <td>0</td>\n",
       "      <td>0</td>\n",
       "      <td>0</td>\n",
       "      <td>0</td>\n",
       "      <td>0</td>\n",
       "      <td>0</td>\n",
       "      <td>0</td>\n",
       "      <td>...</td>\n",
       "      <td>0</td>\n",
       "      <td>0</td>\n",
       "      <td>0</td>\n",
       "      <td>0</td>\n",
       "      <td>0</td>\n",
       "      <td>0</td>\n",
       "      <td>0</td>\n",
       "      <td>9d0c3c2b_2017_07_27_14_55_08_26_front.jpg</td>\n",
       "      <td>9d0c3c2b_2017_07_27_14_55_08_26_left.jpg</td>\n",
       "      <td>9d0c3c2b_2017_07_27_14_55_08_26_right.jpg</td>\n",
       "    </tr>\n",
       "    <tr>\n",
       "      <th>2</th>\n",
       "      <td>2</td>\n",
       "      <td>9d0c3c2b_2017_07_27_14_55_08_36.jpg</td>\n",
       "      <td>0</td>\n",
       "      <td>0</td>\n",
       "      <td>0</td>\n",
       "      <td>0</td>\n",
       "      <td>0</td>\n",
       "      <td>0</td>\n",
       "      <td>0</td>\n",
       "      <td>0</td>\n",
       "      <td>...</td>\n",
       "      <td>0</td>\n",
       "      <td>0</td>\n",
       "      <td>0</td>\n",
       "      <td>0</td>\n",
       "      <td>0</td>\n",
       "      <td>0</td>\n",
       "      <td>0</td>\n",
       "      <td>9d0c3c2b_2017_07_27_14_55_08_36_front.jpg</td>\n",
       "      <td>9d0c3c2b_2017_07_27_14_55_08_36_left.jpg</td>\n",
       "      <td>9d0c3c2b_2017_07_27_14_55_08_36_right.jpg</td>\n",
       "    </tr>\n",
       "  </tbody>\n",
       "</table>\n",
       "<p>3 rows × 34 columns</p>\n",
       "</div>"
      ],
      "text/plain": [
       "  id                                  img wheel-axis clutch brake gas  \\\n",
       "0  0  9d0c3c2b_2017_07_27_14_55_08_16.jpg          0      0     0   0   \n",
       "1  1  9d0c3c2b_2017_07_27_14_55_08_26.jpg          0      0     0   0   \n",
       "2  2  9d0c3c2b_2017_07_27_14_55_08_36.jpg          0      0     0   0   \n",
       "\n",
       "  paddle-left paddle-right wheel-button-left-1 wheel-button-left-2  \\\n",
       "0           0            0                   0                   0   \n",
       "1           0            0                   0                   0   \n",
       "2           0            0                   0                   0   \n",
       "\n",
       "                     ...                     gear-1 gear-2 gear-3 gear-4  \\\n",
       "0                    ...                          0      0      0      0   \n",
       "1                    ...                          0      0      0      0   \n",
       "2                    ...                          0      0      0      0   \n",
       "\n",
       "  gear-5 gear-6 gear-R                                      front  \\\n",
       "0      0      0      0  9d0c3c2b_2017_07_27_14_55_08_16_front.jpg   \n",
       "1      0      0      0  9d0c3c2b_2017_07_27_14_55_08_26_front.jpg   \n",
       "2      0      0      0  9d0c3c2b_2017_07_27_14_55_08_36_front.jpg   \n",
       "\n",
       "                                  side_left  \\\n",
       "0  9d0c3c2b_2017_07_27_14_55_08_16_left.jpg   \n",
       "1  9d0c3c2b_2017_07_27_14_55_08_26_left.jpg   \n",
       "2  9d0c3c2b_2017_07_27_14_55_08_36_left.jpg   \n",
       "\n",
       "                                  side_right  \n",
       "0  9d0c3c2b_2017_07_27_14_55_08_16_right.jpg  \n",
       "1  9d0c3c2b_2017_07_27_14_55_08_26_right.jpg  \n",
       "2  9d0c3c2b_2017_07_27_14_55_08_36_right.jpg  \n",
       "\n",
       "[3 rows x 34 columns]"
      ]
     },
     "execution_count": 62,
     "metadata": {},
     "output_type": "execute_result"
    }
   ],
   "source": [
    "df = pd.read_csv('../data/9d0c3c2b.csv', header=0)\n",
    "print(\"%d rows\" % df.shape[0])\n",
    "df.head(3)"
   ]
  },
  {
   "cell_type": "code",
   "execution_count": null,
   "metadata": {
    "collapsed": true
   },
   "outputs": [],
   "source": []
  },
  {
   "cell_type": "markdown",
   "metadata": {},
   "source": [
    "Remove the wrong image files"
   ]
  },
  {
   "cell_type": "code",
   "execution_count": 63,
   "metadata": {
    "collapsed": true
   },
   "outputs": [],
   "source": [
    "!rm ../data/img/wrong/*"
   ]
  },
  {
   "cell_type": "code",
   "execution_count": null,
   "metadata": {
    "collapsed": true
   },
   "outputs": [],
   "source": []
  }
 ],
 "metadata": {
  "kernelspec": {
   "display_name": "Python [conda root]",
   "language": "python",
   "name": "conda-root-py"
  },
  "language_info": {
   "codemirror_mode": {
    "name": "ipython",
    "version": 2
   },
   "file_extension": ".py",
   "mimetype": "text/x-python",
   "name": "python",
   "nbconvert_exporter": "python",
   "pygments_lexer": "ipython2",
   "version": "2.7.13"
  }
 },
 "nbformat": 4,
 "nbformat_minor": 2
}

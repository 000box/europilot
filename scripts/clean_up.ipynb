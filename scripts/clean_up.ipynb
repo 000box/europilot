{
 "cells": [
  {
   "cell_type": "markdown",
   "metadata": {},
   "source": [
    "### Clean up data\n",
    "\n",
    "Sometimes, unwanted data needs to be deleted.\n",
    "Each of the screenshot data was manually checked, and was moved to the wrong/ directory"
   ]
  },
  {
   "cell_type": "code",
   "execution_count": 1,
   "metadata": {
    "scrolled": true
   },
   "outputs": [
    {
     "name": "stdout",
     "output_type": "stream",
     "text": [
      "합계 2.8M\r\n",
      "-rw-rw-r-- 1 im9uri im9uri 2.8M  8월  8 15:33 3f80cca8.csv\r\n",
      "drwxrwxr-x 2 im9uri im9uri 4.0K  8월  8 11:53 \u001b[0m\u001b[01;34mfinal\u001b[0m/\r\n",
      "drwxrwxr-x 2 im9uri im9uri 4.0K  8월  8 15:10 \u001b[01;34mpreprocess\u001b[0m/\r\n"
     ]
    }
   ],
   "source": [
    "%ls -lh ../data/csv"
   ]
  },
  {
   "cell_type": "code",
   "execution_count": 2,
   "metadata": {
    "collapsed": true
   },
   "outputs": [],
   "source": [
    "import pandas as pd\n",
    "import os"
   ]
  },
  {
   "cell_type": "code",
   "execution_count": 3,
   "metadata": {},
   "outputs": [
    {
     "data": {
      "text/plain": [
       "'/home/im9uri/PycharmProjects/europilot'"
      ]
     },
     "execution_count": 3,
     "metadata": {},
     "output_type": "execute_result"
    }
   ],
   "source": [
    "os.path.dirname(os.getcwd())"
   ]
  },
  {
   "cell_type": "code",
   "execution_count": 4,
   "metadata": {
    "collapsed": true
   },
   "outputs": [],
   "source": [
    "parent_path = os.path.dirname(os.getcwd())\n",
    "\n",
    "csv_file = '3f80cca8'\n",
    "csv_file_name = csv_file + '.csv'\n",
    "csv_dir_path = os.path.join(parent_path, 'data', 'csv')\n",
    "csv_file_path = os.path.join(csv_dir_path, csv_file_name)\n",
    "\n",
    "img_dir_path =  os.path.join(parent_path, 'data', 'img', 'raw')\n",
    "img_output_dir_path = os.path.join(img_dir_path, csv_file)\n",
    "img_wrong_dir_path = os.path.join(parent_path, 'data', 'img', 'wrong')"
   ]
  },
  {
   "cell_type": "code",
   "execution_count": 5,
   "metadata": {
    "scrolled": false
   },
   "outputs": [
    {
     "name": "stdout",
     "output_type": "stream",
     "text": [
      "29092 rows\n"
     ]
    },
    {
     "data": {
      "text/html": [
       "<div>\n",
       "<style>\n",
       "    .dataframe thead tr:only-child th {\n",
       "        text-align: right;\n",
       "    }\n",
       "\n",
       "    .dataframe thead th {\n",
       "        text-align: left;\n",
       "    }\n",
       "\n",
       "    .dataframe tbody tr th {\n",
       "        vertical-align: top;\n",
       "    }\n",
       "</style>\n",
       "<table border=\"1\" class=\"dataframe\">\n",
       "  <thead>\n",
       "    <tr style=\"text-align: right;\">\n",
       "      <th></th>\n",
       "      <th>img</th>\n",
       "      <th>wheel-axis</th>\n",
       "      <th>clutch</th>\n",
       "      <th>brake</th>\n",
       "      <th>gas</th>\n",
       "      <th>paddle-left</th>\n",
       "      <th>paddle-right</th>\n",
       "      <th>wheel-button-left-1</th>\n",
       "      <th>wheel-button-left-2</th>\n",
       "      <th>wheel-button-left-3</th>\n",
       "      <th>...</th>\n",
       "      <th>shifter-button-2</th>\n",
       "      <th>shifter-button-3</th>\n",
       "      <th>shifter-button-4</th>\n",
       "      <th>gear-1</th>\n",
       "      <th>gear-2</th>\n",
       "      <th>gear-3</th>\n",
       "      <th>gear-4</th>\n",
       "      <th>gear-5</th>\n",
       "      <th>gear-6</th>\n",
       "      <th>gear-R</th>\n",
       "    </tr>\n",
       "  </thead>\n",
       "  <tbody>\n",
       "    <tr>\n",
       "      <th>0</th>\n",
       "      <td>3f80cca8_2017_08_08_13_48_32_14.jpg</td>\n",
       "      <td>0</td>\n",
       "      <td>14448</td>\n",
       "      <td>0</td>\n",
       "      <td>0</td>\n",
       "      <td>0</td>\n",
       "      <td>0</td>\n",
       "      <td>0</td>\n",
       "      <td>0</td>\n",
       "      <td>0</td>\n",
       "      <td>...</td>\n",
       "      <td>0</td>\n",
       "      <td>0</td>\n",
       "      <td>0</td>\n",
       "      <td>0</td>\n",
       "      <td>0</td>\n",
       "      <td>0</td>\n",
       "      <td>0</td>\n",
       "      <td>0</td>\n",
       "      <td>0</td>\n",
       "      <td>0</td>\n",
       "    </tr>\n",
       "    <tr>\n",
       "      <th>1</th>\n",
       "      <td>3f80cca8_2017_08_08_13_48_32_24.jpg</td>\n",
       "      <td>0</td>\n",
       "      <td>15222</td>\n",
       "      <td>0</td>\n",
       "      <td>0</td>\n",
       "      <td>0</td>\n",
       "      <td>0</td>\n",
       "      <td>0</td>\n",
       "      <td>0</td>\n",
       "      <td>0</td>\n",
       "      <td>...</td>\n",
       "      <td>0</td>\n",
       "      <td>0</td>\n",
       "      <td>0</td>\n",
       "      <td>0</td>\n",
       "      <td>0</td>\n",
       "      <td>0</td>\n",
       "      <td>0</td>\n",
       "      <td>0</td>\n",
       "      <td>0</td>\n",
       "      <td>0</td>\n",
       "    </tr>\n",
       "    <tr>\n",
       "      <th>2</th>\n",
       "      <td>3f80cca8_2017_08_08_13_48_32_34.jpg</td>\n",
       "      <td>0</td>\n",
       "      <td>15222</td>\n",
       "      <td>0</td>\n",
       "      <td>0</td>\n",
       "      <td>0</td>\n",
       "      <td>0</td>\n",
       "      <td>0</td>\n",
       "      <td>0</td>\n",
       "      <td>0</td>\n",
       "      <td>...</td>\n",
       "      <td>0</td>\n",
       "      <td>0</td>\n",
       "      <td>0</td>\n",
       "      <td>0</td>\n",
       "      <td>0</td>\n",
       "      <td>0</td>\n",
       "      <td>0</td>\n",
       "      <td>0</td>\n",
       "      <td>0</td>\n",
       "      <td>0</td>\n",
       "    </tr>\n",
       "  </tbody>\n",
       "</table>\n",
       "<p>3 rows × 30 columns</p>\n",
       "</div>"
      ],
      "text/plain": [
       "                                   img  wheel-axis  clutch  brake  gas  \\\n",
       "0  3f80cca8_2017_08_08_13_48_32_14.jpg           0   14448      0    0   \n",
       "1  3f80cca8_2017_08_08_13_48_32_24.jpg           0   15222      0    0   \n",
       "2  3f80cca8_2017_08_08_13_48_32_34.jpg           0   15222      0    0   \n",
       "\n",
       "   paddle-left  paddle-right  wheel-button-left-1  wheel-button-left-2  \\\n",
       "0            0             0                    0                    0   \n",
       "1            0             0                    0                    0   \n",
       "2            0             0                    0                    0   \n",
       "\n",
       "   wheel-button-left-3   ...    shifter-button-2  shifter-button-3  \\\n",
       "0                    0   ...                   0                 0   \n",
       "1                    0   ...                   0                 0   \n",
       "2                    0   ...                   0                 0   \n",
       "\n",
       "   shifter-button-4  gear-1  gear-2  gear-3  gear-4  gear-5  gear-6  gear-R  \n",
       "0                 0       0       0       0       0       0       0       0  \n",
       "1                 0       0       0       0       0       0       0       0  \n",
       "2                 0       0       0       0       0       0       0       0  \n",
       "\n",
       "[3 rows x 30 columns]"
      ]
     },
     "execution_count": 5,
     "metadata": {},
     "output_type": "execute_result"
    }
   ],
   "source": [
    "df = pd.read_csv(csv_file_path, header=0)\n",
    "old_rows_count = df.shape[0]\n",
    "print(\"%d rows\" % df.shape[0])\n",
    "df.head(3)"
   ]
  },
  {
   "cell_type": "code",
   "execution_count": null,
   "metadata": {
    "collapsed": true
   },
   "outputs": [],
   "source": []
  },
  {
   "cell_type": "markdown",
   "metadata": {},
   "source": [
    "Get wrong image list"
   ]
  },
  {
   "cell_type": "code",
   "execution_count": 6,
   "metadata": {
    "collapsed": true
   },
   "outputs": [],
   "source": [
    "wrong_list = os.listdir(img_wrong_dir_path)"
   ]
  },
  {
   "cell_type": "code",
   "execution_count": 7,
   "metadata": {
    "collapsed": true
   },
   "outputs": [],
   "source": [
    "wrong_list = [x for x in wrong_list if csv_file in x]"
   ]
  },
  {
   "cell_type": "code",
   "execution_count": 8,
   "metadata": {},
   "outputs": [
    {
     "data": {
      "text/plain": [
       "1325"
      ]
     },
     "execution_count": 8,
     "metadata": {},
     "output_type": "execute_result"
    }
   ],
   "source": [
    "len(wrong_list)"
   ]
  },
  {
   "cell_type": "markdown",
   "metadata": {},
   "source": [
    "Get index of each wrong image"
   ]
  },
  {
   "cell_type": "code",
   "execution_count": 9,
   "metadata": {
    "collapsed": true
   },
   "outputs": [],
   "source": [
    "def get_index(i):\n",
    "    return df[df['img'] == i].index.tolist()[0]"
   ]
  },
  {
   "cell_type": "code",
   "execution_count": 10,
   "metadata": {
    "collapsed": true
   },
   "outputs": [],
   "source": [
    "wrong_list_index = [get_index(i) for i in wrong_list]"
   ]
  },
  {
   "cell_type": "markdown",
   "metadata": {},
   "source": [
    "Remove the rows, and save the modified csv file"
   ]
  },
  {
   "cell_type": "code",
   "execution_count": 11,
   "metadata": {
    "collapsed": true
   },
   "outputs": [],
   "source": [
    "df = df.drop(df.index[wrong_list_index])"
   ]
  },
  {
   "cell_type": "code",
   "execution_count": 12,
   "metadata": {},
   "outputs": [
    {
     "data": {
      "text/plain": [
       "27767"
      ]
     },
     "execution_count": 12,
     "metadata": {},
     "output_type": "execute_result"
    }
   ],
   "source": [
    "df.shape[0]"
   ]
  },
  {
   "cell_type": "code",
   "execution_count": 13,
   "metadata": {
    "collapsed": true
   },
   "outputs": [],
   "source": [
    "assert(df.shape[0] + len(wrong_list) == old_rows_count)"
   ]
  },
  {
   "cell_type": "code",
   "execution_count": 14,
   "metadata": {
    "collapsed": true
   },
   "outputs": [],
   "source": [
    "df.to_csv(csv_file_path, index=False)"
   ]
  },
  {
   "cell_type": "markdown",
   "metadata": {},
   "source": [
    "Check to see that it was saved well"
   ]
  },
  {
   "cell_type": "code",
   "execution_count": 15,
   "metadata": {},
   "outputs": [
    {
     "name": "stdout",
     "output_type": "stream",
     "text": [
      "27767 rows\n"
     ]
    },
    {
     "data": {
      "text/html": [
       "<div>\n",
       "<style>\n",
       "    .dataframe thead tr:only-child th {\n",
       "        text-align: right;\n",
       "    }\n",
       "\n",
       "    .dataframe thead th {\n",
       "        text-align: left;\n",
       "    }\n",
       "\n",
       "    .dataframe tbody tr th {\n",
       "        vertical-align: top;\n",
       "    }\n",
       "</style>\n",
       "<table border=\"1\" class=\"dataframe\">\n",
       "  <thead>\n",
       "    <tr style=\"text-align: right;\">\n",
       "      <th></th>\n",
       "      <th>img</th>\n",
       "      <th>wheel-axis</th>\n",
       "      <th>clutch</th>\n",
       "      <th>brake</th>\n",
       "      <th>gas</th>\n",
       "      <th>paddle-left</th>\n",
       "      <th>paddle-right</th>\n",
       "      <th>wheel-button-left-1</th>\n",
       "      <th>wheel-button-left-2</th>\n",
       "      <th>wheel-button-left-3</th>\n",
       "      <th>...</th>\n",
       "      <th>shifter-button-2</th>\n",
       "      <th>shifter-button-3</th>\n",
       "      <th>shifter-button-4</th>\n",
       "      <th>gear-1</th>\n",
       "      <th>gear-2</th>\n",
       "      <th>gear-3</th>\n",
       "      <th>gear-4</th>\n",
       "      <th>gear-5</th>\n",
       "      <th>gear-6</th>\n",
       "      <th>gear-R</th>\n",
       "    </tr>\n",
       "  </thead>\n",
       "  <tbody>\n",
       "    <tr>\n",
       "      <th>0</th>\n",
       "      <td>3f80cca8_2017_08_08_13_48_32_14.jpg</td>\n",
       "      <td>0</td>\n",
       "      <td>14448</td>\n",
       "      <td>0</td>\n",
       "      <td>0</td>\n",
       "      <td>0</td>\n",
       "      <td>0</td>\n",
       "      <td>0</td>\n",
       "      <td>0</td>\n",
       "      <td>0</td>\n",
       "      <td>...</td>\n",
       "      <td>0</td>\n",
       "      <td>0</td>\n",
       "      <td>0</td>\n",
       "      <td>0</td>\n",
       "      <td>0</td>\n",
       "      <td>0</td>\n",
       "      <td>0</td>\n",
       "      <td>0</td>\n",
       "      <td>0</td>\n",
       "      <td>0</td>\n",
       "    </tr>\n",
       "    <tr>\n",
       "      <th>1</th>\n",
       "      <td>3f80cca8_2017_08_08_13_48_32_24.jpg</td>\n",
       "      <td>0</td>\n",
       "      <td>15222</td>\n",
       "      <td>0</td>\n",
       "      <td>0</td>\n",
       "      <td>0</td>\n",
       "      <td>0</td>\n",
       "      <td>0</td>\n",
       "      <td>0</td>\n",
       "      <td>0</td>\n",
       "      <td>...</td>\n",
       "      <td>0</td>\n",
       "      <td>0</td>\n",
       "      <td>0</td>\n",
       "      <td>0</td>\n",
       "      <td>0</td>\n",
       "      <td>0</td>\n",
       "      <td>0</td>\n",
       "      <td>0</td>\n",
       "      <td>0</td>\n",
       "      <td>0</td>\n",
       "    </tr>\n",
       "    <tr>\n",
       "      <th>2</th>\n",
       "      <td>3f80cca8_2017_08_08_13_48_32_34.jpg</td>\n",
       "      <td>0</td>\n",
       "      <td>15222</td>\n",
       "      <td>0</td>\n",
       "      <td>0</td>\n",
       "      <td>0</td>\n",
       "      <td>0</td>\n",
       "      <td>0</td>\n",
       "      <td>0</td>\n",
       "      <td>0</td>\n",
       "      <td>...</td>\n",
       "      <td>0</td>\n",
       "      <td>0</td>\n",
       "      <td>0</td>\n",
       "      <td>0</td>\n",
       "      <td>0</td>\n",
       "      <td>0</td>\n",
       "      <td>0</td>\n",
       "      <td>0</td>\n",
       "      <td>0</td>\n",
       "      <td>0</td>\n",
       "    </tr>\n",
       "  </tbody>\n",
       "</table>\n",
       "<p>3 rows × 30 columns</p>\n",
       "</div>"
      ],
      "text/plain": [
       "                                   img  wheel-axis  clutch  brake  gas  \\\n",
       "0  3f80cca8_2017_08_08_13_48_32_14.jpg           0   14448      0    0   \n",
       "1  3f80cca8_2017_08_08_13_48_32_24.jpg           0   15222      0    0   \n",
       "2  3f80cca8_2017_08_08_13_48_32_34.jpg           0   15222      0    0   \n",
       "\n",
       "   paddle-left  paddle-right  wheel-button-left-1  wheel-button-left-2  \\\n",
       "0            0             0                    0                    0   \n",
       "1            0             0                    0                    0   \n",
       "2            0             0                    0                    0   \n",
       "\n",
       "   wheel-button-left-3   ...    shifter-button-2  shifter-button-3  \\\n",
       "0                    0   ...                   0                 0   \n",
       "1                    0   ...                   0                 0   \n",
       "2                    0   ...                   0                 0   \n",
       "\n",
       "   shifter-button-4  gear-1  gear-2  gear-3  gear-4  gear-5  gear-6  gear-R  \n",
       "0                 0       0       0       0       0       0       0       0  \n",
       "1                 0       0       0       0       0       0       0       0  \n",
       "2                 0       0       0       0       0       0       0       0  \n",
       "\n",
       "[3 rows x 30 columns]"
      ]
     },
     "execution_count": 15,
     "metadata": {},
     "output_type": "execute_result"
    }
   ],
   "source": [
    "df = pd.read_csv(csv_file_path, header=0)\n",
    "print(\"%d rows\" % df.shape[0])\n",
    "df.head(3)"
   ]
  },
  {
   "cell_type": "code",
   "execution_count": null,
   "metadata": {
    "collapsed": true
   },
   "outputs": [],
   "source": []
  },
  {
   "cell_type": "markdown",
   "metadata": {
    "collapsed": true
   },
   "source": [
    "Move img files to respective output directory. (To indicate that we have looked at the images, and removed the \"wrong\" images)"
   ]
  },
  {
   "cell_type": "code",
   "execution_count": 16,
   "metadata": {
    "collapsed": true
   },
   "outputs": [],
   "source": [
    "if not os.path.exists(img_output_dir_path):\n",
    "    os.makedirs(img_output_dir_path)"
   ]
  },
  {
   "cell_type": "code",
   "execution_count": 25,
   "metadata": {
    "collapsed": true
   },
   "outputs": [],
   "source": [
    "for f in df['img']:\n",
    "    old_path = os.path.join(img_dir_path, f)\n",
    "    new_path = os.path.join(img_output_dir_path, f)\n",
    "    os.rename(old_path, new_path)"
   ]
  },
  {
   "cell_type": "markdown",
   "metadata": {
    "collapsed": true
   },
   "source": [
    "Delete wrong images from wrong directory"
   ]
  },
  {
   "cell_type": "code",
   "execution_count": 26,
   "metadata": {
    "collapsed": true
   },
   "outputs": [],
   "source": [
    "for f in wrong_list:\n",
    "    remove_file_path = os.path.join(img_wrong_dir_path, f)\n",
    "    os.remove(remove_file_path)"
   ]
  },
  {
   "cell_type": "code",
   "execution_count": 27,
   "metadata": {},
   "outputs": [
    {
     "data": {
      "text/plain": [
       "[]"
      ]
     },
     "execution_count": 27,
     "metadata": {},
     "output_type": "execute_result"
    }
   ],
   "source": [
    "os.listdir(img_wrong_dir_path)"
   ]
  },
  {
   "cell_type": "code",
   "execution_count": null,
   "metadata": {
    "collapsed": true
   },
   "outputs": [],
   "source": []
  },
  {
   "cell_type": "markdown",
   "metadata": {},
   "source": [
    "temp"
   ]
  },
  {
   "cell_type": "code",
   "execution_count": 5,
   "metadata": {},
   "outputs": [
    {
     "name": "stdout",
     "output_type": "stream",
     "text": [
      "134728 rows\n"
     ]
    },
    {
     "data": {
      "text/html": [
       "<div>\n",
       "<style>\n",
       "    .dataframe thead tr:only-child th {\n",
       "        text-align: right;\n",
       "    }\n",
       "\n",
       "    .dataframe thead th {\n",
       "        text-align: left;\n",
       "    }\n",
       "\n",
       "    .dataframe tbody tr th {\n",
       "        vertical-align: top;\n",
       "    }\n",
       "</style>\n",
       "<table border=\"1\" class=\"dataframe\">\n",
       "  <thead>\n",
       "    <tr style=\"text-align: right;\">\n",
       "      <th></th>\n",
       "      <th>img</th>\n",
       "      <th>wheel-axis</th>\n",
       "      <th>clutch</th>\n",
       "      <th>brake</th>\n",
       "      <th>gas</th>\n",
       "      <th>paddle-left</th>\n",
       "      <th>paddle-right</th>\n",
       "      <th>wheel-button-left-1</th>\n",
       "      <th>wheel-button-left-2</th>\n",
       "      <th>wheel-button-left-3</th>\n",
       "      <th>...</th>\n",
       "      <th>gear-1</th>\n",
       "      <th>gear-2</th>\n",
       "      <th>gear-3</th>\n",
       "      <th>gear-4</th>\n",
       "      <th>gear-5</th>\n",
       "      <th>gear-6</th>\n",
       "      <th>gear-R</th>\n",
       "      <th>front</th>\n",
       "      <th>side_left</th>\n",
       "      <th>side_right</th>\n",
       "    </tr>\n",
       "  </thead>\n",
       "  <tbody>\n",
       "    <tr>\n",
       "      <th>0</th>\n",
       "      <td>15be80cb_2017_07_28_22_46_40_26.jpg</td>\n",
       "      <td>0</td>\n",
       "      <td>0</td>\n",
       "      <td>0</td>\n",
       "      <td>0</td>\n",
       "      <td>0</td>\n",
       "      <td>0</td>\n",
       "      <td>0</td>\n",
       "      <td>0</td>\n",
       "      <td>0</td>\n",
       "      <td>...</td>\n",
       "      <td>0.0</td>\n",
       "      <td>0.0</td>\n",
       "      <td>0.0</td>\n",
       "      <td>0.0</td>\n",
       "      <td>0.0</td>\n",
       "      <td>0.0</td>\n",
       "      <td>0.0</td>\n",
       "      <td>15be80cb_2017_07_28_22_46_40_26_front.jpg</td>\n",
       "      <td>15be80cb_2017_07_28_22_46_40_26_left.jpg</td>\n",
       "      <td>15be80cb_2017_07_28_22_46_40_26_right.jpg</td>\n",
       "    </tr>\n",
       "    <tr>\n",
       "      <th>1</th>\n",
       "      <td>15be80cb_2017_07_28_22_46_40_36.jpg</td>\n",
       "      <td>0</td>\n",
       "      <td>0</td>\n",
       "      <td>0</td>\n",
       "      <td>0</td>\n",
       "      <td>0</td>\n",
       "      <td>0</td>\n",
       "      <td>0</td>\n",
       "      <td>0</td>\n",
       "      <td>0</td>\n",
       "      <td>...</td>\n",
       "      <td>0.0</td>\n",
       "      <td>0.0</td>\n",
       "      <td>0.0</td>\n",
       "      <td>0.0</td>\n",
       "      <td>0.0</td>\n",
       "      <td>0.0</td>\n",
       "      <td>0.0</td>\n",
       "      <td>15be80cb_2017_07_28_22_46_40_36_front.jpg</td>\n",
       "      <td>15be80cb_2017_07_28_22_46_40_36_left.jpg</td>\n",
       "      <td>15be80cb_2017_07_28_22_46_40_36_right.jpg</td>\n",
       "    </tr>\n",
       "    <tr>\n",
       "      <th>2</th>\n",
       "      <td>15be80cb_2017_07_28_22_46_40_46.jpg</td>\n",
       "      <td>0</td>\n",
       "      <td>0</td>\n",
       "      <td>55732</td>\n",
       "      <td>0</td>\n",
       "      <td>0</td>\n",
       "      <td>0</td>\n",
       "      <td>0</td>\n",
       "      <td>0</td>\n",
       "      <td>0</td>\n",
       "      <td>...</td>\n",
       "      <td>0.0</td>\n",
       "      <td>0.0</td>\n",
       "      <td>0.0</td>\n",
       "      <td>0.0</td>\n",
       "      <td>0.0</td>\n",
       "      <td>0.0</td>\n",
       "      <td>0.0</td>\n",
       "      <td>15be80cb_2017_07_28_22_46_40_46_front.jpg</td>\n",
       "      <td>15be80cb_2017_07_28_22_46_40_46_left.jpg</td>\n",
       "      <td>15be80cb_2017_07_28_22_46_40_46_right.jpg</td>\n",
       "    </tr>\n",
       "  </tbody>\n",
       "</table>\n",
       "<p>3 rows × 33 columns</p>\n",
       "</div>"
      ],
      "text/plain": [
       "                                   img  wheel-axis  clutch  brake  gas  \\\n",
       "0  15be80cb_2017_07_28_22_46_40_26.jpg           0       0      0    0   \n",
       "1  15be80cb_2017_07_28_22_46_40_36.jpg           0       0      0    0   \n",
       "2  15be80cb_2017_07_28_22_46_40_46.jpg           0       0  55732    0   \n",
       "\n",
       "   paddle-left  paddle-right  wheel-button-left-1  wheel-button-left-2  \\\n",
       "0            0             0                    0                    0   \n",
       "1            0             0                    0                    0   \n",
       "2            0             0                    0                    0   \n",
       "\n",
       "   wheel-button-left-3                    ...                      gear-1  \\\n",
       "0                    0                    ...                         0.0   \n",
       "1                    0                    ...                         0.0   \n",
       "2                    0                    ...                         0.0   \n",
       "\n",
       "   gear-2  gear-3  gear-4  gear-5  gear-6  gear-R  \\\n",
       "0     0.0     0.0     0.0     0.0     0.0     0.0   \n",
       "1     0.0     0.0     0.0     0.0     0.0     0.0   \n",
       "2     0.0     0.0     0.0     0.0     0.0     0.0   \n",
       "\n",
       "                                       front  \\\n",
       "0  15be80cb_2017_07_28_22_46_40_26_front.jpg   \n",
       "1  15be80cb_2017_07_28_22_46_40_36_front.jpg   \n",
       "2  15be80cb_2017_07_28_22_46_40_46_front.jpg   \n",
       "\n",
       "                                  side_left  \\\n",
       "0  15be80cb_2017_07_28_22_46_40_26_left.jpg   \n",
       "1  15be80cb_2017_07_28_22_46_40_36_left.jpg   \n",
       "2  15be80cb_2017_07_28_22_46_40_46_left.jpg   \n",
       "\n",
       "                                  side_right  \n",
       "0  15be80cb_2017_07_28_22_46_40_26_right.jpg  \n",
       "1  15be80cb_2017_07_28_22_46_40_36_right.jpg  \n",
       "2  15be80cb_2017_07_28_22_46_40_46_right.jpg  \n",
       "\n",
       "[3 rows x 33 columns]"
      ]
     },
     "execution_count": 5,
     "metadata": {},
     "output_type": "execute_result"
    }
   ],
   "source": [
    "df = pd.read_csv('../data/csv/final/v2.csv', header=0)\n",
    "old_rows_count = df.shape[0]\n",
    "print(\"%d rows\" % df.shape[0])\n",
    "df.head(3)"
   ]
  },
  {
   "cell_type": "code",
   "execution_count": 6,
   "metadata": {
    "collapsed": true
   },
   "outputs": [],
   "source": [
    "img_list = df['img']"
   ]
  },
  {
   "cell_type": "code",
   "execution_count": 7,
   "metadata": {
    "collapsed": true
   },
   "outputs": [],
   "source": [
    "img_list = [f for f in img_list if '7d590ce8' in f]"
   ]
  },
  {
   "cell_type": "code",
   "execution_count": 9,
   "metadata": {},
   "outputs": [
    {
     "data": {
      "text/plain": [
       "42236"
      ]
     },
     "execution_count": 9,
     "metadata": {},
     "output_type": "execute_result"
    }
   ],
   "source": [
    "len(img_list)"
   ]
  },
  {
   "cell_type": "code",
   "execution_count": 13,
   "metadata": {},
   "outputs": [],
   "source": [
    "for f in img_list:\n",
    "    img_path = '../data/img/raw/7d590ce8/' + f\n",
    "    if not os.path.isfile(img_path):\n",
    "        print f"
   ]
  },
  {
   "cell_type": "code",
   "execution_count": null,
   "metadata": {
    "collapsed": true
   },
   "outputs": [],
   "source": []
  },
  {
   "cell_type": "code",
   "execution_count": null,
   "metadata": {
    "collapsed": true
   },
   "outputs": [],
   "source": []
  }
 ],
 "metadata": {
  "kernelspec": {
   "display_name": "Python [conda root]",
   "language": "python",
   "name": "conda-root-py"
  },
  "language_info": {
   "codemirror_mode": {
    "name": "ipython",
    "version": 2
   },
   "file_extension": ".py",
   "mimetype": "text/x-python",
   "name": "python",
   "nbconvert_exporter": "python",
   "pygments_lexer": "ipython2",
   "version": "2.7.13"
  }
 },
 "nbformat": 4,
 "nbformat_minor": 2
}
